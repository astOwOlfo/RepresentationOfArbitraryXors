{
 "cells": [
  {
   "cell_type": "code",
   "execution_count": 1,
   "metadata": {},
   "outputs": [
    {
     "name": "stdout",
     "output_type": "stream",
     "text": [
      "Requirement already satisfied: jaxlib==0.4.21 in /usr/local/lib/python3.9/dist-packages (0.4.21)\n",
      "Requirement already satisfied: jax==0.4.21 in /usr/local/lib/python3.9/dist-packages (0.4.21)\n",
      "Requirement already satisfied: jaxtyping==0.2.16 in /usr/local/lib/python3.9/dist-packages (0.2.16)\n",
      "Requirement already satisfied: transformer_lens==1.11.0 in /usr/local/lib/python3.9/dist-packages (1.11.0)\n",
      "Requirement already satisfied: scikit-learn==1.3.2 in /usr/local/lib/python3.9/dist-packages (1.3.2)\n",
      "Requirement already satisfied: more_itertools in /usr/local/lib/python3.9/dist-packages (10.2.0)\n",
      "Requirement already satisfied: wget in /usr/local/lib/python3.9/dist-packages (3.2)\n",
      "Requirement already satisfied: plotly in /usr/local/lib/python3.9/dist-packages (5.18.0)\n",
      "Requirement already satisfied: datasets==2.16.1 in /usr/local/lib/python3.9/dist-packages (2.16.1)\n",
      "Requirement already satisfied: numpy>=1.22 in /usr/local/lib/python3.9/dist-packages (from jaxlib==0.4.21) (1.25.2)\n",
      "Requirement already satisfied: ml-dtypes>=0.2.0 in /usr/local/lib/python3.9/dist-packages (from jaxlib==0.4.21) (0.3.2)\n",
      "Requirement already satisfied: scipy>=1.9 in /usr/local/lib/python3.9/dist-packages (from jaxlib==0.4.21) (1.9.2)\n",
      "Requirement already satisfied: opt-einsum in /usr/local/lib/python3.9/dist-packages (from jax==0.4.21) (3.3.0)\n",
      "Requirement already satisfied: importlib-metadata>=4.6 in /usr/local/lib/python3.9/dist-packages (from jax==0.4.21) (6.0.0)\n",
      "Requirement already satisfied: typeguard>=2.13.3 in /usr/local/lib/python3.9/dist-packages (from jaxtyping==0.2.16) (4.1.5)\n",
      "Requirement already satisfied: typing-extensions>=3.7.4.1 in /usr/local/lib/python3.9/dist-packages (from jaxtyping==0.2.16) (4.9.0)\n",
      "Requirement already satisfied: triton>=2.1.0 in /usr/local/lib/python3.9/dist-packages (from transformer_lens==1.11.0) (2.2.0)\n",
      "Requirement already satisfied: nvidia-cufft-cu12>=11.0.2.54 in /usr/local/lib/python3.9/dist-packages (from transformer_lens==1.11.0) (11.0.12.1)\n",
      "Requirement already satisfied: rich>=12.6.0 in /usr/local/lib/python3.9/dist-packages (from transformer_lens==1.11.0) (13.2.0)\n",
      "Requirement already satisfied: accelerate>=0.23.0 in /usr/local/lib/python3.9/dist-packages (from transformer_lens==1.11.0) (0.26.1)\n",
      "Requirement already satisfied: torch!=2.0,!=2.1.0,>=1.10 in /usr/local/lib/python3.9/dist-packages (from transformer_lens==1.11.0) (1.12.1+cu116)\n",
      "Requirement already satisfied: fancy-einsum>=0.0.3 in /usr/local/lib/python3.9/dist-packages (from transformer_lens==1.11.0) (0.0.3)\n",
      "Requirement already satisfied: pandas>=1.1.5 in /usr/local/lib/python3.9/dist-packages (from transformer_lens==1.11.0) (1.5.0)\n",
      "Requirement already satisfied: nvidia-nccl-cu12>=2.18.1 in /usr/local/lib/python3.9/dist-packages (from transformer_lens==1.11.0) (2.19.3)\n",
      "Requirement already satisfied: nvidia-nvtx-cu12>=12.1.105 in /usr/local/lib/python3.9/dist-packages (from transformer_lens==1.11.0) (12.3.101)\n",
      "Requirement already satisfied: nvidia-cudnn-cu12>=8.9.2.26 in /usr/local/lib/python3.9/dist-packages (from transformer_lens==1.11.0) (8.9.7.29)\n",
      "Requirement already satisfied: nvidia-cusparse-cu12>=12.1.0.106 in /usr/local/lib/python3.9/dist-packages (from transformer_lens==1.11.0) (12.2.0.103)\n",
      "Requirement already satisfied: tqdm>=4.64.1 in /usr/local/lib/python3.9/dist-packages (from transformer_lens==1.11.0) (4.64.1)\n",
      "Requirement already satisfied: beartype<0.15.0,>=0.14.1 in /usr/local/lib/python3.9/dist-packages (from transformer_lens==1.11.0) (0.14.1)\n",
      "Requirement already satisfied: transformers>=4.25.1 in /usr/local/lib/python3.9/dist-packages (from transformer_lens==1.11.0) (4.36.2)\n",
      "Requirement already satisfied: nvidia-cublas-cu12>=12.1.3.1 in /usr/local/lib/python3.9/dist-packages (from transformer_lens==1.11.0) (12.3.4.1)\n",
      "Requirement already satisfied: nvidia-curand-cu12>=10.3.2.106 in /usr/local/lib/python3.9/dist-packages (from transformer_lens==1.11.0) (10.3.4.107)\n",
      "Requirement already satisfied: nvidia-cusolver-cu12>=11.4.5.107 in /usr/local/lib/python3.9/dist-packages (from transformer_lens==1.11.0) (11.5.4.101)\n",
      "Requirement already satisfied: einops>=0.6.0 in /usr/local/lib/python3.9/dist-packages (from transformer_lens==1.11.0) (0.7.0)\n",
      "Requirement already satisfied: nvidia-cuda-runtime-cu12>=12.1.105 in /usr/local/lib/python3.9/dist-packages (from transformer_lens==1.11.0) (12.3.101)\n",
      "Requirement already satisfied: wandb>=0.13.5 in /usr/local/lib/python3.9/dist-packages (from transformer_lens==1.11.0) (0.16.2)\n",
      "Requirement already satisfied: nvidia-cuda-nvrtc-cu12>=12.1.105 in /usr/local/lib/python3.9/dist-packages (from transformer_lens==1.11.0) (12.3.107)\n",
      "Requirement already satisfied: nvidia-cuda-cupti-cu12>=12.1.105 in /usr/local/lib/python3.9/dist-packages (from transformer_lens==1.11.0) (12.3.101)\n",
      "Requirement already satisfied: joblib>=1.1.1 in /usr/local/lib/python3.9/dist-packages (from scikit-learn==1.3.2) (1.2.0)\n",
      "Requirement already satisfied: threadpoolctl>=2.0.0 in /usr/local/lib/python3.9/dist-packages (from scikit-learn==1.3.2) (3.1.0)\n",
      "Requirement already satisfied: aiohttp in /usr/local/lib/python3.9/dist-packages (from datasets==2.16.1) (3.8.3)\n",
      "Requirement already satisfied: filelock in /usr/local/lib/python3.9/dist-packages (from datasets==2.16.1) (3.9.0)\n",
      "Requirement already satisfied: fsspec[http]<=2023.10.0,>=2023.1.0 in /usr/local/lib/python3.9/dist-packages (from datasets==2.16.1) (2023.10.0)\n",
      "Requirement already satisfied: xxhash in /usr/local/lib/python3.9/dist-packages (from datasets==2.16.1) (3.2.0)\n",
      "Requirement already satisfied: packaging in /usr/local/lib/python3.9/dist-packages (from datasets==2.16.1) (23.0)\n",
      "Requirement already satisfied: pyarrow>=8.0.0 in /usr/local/lib/python3.9/dist-packages (from datasets==2.16.1) (10.0.1)\n",
      "Requirement already satisfied: pyyaml>=5.1 in /usr/local/lib/python3.9/dist-packages (from datasets==2.16.1) (5.4.1)\n",
      "Requirement already satisfied: multiprocess in /usr/local/lib/python3.9/dist-packages (from datasets==2.16.1) (0.70.13)\n",
      "Requirement already satisfied: requests>=2.19.0 in /usr/local/lib/python3.9/dist-packages (from datasets==2.16.1) (2.28.2)\n",
      "Requirement already satisfied: huggingface-hub>=0.19.4 in /usr/local/lib/python3.9/dist-packages (from datasets==2.16.1) (0.20.2)\n",
      "Requirement already satisfied: dill<0.3.8,>=0.3.0 in /usr/local/lib/python3.9/dist-packages (from datasets==2.16.1) (0.3.5.1)\n",
      "Requirement already satisfied: pyarrow-hotfix in /usr/local/lib/python3.9/dist-packages (from datasets==2.16.1) (0.6)\n",
      "Requirement already satisfied: tenacity>=6.2.0 in /usr/local/lib/python3.9/dist-packages (from plotly) (8.2.3)\n",
      "Requirement already satisfied: safetensors>=0.3.1 in /usr/local/lib/python3.9/dist-packages (from accelerate>=0.23.0->transformer_lens==1.11.0) (0.4.1)\n",
      "Requirement already satisfied: psutil in /usr/local/lib/python3.9/dist-packages (from accelerate>=0.23.0->transformer_lens==1.11.0) (5.9.4)\n",
      "Requirement already satisfied: aiosignal>=1.1.2 in /usr/local/lib/python3.9/dist-packages (from aiohttp->datasets==2.16.1) (1.3.1)\n",
      "Requirement already satisfied: frozenlist>=1.1.1 in /usr/local/lib/python3.9/dist-packages (from aiohttp->datasets==2.16.1) (1.3.3)\n",
      "Requirement already satisfied: charset-normalizer<3.0,>=2.0 in /usr/local/lib/python3.9/dist-packages (from aiohttp->datasets==2.16.1) (2.1.1)\n",
      "Requirement already satisfied: attrs>=17.3.0 in /usr/local/lib/python3.9/dist-packages (from aiohttp->datasets==2.16.1) (18.2.0)\n",
      "Requirement already satisfied: multidict<7.0,>=4.5 in /usr/local/lib/python3.9/dist-packages (from aiohttp->datasets==2.16.1) (6.0.4)\n",
      "Requirement already satisfied: async-timeout<5.0,>=4.0.0a3 in /usr/local/lib/python3.9/dist-packages (from aiohttp->datasets==2.16.1) (4.0.2)\n",
      "Requirement already satisfied: yarl<2.0,>=1.0 in /usr/local/lib/python3.9/dist-packages (from aiohttp->datasets==2.16.1) (1.8.2)\n",
      "Requirement already satisfied: zipp>=0.5 in /usr/local/lib/python3.9/dist-packages (from importlib-metadata>=4.6->jax==0.4.21) (3.11.0)\n",
      "Requirement already satisfied: nvidia-nvjitlink-cu12 in /usr/local/lib/python3.9/dist-packages (from nvidia-cusolver-cu12>=11.4.5.107->transformer_lens==1.11.0) (12.3.101)\n",
      "Requirement already satisfied: python-dateutil>=2.8.1 in /usr/local/lib/python3.9/dist-packages (from pandas>=1.1.5->transformer_lens==1.11.0) (2.8.2)\n",
      "Requirement already satisfied: pytz>=2020.1 in /usr/local/lib/python3.9/dist-packages (from pandas>=1.1.5->transformer_lens==1.11.0) (2022.7.1)\n",
      "Requirement already satisfied: certifi>=2017.4.17 in /usr/lib/python3/dist-packages (from requests>=2.19.0->datasets==2.16.1) (2019.11.28)\n",
      "Requirement already satisfied: urllib3<1.27,>=1.21.1 in /usr/local/lib/python3.9/dist-packages (from requests>=2.19.0->datasets==2.16.1) (1.26.14)\n",
      "Requirement already satisfied: idna<4,>=2.5 in /usr/lib/python3/dist-packages (from requests>=2.19.0->datasets==2.16.1) (2.8)\n",
      "Requirement already satisfied: markdown-it-py<3.0.0,>=2.1.0 in /usr/local/lib/python3.9/dist-packages (from rich>=12.6.0->transformer_lens==1.11.0) (2.1.0)\n",
      "Requirement already satisfied: pygments<3.0.0,>=2.6.0 in /usr/local/lib/python3.9/dist-packages (from rich>=12.6.0->transformer_lens==1.11.0) (2.14.0)\n",
      "Requirement already satisfied: tokenizers<0.19,>=0.14 in /usr/local/lib/python3.9/dist-packages (from transformers>=4.25.1->transformer_lens==1.11.0) (0.15.0)\n",
      "Requirement already satisfied: regex!=2019.12.17 in /usr/local/lib/python3.9/dist-packages (from transformers>=4.25.1->transformer_lens==1.11.0) (2022.10.31)\n",
      "Requirement already satisfied: docker-pycreds>=0.4.0 in /usr/local/lib/python3.9/dist-packages (from wandb>=0.13.5->transformer_lens==1.11.0) (0.4.0)\n",
      "Requirement already satisfied: sentry-sdk>=1.0.0 in /usr/local/lib/python3.9/dist-packages (from wandb>=0.13.5->transformer_lens==1.11.0) (1.14.0)\n",
      "Requirement already satisfied: protobuf!=4.21.0,<5,>=3.15.0 in /usr/local/lib/python3.9/dist-packages (from wandb>=0.13.5->transformer_lens==1.11.0) (3.19.6)\n",
      "Requirement already satisfied: setproctitle in /usr/local/lib/python3.9/dist-packages (from wandb>=0.13.5->transformer_lens==1.11.0) (1.3.2)\n",
      "Requirement already satisfied: appdirs>=1.4.3 in /usr/local/lib/python3.9/dist-packages (from wandb>=0.13.5->transformer_lens==1.11.0) (1.4.4)\n",
      "Requirement already satisfied: GitPython!=3.1.29,>=1.0.0 in /usr/local/lib/python3.9/dist-packages (from wandb>=0.13.5->transformer_lens==1.11.0) (3.1.30)\n",
      "Requirement already satisfied: Click!=8.0.0,>=7.1 in /usr/local/lib/python3.9/dist-packages (from wandb>=0.13.5->transformer_lens==1.11.0) (8.1.3)\n",
      "Requirement already satisfied: setuptools in /usr/local/lib/python3.9/dist-packages (from wandb>=0.13.5->transformer_lens==1.11.0) (66.1.1)\n",
      "Requirement already satisfied: six>=1.4.0 in /usr/lib/python3/dist-packages (from docker-pycreds>=0.4.0->wandb>=0.13.5->transformer_lens==1.11.0) (1.14.0)\n",
      "Requirement already satisfied: gitdb<5,>=4.0.1 in /usr/local/lib/python3.9/dist-packages (from GitPython!=3.1.29,>=1.0.0->wandb>=0.13.5->transformer_lens==1.11.0) (4.0.10)\n",
      "Requirement already satisfied: mdurl~=0.1 in /usr/local/lib/python3.9/dist-packages (from markdown-it-py<3.0.0,>=2.1.0->rich>=12.6.0->transformer_lens==1.11.0) (0.1.2)\n",
      "Requirement already satisfied: smmap<6,>=3.0.1 in /usr/local/lib/python3.9/dist-packages (from gitdb<5,>=4.0.1->GitPython!=3.1.29,>=1.0.0->wandb>=0.13.5->transformer_lens==1.11.0) (5.0.0)\n",
      "\u001b[33mWARNING: Running pip as the 'root' user can result in broken permissions and conflicting behaviour with the system package manager. It is recommended to use a virtual environment instead: https://pip.pypa.io/warnings/venv\u001b[0m\u001b[33m\n",
      "\u001b[0m"
     ]
    }
   ],
   "source": [
    "!pip install jaxlib==0.4.21 jax==0.4.21 jaxtyping==0.2.16 transformer_lens==1.11.0 scikit-learn==1.3.2 more_itertools wget plotly datasets#==2.16.1"
   ]
  },
  {
   "cell_type": "code",
   "execution_count": 2,
   "metadata": {},
   "outputs": [],
   "source": [
    "from tqdm import tqdm\n",
    "from transformer_lens import HookedTransformer\n",
    "from datasets import load_dataset\n",
    "import torch\n",
    "from torch import inference_mode, empty, tensor, Generator, Tensor\n",
    "from torch.nn import Linear\n",
    "from torch.nn.functional import binary_cross_entropy_with_logits\n",
    "from torch.utils.data import Dataset, random_split, DataLoader\n",
    "from sklearn.linear_model import LogisticRegression\n",
    "import itertools\n",
    "from more_itertools import pairwise\n",
    "import pickle\n",
    "import csv\n",
    "import wget\n",
    "from os.path import isfile, isdir\n",
    "from os import mkdir\n",
    "import random\n",
    "from statistics import mean\n",
    "from plotly.graph_objects import Figure, Scatter, Bar, Layout\n",
    "from typing import Dict, Any, Iterable"
   ]
  },
  {
   "cell_type": "code",
   "execution_count": 3,
   "metadata": {},
   "outputs": [
    {
     "name": "stdout",
     "output_type": "stream",
     "text": [
      "using cuda\n"
     ]
    }
   ],
   "source": [
    "device = \"cuda\" if torch.cuda.is_available() else \"cpu\"\n",
    "print(\"using\", device)"
   ]
  },
  {
   "cell_type": "code",
   "execution_count": 4,
   "metadata": {},
   "outputs": [],
   "source": [
    "def all_equal(xs):\n",
    "    return all(current == next for current, next in pairwise(xs))\n",
    "\n",
    "class ListDataset(Dataset):\n",
    "    def __init__(self, *lists):\n",
    "        self.lists = tuple(lists)\n",
    "        assert all_equal(len(list) for list in self.lists)\n",
    "\n",
    "    def __len__(self):\n",
    "        return len(self.lists[0])\n",
    "    \n",
    "    def __getitem__(self, indices):\n",
    "        return tuple(list[indices] for list in self.lists)\n",
    "\n",
    "def all_equal(xs):\n",
    "    return all(current == next for current, next in pairwise(xs))\n",
    "\n",
    "class DictTensorDataset(Dataset):\n",
    "    def __init__(self, tensors: Dict[Any, Tensor]):\n",
    "        assert all_equal(tensor.size(0) for tensor in tensors.values()), \"Size mismatch between tensors\"\n",
    "        self.tensors = tensors\n",
    "\n",
    "    def __len__(self):\n",
    "        return next(iter(self.tensors.values())).size(0)\n",
    "\n",
    "    def __getitem__(self, index):\n",
    "        return {key: tensor[index] for key, tensor in self.tensors.items()}\n",
    "\n",
    "def dict_collate_fn(dicts: Iterable[Dict[Any, Tensor]]):\n",
    "    if not isinstance(dicts, list):\n",
    "        dicts = list(dicts)\n",
    "\n",
    "    collated = { key: empty(len(dicts), *tensor.shape)\n",
    "                 for key, tensor in dicts[0].items() }\n",
    "\n",
    "    for i, dict in enumerate(dicts):\n",
    "        for key, tensor in dict.items():\n",
    "            collated[key][i, :] = tensor\n",
    "\n",
    "    return collated"
   ]
  },
  {
   "cell_type": "code",
   "execution_count": 5,
   "metadata": {},
   "outputs": [],
   "source": [
    "sentence_dataset_urls = { \"things\":      { \"positive\": \"https://raw.githubusercontent.com/astOwOlfo/RepresentationOfArbitraryXors/main/data/things.csv\",\n",
    "                                           \"negative\": \"https://raw.githubusercontent.com/astOwOlfo/RepresentationOfArbitraryXors/main/data/neg_things.csv\" },\n",
    "                          \"cities\":      { \"positive\": \"https://raw.githubusercontent.com/saprmarks/geometry-of-truth/main/datasets/cities.csv\",\n",
    "                                           \"negative\": \"https://raw.githubusercontent.com/saprmarks/geometry-of-truth/main/datasets/neg_cities.csv\" },\n",
    "                          \"larger_than\": { \"positive\": \"https://raw.githubusercontent.com/saprmarks/geometry-of-truth/main/datasets/larger_than.csv\",\n",
    "                                           \"negative\": \"https://raw.githubusercontent.com/saprmarks/geometry-of-truth/main/datasets/smaller_than.csv\" } }\n",
    "\n",
    "def load_sentence_dataset(dataset_name):\n",
    "    if not isdir(\"data\"):\n",
    "        mkdir(\"data\")\n",
    "    positive_filename = f\"data/{dataset_name}.csv\"\n",
    "    negative_filename = f\"data/neg_{dataset_name}.csv\"\n",
    "    \n",
    "    if dataset_name in sentence_dataset_urls:\n",
    "        if not isfile(positive_filename):\n",
    "            print(f\"downloading file '{positive_filename}'\")\n",
    "            wget.download(sentence_dataset_urls[dataset_name][\"positive\"], out=positive_filename)\n",
    "        if not isfile(negative_filename):\n",
    "            print(f\"downloading file '{negative_filename}'\")\n",
    "            wget.download(sentence_dataset_urls[dataset_name][\"negative\"], out=negative_filename)\n",
    "    \n",
    "    if not (isfile(positive_filename) and isfile(negative_filename)):\n",
    "        raise(ValueError(f\"No such dataset '{dataset_name}'.\"))\n",
    "    \n",
    "    sentences_and_labels = []\n",
    "    labels = []\n",
    "    \n",
    "    for positive in [True, False]:\n",
    "        filename = positive_filename if positive else negative_filename\n",
    "        with open(filename, \"r\") as f:\n",
    "            for row in csv.DictReader(f):\n",
    "                sentence = row[\"statement\"]\n",
    "                correct = bool(int(row[\"label\"]))\n",
    "\n",
    "                alice = random.choice([True, False])\n",
    "                if alice:\n",
    "                    sentence = \"Alice: \" + sentence\n",
    "                else:\n",
    "                    sentence = \"Bob: \" + sentence\n",
    "\n",
    "                labels = { \"alice\": alice,\n",
    "                           \"not\": not positive,\n",
    "                           \"correct\": correct }\n",
    "                \n",
    "                sentences_and_labels.append((sentence, labels))\n",
    "\n",
    "    random.shuffle(sentences_and_labels)\n",
    "\n",
    "    sentences = [sentence for sentence, labels in sentences_and_labels]                \n",
    "    labels    = [label    for sentence, label in sentences_and_labels] \n",
    "    return ListDataset(sentences, labels)"
   ]
  },
  {
   "cell_type": "code",
   "execution_count": 6,
   "metadata": {},
   "outputs": [],
   "source": [
    "def collect_activations(model, dataset, tqdm_=True, tqdm_desc=None):\n",
    "    model.eval()\n",
    "    activations = empty(len(dataset), model.cfg.n_layers, model.cfg.d_model)\n",
    "    for i_sentence, (sentence, _) in enumerate(tqdm(dataset, desc=tqdm_desc)) if tqdm_ else enumerate(dataset):\n",
    "        _, sentence_activations = model.run_with_cache(sentence)\n",
    "        for i_layer in range(model.cfg.n_layers):\n",
    "            activations[i_sentence, i_layer, :] = sentence_activations[f\"blocks.{i_layer}.hook_resid_post\"].squeeze(0)[-1, :].detach().cpu()\n",
    "    return activations\n",
    "\n",
    "def activations_at_layer(activations, layer):\n",
    "    return activations[:, layer, :]\n",
    "\n",
    "LABELS = [\"alice\", \"not\", \"correct\", \"alice_xor_not\", \"alice_xor_correct\", \"not_xor_correct\", \"alice_xor_not_xor_correct\"]\n",
    "\n",
    "def make_activations_dataset(model, dataset, split=None, split_seed=42, tqdm_=True, tqdm_desc=None):\n",
    "    activations = collect_activations(model, dataset, tqdm_=tqdm_, tqdm_desc=tqdm_desc)\n",
    "\n",
    "    labels_alice   = tensor([lbl[\"alice\"]   for _, lbl in dataset]).unsqueeze(-1)\n",
    "    labels_not     = tensor([lbl[\"not\"]     for _, lbl in dataset]).unsqueeze(-1)\n",
    "    labels_correct = tensor([lbl[\"correct\"] for _, lbl in dataset]).unsqueeze(-1)\n",
    "\n",
    "    activations_dataset = DictTensorDataset({ \"activations\": activations,\n",
    "                                              \"alice\": labels_alice,\n",
    "                                              \"not\": labels_not,\n",
    "                                              \"correct\": labels_correct,\n",
    "                                              \"alice_xor_not\": labels_alice.logical_xor(labels_not),\n",
    "                                              \"alice_xor_correct\": labels_alice.logical_xor(labels_correct),\n",
    "                                              \"not_xor_correct\": labels_not.logical_xor(labels_correct),\n",
    "                                              \"alice_xor_not_xor_correct\": labels_alice.logical_xor(labels_not).logical_xor(labels_correct) })\n",
    "\n",
    "    if split is None:\n",
    "        return activations_dataset\n",
    "    else:\n",
    "        return random_split(activations_dataset, split, generator=Generator().manual_seed(split_seed))"
   ]
  },
  {
   "cell_type": "code",
   "execution_count": 7,
   "metadata": {},
   "outputs": [],
   "source": [
    "def add_model_to_transformer_lens(official_name, alias=None):\n",
    "    if alias is None:\n",
    "        alias = official_name\n",
    "\n",
    "    from transformer_lens.loading_from_pretrained import OFFICIAL_MODEL_NAMES, MODEL_ALIASES\n",
    "    OFFICIAL_MODEL_NAMES.append(official_name)\n",
    "    MODEL_ALIASES[official_name] = [alias]\n",
    "\n",
    "add_model_to_transformer_lens(\"EleutherAI/pythia-160m-alldropout\")\n",
    "add_model_to_transformer_lens(\"EleutherAI/pythia-160m-attndropout\")\n",
    "add_model_to_transformer_lens(\"EleutherAI/pythia-160m-hiddendropout\")"
   ]
  },
  {
   "cell_type": "code",
   "execution_count": 8,
   "metadata": {},
   "outputs": [
    {
     "name": "stderr",
     "output_type": "stream",
     "text": [
      "Special tokens have been added in the vocabulary, make sure the associated word embeddings are fine-tuned or trained.\n"
     ]
    },
    {
     "name": "stdout",
     "output_type": "stream",
     "text": [
      "Loaded pretrained model EleutherAI/pythia-160m-alldropout into HookedTransformer\n",
      "Moving model to device:  cuda\n"
     ]
    },
    {
     "name": "stderr",
     "output_type": "stream",
     "text": [
      "Special tokens have been added in the vocabulary, make sure the associated word embeddings are fine-tuned or trained.\n"
     ]
    },
    {
     "name": "stdout",
     "output_type": "stream",
     "text": [
      "Loaded pretrained model EleutherAI/pythia-160m-attndropout into HookedTransformer\n",
      "Moving model to device:  cuda\n"
     ]
    },
    {
     "name": "stderr",
     "output_type": "stream",
     "text": [
      "Special tokens have been added in the vocabulary, make sure the associated word embeddings are fine-tuned or trained.\n"
     ]
    },
    {
     "name": "stdout",
     "output_type": "stream",
     "text": [
      "Loaded pretrained model EleutherAI/pythia-160m-hiddendropout into HookedTransformer\n",
      "Moving model to device:  cuda\n"
     ]
    },
    {
     "name": "stderr",
     "output_type": "stream",
     "text": [
      "Special tokens have been added in the vocabulary, make sure the associated word embeddings are fine-tuned or trained.\n"
     ]
    },
    {
     "name": "stdout",
     "output_type": "stream",
     "text": [
      "Loaded pretrained model EleutherAI/pythia-160m into HookedTransformer\n",
      "Moving model to device:  cuda\n"
     ]
    }
   ],
   "source": [
    "models = { key: HookedTransformer.from_pretrained(name).to(device)\n",
    "           for key, name in [ (\"all-dropout\",    \"EleutherAI/pythia-160m-alldropout\"),\n",
    "                              (\"attn-dropout\",   \"EleutherAI/pythia-160m-attndropout\"),\n",
    "                              (\"hidden-dropout\", \"EleutherAI/pythia-160m-hiddendropout\"),\n",
    "                              (\"no-dropout\",     \"EleutherAI/pythia-160m\"), ] }"
   ]
  },
  {
   "cell_type": "code",
   "execution_count": 9,
   "metadata": {},
   "outputs": [
    {
     "name": "stdout",
     "output_type": "stream",
     "text": [
      "dmodel 768 model size 162334848\n"
     ]
    }
   ],
   "source": [
    "def model_numel(model):\n",
    "    return sum(param.data.numel() for param in model.parameters())\n",
    "\n",
    "assert all_equal(model.cfg.d_model for model in models.values())\n",
    "assert all_equal(model_numel(model) for model in models.values())\n",
    "\n",
    "print(\"dmodel\", next(iter(models.values())).cfg.d_model, \"model size\", model_numel(next(iter(models.values()))))"
   ]
  },
  {
   "cell_type": "code",
   "execution_count": 10,
   "metadata": {},
   "outputs": [
    {
     "name": "stdout",
     "output_type": "stream",
     "text": [
      "Check manually that those generated texts are coherent:\n"
     ]
    },
    {
     "data": {
      "application/vnd.jupyter.widget-view+json": {
       "model_id": "2eeeaacc6308473096b282d8f7477724",
       "version_major": 2,
       "version_minor": 0
      },
      "text/plain": [
       "  0%|          | 0/100 [00:00<?, ?it/s]"
      ]
     },
     "metadata": {},
     "output_type": "display_data"
    },
    {
     "name": "stdout",
     "output_type": "stream",
     "text": [
      "all-dropout: I went to the WPC 2015 with a wireframe (only open execution via dotnet) but it just isn't let because I don't have paths to anything other than the jig. I went to an Open Platform IP Teleconference on the 8th of September 2015, but it seems the meeting consisted of a lot of stagnating servers, thus I would have missed a huge opportunity of disconnecting clients. I'm really not sure about having the pulse off as that would lead to white bread bandwidth cuts,\n"
     ]
    },
    {
     "data": {
      "application/vnd.jupyter.widget-view+json": {
       "model_id": "a72babdad77f461fae7b82828d85d2ac",
       "version_major": 2,
       "version_minor": 0
      },
      "text/plain": [
       "  0%|          | 0/100 [00:00<?, ?it/s]"
      ]
     },
     "metadata": {},
     "output_type": "display_data"
    },
    {
     "name": "stdout",
     "output_type": "stream",
     "text": [
      "attn-dropout: I went to the\n",
      "\n",
      "Bookstore\n",
      "\n",
      "the bookstore is the newspaper run by James Broadbent who writes about most contemporary human races. It is a classic-novel steampunk because there are giants in graphic lion this book is a story of the living. The narrative focuses on the progression of Machiavellianism as a response to political oppression. Each book tells up how individual violence was portrayed, including the Creation Series, residuals, and subplots such as Men, Dogs, The Gods, Total\n"
     ]
    },
    {
     "data": {
      "application/vnd.jupyter.widget-view+json": {
       "model_id": "8fc727956d234bee8531441702ea1c74",
       "version_major": 2,
       "version_minor": 0
      },
      "text/plain": [
       "  0%|          | 0/100 [00:00<?, ?it/s]"
      ]
     },
     "metadata": {},
     "output_type": "display_data"
    },
    {
     "name": "stdout",
     "output_type": "stream",
     "text": [
      "hidden-dropout: I went to the Mac grocery store and I noticed that there were Apple Books at home. The contents here were \"blockbuster\" for Apple. In my culture, most non-read books in stores that are full of books provide enough for some low price. Specifically, you need to read non-read book. Kalani insists in that we need more books because more people are browsing versions of Black Sabbath. He's summed it up by saying, Steve Koontz, if \"Scalia must suffer the\n"
     ]
    },
    {
     "data": {
      "application/vnd.jupyter.widget-view+json": {
       "model_id": "c54a57ecd52b48b6b82292d584771f27",
       "version_major": 2,
       "version_minor": 0
      },
      "text/plain": [
       "  0%|          | 0/100 [00:00<?, ?it/s]"
      ]
     },
     "metadata": {},
     "output_type": "display_data"
    },
    {
     "name": "stdout",
     "output_type": "stream",
     "text": [
      "no-dropout: I went to the archives. Read this article two days ago there you have read in that there are so many missing information. You will find about questdings of IVF in my archives on divineworld Channel year-end 713-679-7. If you follow my program http://heartientonsite.com/clickaboutthing do share my YouTube channel and I will be going to make stop and say that this is no known because that there are many novel authors who are quoted in news reports. You will also\n"
     ]
    }
   ],
   "source": [
    "print(\"Check manually that those generated texts are coherent:\")\n",
    "for model_type, model in models.items():\n",
    "    print(f\"{model_type}:\", model.generate(\"I went to the\", max_new_tokens=100))    "
   ]
  },
  {
   "cell_type": "code",
   "execution_count": 22,
   "metadata": {},
   "outputs": [
    {
     "name": "stderr",
     "output_type": "stream",
     "text": [
      "all-dropout: 100%|██████████| 10000/10000 [21:39<00:00,  7.70it/s]\n",
      "attn-dropout: 100%|██████████| 10000/10000 [21:41<00:00,  7.68it/s]\n",
      "hidden-dropout: 100%|██████████| 10000/10000 [21:36<00:00,  7.71it/s]\n",
      "no-dropout: 100%|██████████| 10000/10000 [21:39<00:00,  7.69it/s]\n"
     ]
    },
    {
     "data": {
      "application/vnd.plotly.v1+json": {
       "config": {
        "plotlyServerURL": "https://plot.ly"
       },
       "data": [
        {
         "text": [
          "3.1135110688991845",
          "3.0688299031883477",
          "3.0674285980992018",
          "3.115814567191154"
         ],
         "textposition": "auto",
         "type": "bar",
         "x": [
          "all-dropout",
          "attn-dropout",
          "hidden-dropout",
          "no-dropout"
         ],
         "y": [
          3.1135110688991845,
          3.0688299031883477,
          3.0674285980992018,
          3.115814567191154
         ]
        }
       ],
       "layout": {
        "template": {
         "data": {
          "bar": [
           {
            "error_x": {
             "color": "#2a3f5f"
            },
            "error_y": {
             "color": "#2a3f5f"
            },
            "marker": {
             "line": {
              "color": "#E5ECF6",
              "width": 0.5
             },
             "pattern": {
              "fillmode": "overlay",
              "size": 10,
              "solidity": 0.2
             }
            },
            "type": "bar"
           }
          ],
          "barpolar": [
           {
            "marker": {
             "line": {
              "color": "#E5ECF6",
              "width": 0.5
             },
             "pattern": {
              "fillmode": "overlay",
              "size": 10,
              "solidity": 0.2
             }
            },
            "type": "barpolar"
           }
          ],
          "carpet": [
           {
            "aaxis": {
             "endlinecolor": "#2a3f5f",
             "gridcolor": "white",
             "linecolor": "white",
             "minorgridcolor": "white",
             "startlinecolor": "#2a3f5f"
            },
            "baxis": {
             "endlinecolor": "#2a3f5f",
             "gridcolor": "white",
             "linecolor": "white",
             "minorgridcolor": "white",
             "startlinecolor": "#2a3f5f"
            },
            "type": "carpet"
           }
          ],
          "choropleth": [
           {
            "colorbar": {
             "outlinewidth": 0,
             "ticks": ""
            },
            "type": "choropleth"
           }
          ],
          "contour": [
           {
            "colorbar": {
             "outlinewidth": 0,
             "ticks": ""
            },
            "colorscale": [
             [
              0,
              "#0d0887"
             ],
             [
              0.1111111111111111,
              "#46039f"
             ],
             [
              0.2222222222222222,
              "#7201a8"
             ],
             [
              0.3333333333333333,
              "#9c179e"
             ],
             [
              0.4444444444444444,
              "#bd3786"
             ],
             [
              0.5555555555555556,
              "#d8576b"
             ],
             [
              0.6666666666666666,
              "#ed7953"
             ],
             [
              0.7777777777777778,
              "#fb9f3a"
             ],
             [
              0.8888888888888888,
              "#fdca26"
             ],
             [
              1,
              "#f0f921"
             ]
            ],
            "type": "contour"
           }
          ],
          "contourcarpet": [
           {
            "colorbar": {
             "outlinewidth": 0,
             "ticks": ""
            },
            "type": "contourcarpet"
           }
          ],
          "heatmap": [
           {
            "colorbar": {
             "outlinewidth": 0,
             "ticks": ""
            },
            "colorscale": [
             [
              0,
              "#0d0887"
             ],
             [
              0.1111111111111111,
              "#46039f"
             ],
             [
              0.2222222222222222,
              "#7201a8"
             ],
             [
              0.3333333333333333,
              "#9c179e"
             ],
             [
              0.4444444444444444,
              "#bd3786"
             ],
             [
              0.5555555555555556,
              "#d8576b"
             ],
             [
              0.6666666666666666,
              "#ed7953"
             ],
             [
              0.7777777777777778,
              "#fb9f3a"
             ],
             [
              0.8888888888888888,
              "#fdca26"
             ],
             [
              1,
              "#f0f921"
             ]
            ],
            "type": "heatmap"
           }
          ],
          "heatmapgl": [
           {
            "colorbar": {
             "outlinewidth": 0,
             "ticks": ""
            },
            "colorscale": [
             [
              0,
              "#0d0887"
             ],
             [
              0.1111111111111111,
              "#46039f"
             ],
             [
              0.2222222222222222,
              "#7201a8"
             ],
             [
              0.3333333333333333,
              "#9c179e"
             ],
             [
              0.4444444444444444,
              "#bd3786"
             ],
             [
              0.5555555555555556,
              "#d8576b"
             ],
             [
              0.6666666666666666,
              "#ed7953"
             ],
             [
              0.7777777777777778,
              "#fb9f3a"
             ],
             [
              0.8888888888888888,
              "#fdca26"
             ],
             [
              1,
              "#f0f921"
             ]
            ],
            "type": "heatmapgl"
           }
          ],
          "histogram": [
           {
            "marker": {
             "pattern": {
              "fillmode": "overlay",
              "size": 10,
              "solidity": 0.2
             }
            },
            "type": "histogram"
           }
          ],
          "histogram2d": [
           {
            "colorbar": {
             "outlinewidth": 0,
             "ticks": ""
            },
            "colorscale": [
             [
              0,
              "#0d0887"
             ],
             [
              0.1111111111111111,
              "#46039f"
             ],
             [
              0.2222222222222222,
              "#7201a8"
             ],
             [
              0.3333333333333333,
              "#9c179e"
             ],
             [
              0.4444444444444444,
              "#bd3786"
             ],
             [
              0.5555555555555556,
              "#d8576b"
             ],
             [
              0.6666666666666666,
              "#ed7953"
             ],
             [
              0.7777777777777778,
              "#fb9f3a"
             ],
             [
              0.8888888888888888,
              "#fdca26"
             ],
             [
              1,
              "#f0f921"
             ]
            ],
            "type": "histogram2d"
           }
          ],
          "histogram2dcontour": [
           {
            "colorbar": {
             "outlinewidth": 0,
             "ticks": ""
            },
            "colorscale": [
             [
              0,
              "#0d0887"
             ],
             [
              0.1111111111111111,
              "#46039f"
             ],
             [
              0.2222222222222222,
              "#7201a8"
             ],
             [
              0.3333333333333333,
              "#9c179e"
             ],
             [
              0.4444444444444444,
              "#bd3786"
             ],
             [
              0.5555555555555556,
              "#d8576b"
             ],
             [
              0.6666666666666666,
              "#ed7953"
             ],
             [
              0.7777777777777778,
              "#fb9f3a"
             ],
             [
              0.8888888888888888,
              "#fdca26"
             ],
             [
              1,
              "#f0f921"
             ]
            ],
            "type": "histogram2dcontour"
           }
          ],
          "mesh3d": [
           {
            "colorbar": {
             "outlinewidth": 0,
             "ticks": ""
            },
            "type": "mesh3d"
           }
          ],
          "parcoords": [
           {
            "line": {
             "colorbar": {
              "outlinewidth": 0,
              "ticks": ""
             }
            },
            "type": "parcoords"
           }
          ],
          "pie": [
           {
            "automargin": true,
            "type": "pie"
           }
          ],
          "scatter": [
           {
            "fillpattern": {
             "fillmode": "overlay",
             "size": 10,
             "solidity": 0.2
            },
            "type": "scatter"
           }
          ],
          "scatter3d": [
           {
            "line": {
             "colorbar": {
              "outlinewidth": 0,
              "ticks": ""
             }
            },
            "marker": {
             "colorbar": {
              "outlinewidth": 0,
              "ticks": ""
             }
            },
            "type": "scatter3d"
           }
          ],
          "scattercarpet": [
           {
            "marker": {
             "colorbar": {
              "outlinewidth": 0,
              "ticks": ""
             }
            },
            "type": "scattercarpet"
           }
          ],
          "scattergeo": [
           {
            "marker": {
             "colorbar": {
              "outlinewidth": 0,
              "ticks": ""
             }
            },
            "type": "scattergeo"
           }
          ],
          "scattergl": [
           {
            "marker": {
             "colorbar": {
              "outlinewidth": 0,
              "ticks": ""
             }
            },
            "type": "scattergl"
           }
          ],
          "scattermapbox": [
           {
            "marker": {
             "colorbar": {
              "outlinewidth": 0,
              "ticks": ""
             }
            },
            "type": "scattermapbox"
           }
          ],
          "scatterpolar": [
           {
            "marker": {
             "colorbar": {
              "outlinewidth": 0,
              "ticks": ""
             }
            },
            "type": "scatterpolar"
           }
          ],
          "scatterpolargl": [
           {
            "marker": {
             "colorbar": {
              "outlinewidth": 0,
              "ticks": ""
             }
            },
            "type": "scatterpolargl"
           }
          ],
          "scatterternary": [
           {
            "marker": {
             "colorbar": {
              "outlinewidth": 0,
              "ticks": ""
             }
            },
            "type": "scatterternary"
           }
          ],
          "surface": [
           {
            "colorbar": {
             "outlinewidth": 0,
             "ticks": ""
            },
            "colorscale": [
             [
              0,
              "#0d0887"
             ],
             [
              0.1111111111111111,
              "#46039f"
             ],
             [
              0.2222222222222222,
              "#7201a8"
             ],
             [
              0.3333333333333333,
              "#9c179e"
             ],
             [
              0.4444444444444444,
              "#bd3786"
             ],
             [
              0.5555555555555556,
              "#d8576b"
             ],
             [
              0.6666666666666666,
              "#ed7953"
             ],
             [
              0.7777777777777778,
              "#fb9f3a"
             ],
             [
              0.8888888888888888,
              "#fdca26"
             ],
             [
              1,
              "#f0f921"
             ]
            ],
            "type": "surface"
           }
          ],
          "table": [
           {
            "cells": {
             "fill": {
              "color": "#EBF0F8"
             },
             "line": {
              "color": "white"
             }
            },
            "header": {
             "fill": {
              "color": "#C8D4E3"
             },
             "line": {
              "color": "white"
             }
            },
            "type": "table"
           }
          ]
         },
         "layout": {
          "annotationdefaults": {
           "arrowcolor": "#2a3f5f",
           "arrowhead": 0,
           "arrowwidth": 1
          },
          "autotypenumbers": "strict",
          "coloraxis": {
           "colorbar": {
            "outlinewidth": 0,
            "ticks": ""
           }
          },
          "colorscale": {
           "diverging": [
            [
             0,
             "#8e0152"
            ],
            [
             0.1,
             "#c51b7d"
            ],
            [
             0.2,
             "#de77ae"
            ],
            [
             0.3,
             "#f1b6da"
            ],
            [
             0.4,
             "#fde0ef"
            ],
            [
             0.5,
             "#f7f7f7"
            ],
            [
             0.6,
             "#e6f5d0"
            ],
            [
             0.7,
             "#b8e186"
            ],
            [
             0.8,
             "#7fbc41"
            ],
            [
             0.9,
             "#4d9221"
            ],
            [
             1,
             "#276419"
            ]
           ],
           "sequential": [
            [
             0,
             "#0d0887"
            ],
            [
             0.1111111111111111,
             "#46039f"
            ],
            [
             0.2222222222222222,
             "#7201a8"
            ],
            [
             0.3333333333333333,
             "#9c179e"
            ],
            [
             0.4444444444444444,
             "#bd3786"
            ],
            [
             0.5555555555555556,
             "#d8576b"
            ],
            [
             0.6666666666666666,
             "#ed7953"
            ],
            [
             0.7777777777777778,
             "#fb9f3a"
            ],
            [
             0.8888888888888888,
             "#fdca26"
            ],
            [
             1,
             "#f0f921"
            ]
           ],
           "sequentialminus": [
            [
             0,
             "#0d0887"
            ],
            [
             0.1111111111111111,
             "#46039f"
            ],
            [
             0.2222222222222222,
             "#7201a8"
            ],
            [
             0.3333333333333333,
             "#9c179e"
            ],
            [
             0.4444444444444444,
             "#bd3786"
            ],
            [
             0.5555555555555556,
             "#d8576b"
            ],
            [
             0.6666666666666666,
             "#ed7953"
            ],
            [
             0.7777777777777778,
             "#fb9f3a"
            ],
            [
             0.8888888888888888,
             "#fdca26"
            ],
            [
             1,
             "#f0f921"
            ]
           ]
          },
          "colorway": [
           "#636efa",
           "#EF553B",
           "#00cc96",
           "#ab63fa",
           "#FFA15A",
           "#19d3f3",
           "#FF6692",
           "#B6E880",
           "#FF97FF",
           "#FECB52"
          ],
          "font": {
           "color": "#2a3f5f"
          },
          "geo": {
           "bgcolor": "white",
           "lakecolor": "white",
           "landcolor": "#E5ECF6",
           "showlakes": true,
           "showland": true,
           "subunitcolor": "white"
          },
          "hoverlabel": {
           "align": "left"
          },
          "hovermode": "closest",
          "mapbox": {
           "style": "light"
          },
          "paper_bgcolor": "white",
          "plot_bgcolor": "#E5ECF6",
          "polar": {
           "angularaxis": {
            "gridcolor": "white",
            "linecolor": "white",
            "ticks": ""
           },
           "bgcolor": "#E5ECF6",
           "radialaxis": {
            "gridcolor": "white",
            "linecolor": "white",
            "ticks": ""
           }
          },
          "scene": {
           "xaxis": {
            "backgroundcolor": "#E5ECF6",
            "gridcolor": "white",
            "gridwidth": 2,
            "linecolor": "white",
            "showbackground": true,
            "ticks": "",
            "zerolinecolor": "white"
           },
           "yaxis": {
            "backgroundcolor": "#E5ECF6",
            "gridcolor": "white",
            "gridwidth": 2,
            "linecolor": "white",
            "showbackground": true,
            "ticks": "",
            "zerolinecolor": "white"
           },
           "zaxis": {
            "backgroundcolor": "#E5ECF6",
            "gridcolor": "white",
            "gridwidth": 2,
            "linecolor": "white",
            "showbackground": true,
            "ticks": "",
            "zerolinecolor": "white"
           }
          },
          "shapedefaults": {
           "line": {
            "color": "#2a3f5f"
           }
          },
          "ternary": {
           "aaxis": {
            "gridcolor": "white",
            "linecolor": "white",
            "ticks": ""
           },
           "baxis": {
            "gridcolor": "white",
            "linecolor": "white",
            "ticks": ""
           },
           "bgcolor": "#E5ECF6",
           "caxis": {
            "gridcolor": "white",
            "linecolor": "white",
            "ticks": ""
           }
          },
          "title": {
           "x": 0.05
          },
          "xaxis": {
           "automargin": true,
           "gridcolor": "white",
           "linecolor": "white",
           "ticks": "",
           "title": {
            "standoff": 15
           },
           "zerolinecolor": "white",
           "zerolinewidth": 2
          },
          "yaxis": {
           "automargin": true,
           "gridcolor": "white",
           "linecolor": "white",
           "ticks": "",
           "title": {
            "standoff": 15
           },
           "zerolinecolor": "white",
           "zerolinewidth": 2
          }
         }
        },
        "title": {
         "text": "Test losses on dataset 'stas/openwebtext-10k'."
        },
        "xaxis": {
         "title": {
          "text": "Model."
         }
        },
        "yaxis": {
         "title": {
          "text": "Test loss."
         }
        }
       }
      },
      "text/html": [
       "<div>                            <div id=\"5852a3ab-aa29-4c47-a984-25c3920396f5\" class=\"plotly-graph-div\" style=\"height:525px; width:100%;\"></div>            <script type=\"text/javascript\">                require([\"plotly\"], function(Plotly) {                    window.PLOTLYENV=window.PLOTLYENV || {};                                    if (document.getElementById(\"5852a3ab-aa29-4c47-a984-25c3920396f5\")) {                    Plotly.newPlot(                        \"5852a3ab-aa29-4c47-a984-25c3920396f5\",                        [{\"text\":[\"3.1135110688991845\",\"3.0688299031883477\",\"3.0674285980992018\",\"3.115814567191154\"],\"textposition\":\"auto\",\"x\":[\"all-dropout\",\"attn-dropout\",\"hidden-dropout\",\"no-dropout\"],\"y\":[3.1135110688991845,3.0688299031883477,3.0674285980992018,3.115814567191154],\"type\":\"bar\"}],                        {\"title\":{\"text\":\"Test losses on dataset 'stas\\u002fopenwebtext-10k'.\"},\"xaxis\":{\"title\":{\"text\":\"Model.\"}},\"yaxis\":{\"title\":{\"text\":\"Test loss.\"}},\"template\":{\"data\":{\"histogram2dcontour\":[{\"type\":\"histogram2dcontour\",\"colorbar\":{\"outlinewidth\":0,\"ticks\":\"\"},\"colorscale\":[[0.0,\"#0d0887\"],[0.1111111111111111,\"#46039f\"],[0.2222222222222222,\"#7201a8\"],[0.3333333333333333,\"#9c179e\"],[0.4444444444444444,\"#bd3786\"],[0.5555555555555556,\"#d8576b\"],[0.6666666666666666,\"#ed7953\"],[0.7777777777777778,\"#fb9f3a\"],[0.8888888888888888,\"#fdca26\"],[1.0,\"#f0f921\"]]}],\"choropleth\":[{\"type\":\"choropleth\",\"colorbar\":{\"outlinewidth\":0,\"ticks\":\"\"}}],\"histogram2d\":[{\"type\":\"histogram2d\",\"colorbar\":{\"outlinewidth\":0,\"ticks\":\"\"},\"colorscale\":[[0.0,\"#0d0887\"],[0.1111111111111111,\"#46039f\"],[0.2222222222222222,\"#7201a8\"],[0.3333333333333333,\"#9c179e\"],[0.4444444444444444,\"#bd3786\"],[0.5555555555555556,\"#d8576b\"],[0.6666666666666666,\"#ed7953\"],[0.7777777777777778,\"#fb9f3a\"],[0.8888888888888888,\"#fdca26\"],[1.0,\"#f0f921\"]]}],\"heatmap\":[{\"type\":\"heatmap\",\"colorbar\":{\"outlinewidth\":0,\"ticks\":\"\"},\"colorscale\":[[0.0,\"#0d0887\"],[0.1111111111111111,\"#46039f\"],[0.2222222222222222,\"#7201a8\"],[0.3333333333333333,\"#9c179e\"],[0.4444444444444444,\"#bd3786\"],[0.5555555555555556,\"#d8576b\"],[0.6666666666666666,\"#ed7953\"],[0.7777777777777778,\"#fb9f3a\"],[0.8888888888888888,\"#fdca26\"],[1.0,\"#f0f921\"]]}],\"heatmapgl\":[{\"type\":\"heatmapgl\",\"colorbar\":{\"outlinewidth\":0,\"ticks\":\"\"},\"colorscale\":[[0.0,\"#0d0887\"],[0.1111111111111111,\"#46039f\"],[0.2222222222222222,\"#7201a8\"],[0.3333333333333333,\"#9c179e\"],[0.4444444444444444,\"#bd3786\"],[0.5555555555555556,\"#d8576b\"],[0.6666666666666666,\"#ed7953\"],[0.7777777777777778,\"#fb9f3a\"],[0.8888888888888888,\"#fdca26\"],[1.0,\"#f0f921\"]]}],\"contourcarpet\":[{\"type\":\"contourcarpet\",\"colorbar\":{\"outlinewidth\":0,\"ticks\":\"\"}}],\"contour\":[{\"type\":\"contour\",\"colorbar\":{\"outlinewidth\":0,\"ticks\":\"\"},\"colorscale\":[[0.0,\"#0d0887\"],[0.1111111111111111,\"#46039f\"],[0.2222222222222222,\"#7201a8\"],[0.3333333333333333,\"#9c179e\"],[0.4444444444444444,\"#bd3786\"],[0.5555555555555556,\"#d8576b\"],[0.6666666666666666,\"#ed7953\"],[0.7777777777777778,\"#fb9f3a\"],[0.8888888888888888,\"#fdca26\"],[1.0,\"#f0f921\"]]}],\"surface\":[{\"type\":\"surface\",\"colorbar\":{\"outlinewidth\":0,\"ticks\":\"\"},\"colorscale\":[[0.0,\"#0d0887\"],[0.1111111111111111,\"#46039f\"],[0.2222222222222222,\"#7201a8\"],[0.3333333333333333,\"#9c179e\"],[0.4444444444444444,\"#bd3786\"],[0.5555555555555556,\"#d8576b\"],[0.6666666666666666,\"#ed7953\"],[0.7777777777777778,\"#fb9f3a\"],[0.8888888888888888,\"#fdca26\"],[1.0,\"#f0f921\"]]}],\"mesh3d\":[{\"type\":\"mesh3d\",\"colorbar\":{\"outlinewidth\":0,\"ticks\":\"\"}}],\"scatter\":[{\"fillpattern\":{\"fillmode\":\"overlay\",\"size\":10,\"solidity\":0.2},\"type\":\"scatter\"}],\"parcoords\":[{\"type\":\"parcoords\",\"line\":{\"colorbar\":{\"outlinewidth\":0,\"ticks\":\"\"}}}],\"scatterpolargl\":[{\"type\":\"scatterpolargl\",\"marker\":{\"colorbar\":{\"outlinewidth\":0,\"ticks\":\"\"}}}],\"bar\":[{\"error_x\":{\"color\":\"#2a3f5f\"},\"error_y\":{\"color\":\"#2a3f5f\"},\"marker\":{\"line\":{\"color\":\"#E5ECF6\",\"width\":0.5},\"pattern\":{\"fillmode\":\"overlay\",\"size\":10,\"solidity\":0.2}},\"type\":\"bar\"}],\"scattergeo\":[{\"type\":\"scattergeo\",\"marker\":{\"colorbar\":{\"outlinewidth\":0,\"ticks\":\"\"}}}],\"scatterpolar\":[{\"type\":\"scatterpolar\",\"marker\":{\"colorbar\":{\"outlinewidth\":0,\"ticks\":\"\"}}}],\"histogram\":[{\"marker\":{\"pattern\":{\"fillmode\":\"overlay\",\"size\":10,\"solidity\":0.2}},\"type\":\"histogram\"}],\"scattergl\":[{\"type\":\"scattergl\",\"marker\":{\"colorbar\":{\"outlinewidth\":0,\"ticks\":\"\"}}}],\"scatter3d\":[{\"type\":\"scatter3d\",\"line\":{\"colorbar\":{\"outlinewidth\":0,\"ticks\":\"\"}},\"marker\":{\"colorbar\":{\"outlinewidth\":0,\"ticks\":\"\"}}}],\"scattermapbox\":[{\"type\":\"scattermapbox\",\"marker\":{\"colorbar\":{\"outlinewidth\":0,\"ticks\":\"\"}}}],\"scatterternary\":[{\"type\":\"scatterternary\",\"marker\":{\"colorbar\":{\"outlinewidth\":0,\"ticks\":\"\"}}}],\"scattercarpet\":[{\"type\":\"scattercarpet\",\"marker\":{\"colorbar\":{\"outlinewidth\":0,\"ticks\":\"\"}}}],\"carpet\":[{\"aaxis\":{\"endlinecolor\":\"#2a3f5f\",\"gridcolor\":\"white\",\"linecolor\":\"white\",\"minorgridcolor\":\"white\",\"startlinecolor\":\"#2a3f5f\"},\"baxis\":{\"endlinecolor\":\"#2a3f5f\",\"gridcolor\":\"white\",\"linecolor\":\"white\",\"minorgridcolor\":\"white\",\"startlinecolor\":\"#2a3f5f\"},\"type\":\"carpet\"}],\"table\":[{\"cells\":{\"fill\":{\"color\":\"#EBF0F8\"},\"line\":{\"color\":\"white\"}},\"header\":{\"fill\":{\"color\":\"#C8D4E3\"},\"line\":{\"color\":\"white\"}},\"type\":\"table\"}],\"barpolar\":[{\"marker\":{\"line\":{\"color\":\"#E5ECF6\",\"width\":0.5},\"pattern\":{\"fillmode\":\"overlay\",\"size\":10,\"solidity\":0.2}},\"type\":\"barpolar\"}],\"pie\":[{\"automargin\":true,\"type\":\"pie\"}]},\"layout\":{\"autotypenumbers\":\"strict\",\"colorway\":[\"#636efa\",\"#EF553B\",\"#00cc96\",\"#ab63fa\",\"#FFA15A\",\"#19d3f3\",\"#FF6692\",\"#B6E880\",\"#FF97FF\",\"#FECB52\"],\"font\":{\"color\":\"#2a3f5f\"},\"hovermode\":\"closest\",\"hoverlabel\":{\"align\":\"left\"},\"paper_bgcolor\":\"white\",\"plot_bgcolor\":\"#E5ECF6\",\"polar\":{\"bgcolor\":\"#E5ECF6\",\"angularaxis\":{\"gridcolor\":\"white\",\"linecolor\":\"white\",\"ticks\":\"\"},\"radialaxis\":{\"gridcolor\":\"white\",\"linecolor\":\"white\",\"ticks\":\"\"}},\"ternary\":{\"bgcolor\":\"#E5ECF6\",\"aaxis\":{\"gridcolor\":\"white\",\"linecolor\":\"white\",\"ticks\":\"\"},\"baxis\":{\"gridcolor\":\"white\",\"linecolor\":\"white\",\"ticks\":\"\"},\"caxis\":{\"gridcolor\":\"white\",\"linecolor\":\"white\",\"ticks\":\"\"}},\"coloraxis\":{\"colorbar\":{\"outlinewidth\":0,\"ticks\":\"\"}},\"colorscale\":{\"sequential\":[[0.0,\"#0d0887\"],[0.1111111111111111,\"#46039f\"],[0.2222222222222222,\"#7201a8\"],[0.3333333333333333,\"#9c179e\"],[0.4444444444444444,\"#bd3786\"],[0.5555555555555556,\"#d8576b\"],[0.6666666666666666,\"#ed7953\"],[0.7777777777777778,\"#fb9f3a\"],[0.8888888888888888,\"#fdca26\"],[1.0,\"#f0f921\"]],\"sequentialminus\":[[0.0,\"#0d0887\"],[0.1111111111111111,\"#46039f\"],[0.2222222222222222,\"#7201a8\"],[0.3333333333333333,\"#9c179e\"],[0.4444444444444444,\"#bd3786\"],[0.5555555555555556,\"#d8576b\"],[0.6666666666666666,\"#ed7953\"],[0.7777777777777778,\"#fb9f3a\"],[0.8888888888888888,\"#fdca26\"],[1.0,\"#f0f921\"]],\"diverging\":[[0,\"#8e0152\"],[0.1,\"#c51b7d\"],[0.2,\"#de77ae\"],[0.3,\"#f1b6da\"],[0.4,\"#fde0ef\"],[0.5,\"#f7f7f7\"],[0.6,\"#e6f5d0\"],[0.7,\"#b8e186\"],[0.8,\"#7fbc41\"],[0.9,\"#4d9221\"],[1,\"#276419\"]]},\"xaxis\":{\"gridcolor\":\"white\",\"linecolor\":\"white\",\"ticks\":\"\",\"title\":{\"standoff\":15},\"zerolinecolor\":\"white\",\"automargin\":true,\"zerolinewidth\":2},\"yaxis\":{\"gridcolor\":\"white\",\"linecolor\":\"white\",\"ticks\":\"\",\"title\":{\"standoff\":15},\"zerolinecolor\":\"white\",\"automargin\":true,\"zerolinewidth\":2},\"scene\":{\"xaxis\":{\"backgroundcolor\":\"#E5ECF6\",\"gridcolor\":\"white\",\"linecolor\":\"white\",\"showbackground\":true,\"ticks\":\"\",\"zerolinecolor\":\"white\",\"gridwidth\":2},\"yaxis\":{\"backgroundcolor\":\"#E5ECF6\",\"gridcolor\":\"white\",\"linecolor\":\"white\",\"showbackground\":true,\"ticks\":\"\",\"zerolinecolor\":\"white\",\"gridwidth\":2},\"zaxis\":{\"backgroundcolor\":\"#E5ECF6\",\"gridcolor\":\"white\",\"linecolor\":\"white\",\"showbackground\":true,\"ticks\":\"\",\"zerolinecolor\":\"white\",\"gridwidth\":2}},\"shapedefaults\":{\"line\":{\"color\":\"#2a3f5f\"}},\"annotationdefaults\":{\"arrowcolor\":\"#2a3f5f\",\"arrowhead\":0,\"arrowwidth\":1},\"geo\":{\"bgcolor\":\"white\",\"landcolor\":\"#E5ECF6\",\"subunitcolor\":\"white\",\"showland\":true,\"showlakes\":true,\"lakecolor\":\"white\"},\"title\":{\"x\":0.05},\"mapbox\":{\"style\":\"light\"}}}},                        {\"responsive\": true}                    ).then(function(){\n",
       "                            \n",
       "var gd = document.getElementById('5852a3ab-aa29-4c47-a984-25c3920396f5');\n",
       "var x = new MutationObserver(function (mutations, observer) {{\n",
       "        var display = window.getComputedStyle(gd).display;\n",
       "        if (!display || display === 'none') {{\n",
       "            console.log([gd, 'removed!']);\n",
       "            Plotly.purge(gd);\n",
       "            observer.disconnect();\n",
       "        }}\n",
       "}});\n",
       "\n",
       "// Listen for the removal of the full notebook cells\n",
       "var notebookContainer = gd.closest('#notebook-container');\n",
       "if (notebookContainer) {{\n",
       "    x.observe(notebookContainer, {childList: true});\n",
       "}}\n",
       "\n",
       "// Listen for the clearing of the current output cell\n",
       "var outputEl = gd.closest('.output');\n",
       "if (outputEl) {{\n",
       "    x.observe(outputEl, {childList: true});\n",
       "}}\n",
       "\n",
       "                        })                };                });            </script>        </div>"
      ]
     },
     "metadata": {},
     "output_type": "display_data"
    }
   ],
   "source": [
    "@inference_mode()\n",
    "def test_model(model, dataset, tqdm_=True, tqdm_desc=None):\n",
    "    model.eval()\n",
    "    losses = []\n",
    "    for data in tqdm(dataset, desc=tqdm_desc) if tqdm_ else dataset:\n",
    "        data = data[\"text\"]\n",
    "        loss = model(data, return_type=\"loss\").item()\n",
    "        losses.append(loss)\n",
    "    return mean(losses)\n",
    "\n",
    "def plot_model_test_losses(test_losses, dataset_name):\n",
    "    test_losses = list(test_losses.items())\n",
    "    model_types = [model_type for model_type, loss in test_losses]\n",
    "    losses      = [loss       for model_type, loss in test_losses]\n",
    "    display(Figure( Bar( x            = model_types,\n",
    "                         y            = losses,\n",
    "                         text         = losses,\n",
    "                         textposition = \"auto\" ),\n",
    "                    layout=Layout( title       = f\"Test losses on dataset '{dataset_name}'.\",\n",
    "                                   xaxis_title = \"Model.\",\n",
    "                                   yaxis_title = \"Test loss.\" ) ))\n",
    "\n",
    "# pythia was trained on the pile and not openwebtext but i don't think it's important here\n",
    "model_test_dataset_name = \"stas/openwebtext-10k\"\n",
    "\n",
    "model_test_dataset = load_dataset(model_test_dataset_name)[\"train\"]\n",
    "model_test_losses = { model_type:  test_model(model, model_test_dataset, tqdm_desc=model_type)\n",
    "                      for model_type, model in models.items() }\n",
    "\n",
    "plot_model_test_losses(model_test_losses, dataset_name=model_test_dataset_name)"
   ]
  },
  {
   "cell_type": "code",
   "execution_count": null,
   "metadata": {},
   "outputs": [
    {
     "ename": "",
     "evalue": "",
     "output_type": "error",
     "traceback": [
      "\u001b[1;31mFailed to connect to the remote Jupyter Server 'https://n4ei07y7zz.clg07azjl.paperspacegradient.com/'. Verify the server is running and reachable. (Failed to connect to the remote Jupyter Server 'https://n4ei07y7zz.clg07azjl.paperspacegradient.com/'. Verify the server is running and reachable. (Invalid response: 404 Not Found).)."
     ]
    }
   ],
   "source": [
    "@inference_mode()\n",
    "def train_probe(activations_dataset, layer, label) -> Linear:\n",
    "    data        = activations_dataset[:]\n",
    "    activations = activations_at_layer(data[\"activations\"], layer)\n",
    "    labels      = data[label].squeeze(-1)\n",
    "\n",
    "    sklearn_probe = LogisticRegression(class_weight=\"balanced\", solver=\"newton-cholesky\")\n",
    "    sklearn_probe.fit(activations, labels)\n",
    "\n",
    "    probe = Linear(activations.size(-1), 1)\n",
    "    probe.weight.data.copy_(tensor(sklearn_probe.coef_))\n",
    "    probe.bias  .data.copy_(tensor(sklearn_probe.intercept_))\n",
    "\n",
    "    return probe.to(device)\n",
    "\n",
    "@inference_mode()\n",
    "def test_probe(probe, dataloader, layer, label, tqdm_=True):\n",
    "    losses = []\n",
    "    accuracies = []\n",
    "    for data in tqdm(dataloader) if tqdm_ else dataloader:\n",
    "        activations = activations_at_layer(data[\"activations\"], layer).to(device)\n",
    "        labels = data[label].to(device)\n",
    "        pred = probe(activations)\n",
    "        loss = binary_cross_entropy_with_logits(pred, labels.float()).item()\n",
    "        accuracy = ((pred >= 0) == labels.bool()).float().mean().item()\n",
    "        losses.append(loss)\n",
    "        accuracies.append(accuracy)\n",
    "    return {\"loss\": mean(losses), \"accuracy\": mean(accuracies)}\n",
    "\n",
    "def train_probes(activations_dataset, layers=None, labels=LABELS, tqdm_=True, tqdm_desc=None):\n",
    "    nlayers = next(iter(activations_dataset))[\"activations\"].size(0)\n",
    "    if layers is None:\n",
    "        layers = range(nlayers)\n",
    "\n",
    "    itr = itertools.product(layers, labels)\n",
    "    if tqdm_:\n",
    "        itr = tqdm(list(itr), desc=tqdm_desc) # convert iterable to list for its length to be visible by tqdm\n",
    "    return { (layer, label): train_probe(activations_dataset, layer=layer, label=label)\n",
    "             for layer, label in itr}\n",
    "\n",
    "def test_probes(probes, activations_dataset, tqdm_=True, tqdm_desc=None):\n",
    "    activations_dataloader = DataLoader(activations_dataset, batch_size=64)\n",
    "\n",
    "    losses = dict()\n",
    "    accuracies = dict()\n",
    "    for (layer, label), probe in tqdm(probes.items(), desc=tqdm_desc) if tqdm_ else probes.items():\n",
    "        probe = probes[layer, label]\n",
    "        test_results = test_probe(probe, activations_dataloader, layer=layer, label=label, tqdm_=False)\n",
    "        losses[layer, label] = test_results[\"loss\"]\n",
    "        accuracies[layer, label] = test_results[\"accuracy\"]\n",
    "\n",
    "    return {\"losses\": losses, \"accuracies\": accuracies}\n",
    "\n",
    "def add_legend(fig: Figure, legend: str, **line_desc):\n",
    "    # plot no data to add only legend\n",
    "    fig.add_trace(Scatter(y=[None], name=legend, line=dict(**line_desc)))\n",
    "\n",
    "def plot_probe_accuracies(accuracies, title=\"Probe accuracies.\"):\n",
    "    labels = {label for (layer, label), accuarcy in accuracies}\n",
    "    layers = {layer for (layer, label), accuracy in accuracies}\n",
    "\n",
    "    fig = Figure()\n",
    "    for label in labels:\n",
    "        fig.add_trace(Scatter( y    = [accuracies[layer, label] for layer in layers],\n",
    "                               name = label ))\n",
    "    fig.update_layout( title       = title,\n",
    "                       xaxis_title = \"Layer\",\n",
    "                       yaxis_title = \"Probe accuracy\" )\n",
    "    display(fig)\n",
    "\n",
    "def plot_probes_accuracies( accuracies,\n",
    "                            title  = \"Probe accuracies.\",\n",
    "                            colors = { \"alice\":                     \"blue\",\n",
    "                                       \"not\":                       \"red\",\n",
    "                                       \"correct\":                   \"green\",\n",
    "                                       \"alice_xor_not\":             \"magenta\",\n",
    "                                       \"alice_xor_correct\":         \"cyan\",\n",
    "                                       \"not_xor_correct\":           \"yellow\",\n",
    "                                       \"alice_xor_not_xor_correct\": \"black\" },\n",
    "                            dashes = { \"no-dropout\":     \"dot\",\n",
    "                                       \"attn-dropout\":   \"dash\",\n",
    "                                       \"hidden-dropout\": \"longdash\",\n",
    "                                       \"all-dropout\":    \"solid\"} ):\n",
    "                                       \n",
    "    model_types = set(accuracies.keys())\n",
    "    labels      = {label for model_type, model_accuracies in accuracies.items() for (layer, label), accuracy in model_accuracies.items()}\n",
    "    layers      = {layer for model_type, model_accuracies in accuracies.items() for (layer, label), accuracy in model_accuracies.items()}\n",
    "\n",
    "    fig = Figure(layout=Layout( height=800,\n",
    "                                title       = title,\n",
    "                                xaxis_title = \"Layer\",\n",
    "                                yaxis_title = \"Probe accuracy\" ))\n",
    "\n",
    "    for model_type in model_types:\n",
    "        for label in labels:\n",
    "            fig.add_trace(Scatter( y    = [accuracies[model_type][layer, label] for layer in layers],\n",
    "                                   line = {\"color\": colors[label], \"dash\": dashes[model_type]},\n",
    "                                   showlegend=False ))\n",
    "    \n",
    "    for label in labels:\n",
    "        add_legend(fig, label, color=colors[label])\n",
    "    for model_type in model_types:\n",
    "        add_legend(fig, model_type, color=\"black\", dash=dashes[model_type])\n",
    "    \n",
    "    fig.update_layout(  )\n",
    "    \n",
    "    display(fig)\n"
   ]
  },
  {
   "cell_type": "code",
   "execution_count": 13,
   "metadata": {},
   "outputs": [
    {
     "name": "stdout",
     "output_type": "stream",
     "text": [
      "\n",
      "collecting activations\n"
     ]
    },
    {
     "name": "stderr",
     "output_type": "stream",
     "text": [
      "all-dropout: 100%|██████████| 2500/2500 [02:45<00:00, 15.11it/s]\n",
      "attn-dropout: 100%|██████████| 2500/2500 [02:47<00:00, 14.89it/s]\n",
      "hidden-dropout: 100%|██████████| 2500/2500 [02:44<00:00, 15.23it/s]\n",
      "no-dropout: 100%|██████████| 2500/2500 [02:41<00:00, 15.52it/s]\n"
     ]
    },
    {
     "name": "stdout",
     "output_type": "stream",
     "text": [
      "\n",
      "training probes\n"
     ]
    },
    {
     "name": "stderr",
     "output_type": "stream",
     "text": [
      "all-dropout: 100%|██████████| 84/84 [01:06<00:00,  1.26it/s]\n",
      "attn-dropout: 100%|██████████| 84/84 [01:01<00:00,  1.38it/s]\n",
      "hidden-dropout: 100%|██████████| 84/84 [01:06<00:00,  1.27it/s]\n",
      "no-dropout: 100%|██████████| 84/84 [00:56<00:00,  1.48it/s]\n"
     ]
    },
    {
     "name": "stdout",
     "output_type": "stream",
     "text": [
      "\n",
      "testing probes\n"
     ]
    },
    {
     "name": "stderr",
     "output_type": "stream",
     "text": [
      "all-dropout: 100%|██████████| 84/84 [00:03<00:00, 22.60it/s]\n",
      "attn-dropout: 100%|██████████| 84/84 [00:03<00:00, 26.72it/s]\n",
      "hidden-dropout: 100%|██████████| 84/84 [00:03<00:00, 24.65it/s]\n",
      "no-dropout: 100%|██████████| 84/84 [00:03<00:00, 25.36it/s]\n"
     ]
    },
    {
     "data": {
      "application/vnd.plotly.v1+json": {
       "config": {
        "plotlyServerURL": "https://plot.ly"
       },
       "data": [
        {
         "line": {
          "color": "blue",
          "dash": "dash"
         },
         "showlegend": false,
         "type": "scatter",
         "y": [
          0.9385516867041588,
          0.9936899095773697,
          0.9917367845773697,
          1,
          1,
          1,
          1,
          1,
          1,
          1,
          1,
          1
         ]
        },
        {
         "line": {
          "color": "red",
          "dash": "dash"
         },
         "showlegend": false,
         "type": "scatter",
         "y": [
          0.994140625,
          0.9921875,
          0.990234375,
          0.98828125,
          0.9921875,
          0.994140625,
          0.99609375,
          1,
          1,
          1,
          1,
          1
         ]
        },
        {
         "line": {
          "color": "black",
          "dash": "dash"
         },
         "showlegend": false,
         "type": "scatter",
         "y": [
          0.5256911069154739,
          0.556490384042263,
          0.5404146686196327,
          0.5628004819154739,
          0.5769230797886848,
          0.572115384042263,
          0.570162259042263,
          0.542818509042263,
          0.5483774058520794,
          0.5999098569154739,
          0.6105769276618958,
          0.6344651505351067
         ]
        },
        {
         "line": {
          "color": "yellow",
          "dash": "dash"
         },
         "showlegend": false,
         "type": "scatter",
         "y": [
          0.8674879819154739,
          0.8966346234083176,
          0.8907752484083176,
          0.9029447138309479,
          0.9064002484083176,
          0.9044471234083176,
          0.9048978388309479,
          0.9035456776618958,
          0.9122596234083176,
          0.9015925526618958,
          0.9054988026618958,
          0.9122596234083176
         ]
        },
        {
         "line": {
          "color": "magenta",
          "dash": "dash"
         },
         "showlegend": false,
         "type": "scatter",
         "y": [
          0.5422175526618958,
          0.5914964005351067,
          0.611478365957737,
          0.6071214005351067,
          0.6236478388309479,
          0.6236478388309479,
          0.6338641867041588,
          0.6168870255351067,
          0.6705228388309479,
          0.6909555345773697,
          0.6802884638309479,
          0.7195012047886848
         ]
        },
        {
         "line": {
          "color": "cyan",
          "dash": "dash"
         },
         "showlegend": false,
         "type": "scatter",
         "y": [
          0.5317007228732109,
          0.5081129819154739,
          0.5256911069154739,
          0.48617788404226303,
          0.4720552936196327,
          0.4926382228732109,
          0.49609375,
          0.4852764457464218,
          0.4770132228732109,
          0.4639423117041588,
          0.4737079367041588,
          0.4857271686196327
         ]
        },
        {
         "line": {
          "color": "green",
          "dash": "dash"
         },
         "showlegend": false,
         "type": "scatter",
         "y": [
          0.572415865957737,
          0.6487379819154739,
          0.6539964005351067,
          0.6574519276618958,
          0.6530949547886848,
          0.636568509042263,
          0.6517427936196327,
          0.695162259042263,
          0.6897536069154739,
          0.7103365436196327,
          0.685396634042263,
          0.755859375
         ]
        },
        {
         "line": {
          "color": "blue",
          "dash": "longdash"
         },
         "showlegend": false,
         "type": "scatter",
         "y": [
          0.994140625,
          1,
          0.99609375,
          1,
          1,
          1,
          1,
          1,
          1,
          1,
          1,
          1
         ]
        },
        {
         "line": {
          "color": "red",
          "dash": "longdash"
         },
         "showlegend": false,
         "type": "scatter",
         "y": [
          0.986328125,
          0.994140625,
          0.99609375,
          0.990234375,
          0.994140625,
          0.998046875,
          0.99609375,
          0.994140625,
          0.99609375,
          0.99609375,
          0.998046875,
          0.998046875
         ]
        },
        {
         "line": {
          "color": "black",
          "dash": "longdash"
         },
         "showlegend": false,
         "type": "scatter",
         "y": [
          0.5473257228732109,
          0.5404146686196327,
          0.6105769276618958,
          0.6236478388309479,
          0.613431490957737,
          0.6051682755351067,
          0.6086238026618958,
          0.632962740957737,
          0.6262019276618958,
          0.6280048117041588,
          0.6577524095773697,
          0.6772836595773697
         ]
        },
        {
         "line": {
          "color": "yellow",
          "dash": "longdash"
         },
         "showlegend": false,
         "type": "scatter",
         "y": [
          0.8874699547886848,
          0.9030949547886848,
          0.9133113026618958,
          0.9196214005351067,
          0.9259314984083176,
          0.9239783734083176,
          0.9278846234083176,
          0.9239783734083176,
          0.9215745255351067,
          0.9083533734083176,
          0.8883714005351067,
          0.8903245255351067
         ]
        },
        {
         "line": {
          "color": "magenta",
          "dash": "longdash"
         },
         "showlegend": false,
         "type": "scatter",
         "y": [
          0.55859375,
          0.5943509638309479,
          0.634915865957737,
          0.6451322138309479,
          0.66015625,
          0.6645132228732109,
          0.6864483207464218,
          0.6846454367041588,
          0.681640625,
          0.7061298117041588,
          0.7771935164928436,
          0.8236177936196327
         ]
        },
        {
         "line": {
          "color": "cyan",
          "dash": "longdash"
         },
         "showlegend": false,
         "type": "scatter",
         "y": [
          0.5085637047886848,
          0.5085637047886848,
          0.5368089005351067,
          0.5345552936196327,
          0.5204326957464218,
          0.5335036069154739,
          0.5423677936196327,
          0.5764723569154739,
          0.5441706776618958,
          0.51953125,
          0.552584134042263,
          0.5513822138309479
         ]
        },
        {
         "line": {
          "color": "green",
          "dash": "longdash"
         },
         "showlegend": false,
         "type": "scatter",
         "y": [
          0.5612980797886848,
          0.632962740957737,
          0.675931490957737,
          0.6953125,
          0.6691706776618958,
          0.6847956776618958,
          0.6906550526618958,
          0.6847956776618958,
          0.7037259638309479,
          0.6748798117041588,
          0.736328125,
          0.7510516867041588
         ]
        },
        {
         "line": {
          "color": "blue",
          "dash": "dot"
         },
         "showlegend": false,
         "type": "scatter",
         "y": [
          0.9795673117041588,
          1,
          1,
          1,
          1,
          1,
          1,
          1,
          1,
          1,
          1,
          1
         ]
        },
        {
         "line": {
          "color": "red",
          "dash": "dot"
         },
         "showlegend": false,
         "type": "scatter",
         "y": [
          0.986328125,
          0.982421875,
          0.98046875,
          0.984375,
          0.98828125,
          0.98828125,
          0.990234375,
          0.9921875,
          0.9921875,
          0.998046875,
          0.99609375,
          0.998046875
         ]
        },
        {
         "line": {
          "color": "black",
          "dash": "dot"
         },
         "showlegend": false,
         "type": "scatter",
         "y": [
          0.5715144276618958,
          0.6135817319154739,
          0.603365384042263,
          0.585787259042263,
          0.5892427936196327,
          0.5940504819154739,
          0.5988581776618958,
          0.5803786069154739,
          0.5963040888309479,
          0.5671574547886848,
          0.632962740957737,
          0.7055288478732109
         ]
        },
        {
         "line": {
          "color": "yellow",
          "dash": "dot"
         },
         "showlegend": false,
         "type": "scatter",
         "y": [
          0.8650841414928436,
          0.8781550526618958,
          0.8816105797886848,
          0.8816105797886848,
          0.8840144276618958,
          0.9011418297886848,
          0.9050480797886848,
          0.9152644276618958,
          0.9157151505351067,
          0.9050480797886848,
          0.9118089005351067,
          0.9064002484083176
         ]
        },
        {
         "line": {
          "color": "magenta",
          "dash": "dot"
         },
         "showlegend": false,
         "type": "scatter",
         "y": [
          0.5315504819154739,
          0.5842848569154739,
          0.6222956776618958,
          0.6448317319154739,
          0.6389723569154739,
          0.6356670707464218,
          0.6609074547886848,
          0.6729266867041588,
          0.68359375,
          0.6403245255351067,
          0.6903545707464218,
          0.8571214005351067
         ]
        },
        {
         "line": {
          "color": "cyan",
          "dash": "dot"
         },
         "showlegend": false,
         "type": "scatter",
         "y": [
          0.5249399058520794,
          0.5226862989366055,
          0.5306490436196327,
          0.527193509042263,
          0.527193509042263,
          0.5365084186196327,
          0.5268930308520794,
          0.53125,
          0.5438701957464218,
          0.5151742808520794,
          0.525240384042263,
          0.5458233207464218
         ]
        },
        {
         "line": {
          "color": "green",
          "dash": "dot"
         },
         "showlegend": false,
         "type": "scatter",
         "y": [
          0.5425180345773697,
          0.6512920707464218,
          0.6576021686196327,
          0.6606069728732109,
          0.6606069728732109,
          0.6727764457464218,
          0.6727764457464218,
          0.6747295707464218,
          0.6597055345773697,
          0.6613581776618958,
          0.6714242845773697,
          0.7612680345773697
         ]
        },
        {
         "line": {
          "color": "blue",
          "dash": "solid"
         },
         "showlegend": false,
         "type": "scatter",
         "y": [
          0.984375,
          1,
          1,
          1,
          1,
          1,
          1,
          1,
          1,
          1,
          1,
          1
         ]
        },
        {
         "line": {
          "color": "red",
          "dash": "solid"
         },
         "showlegend": false,
         "type": "scatter",
         "y": [
          0.9839242845773697,
          0.9936899095773697,
          0.99609375,
          0.998046875,
          0.998046875,
          0.998046875,
          0.998046875,
          1,
          1,
          1,
          1,
          1
         ]
        },
        {
         "line": {
          "color": "black",
          "dash": "solid"
         },
         "showlegend": false,
         "type": "scatter",
         "y": [
          0.52734375,
          0.615384615957737,
          0.6962139457464218,
          0.7061298117041588,
          0.7572115436196327,
          0.7967247664928436,
          0.8108473569154739,
          0.8473557755351067,
          0.8386418297886848,
          0.8595252484083176,
          0.8293269276618958,
          0.8449519276618958
         ]
        },
        {
         "line": {
          "color": "yellow",
          "dash": "solid"
         },
         "showlegend": false,
         "type": "scatter",
         "y": [
          0.8533653914928436,
          0.8985877484083176,
          0.9152644276618958,
          0.9350961595773697,
          0.9385516867041588,
          0.9185697138309479,
          0.9239783734083176,
          0.9200721234083176,
          0.9103064984083176,
          0.9122596234083176,
          0.9176682755351067,
          0.9215745255351067
         ]
        },
        {
         "line": {
          "color": "magenta",
          "dash": "solid"
         },
         "showlegend": false,
         "type": "scatter",
         "y": [
          0.6227464005351067,
          0.6500901505351067,
          0.7406850978732109,
          0.8314302936196327,
          0.8990384638309479,
          0.9643930345773697,
          0.95703125,
          0.9765625,
          0.966796875,
          0.966796875,
          0.9609375,
          0.962890625
         ]
        },
        {
         "line": {
          "color": "cyan",
          "dash": "solid"
         },
         "showlegend": false,
         "type": "scatter",
         "y": [
          0.5127704367041588,
          0.5184795707464218,
          0.525240384042263,
          0.50390625,
          0.5262920707464218,
          0.5668569728732109,
          0.5591947138309479,
          0.6301081776618958,
          0.6286057755351067,
          0.6164363026618958,
          0.6062199547886848,
          0.5823317319154739
         ]
        },
        {
         "line": {
          "color": "green",
          "dash": "solid"
         },
         "showlegend": false,
         "type": "scatter",
         "y": [
          0.603665865957737,
          0.669921875,
          0.8051382228732109,
          0.8221153914928436,
          0.8596754819154739,
          0.8864182755351067,
          0.8674879819154739,
          0.8601262047886848,
          0.8332331776618958,
          0.8090444728732109,
          0.7895132228732109,
          0.796875
         ]
        },
        {
         "line": {
          "color": "blue"
         },
         "name": "alice",
         "type": "scatter",
         "y": [
          null
         ]
        },
        {
         "line": {
          "color": "red"
         },
         "name": "not",
         "type": "scatter",
         "y": [
          null
         ]
        },
        {
         "line": {
          "color": "black"
         },
         "name": "alice_xor_not_xor_correct",
         "type": "scatter",
         "y": [
          null
         ]
        },
        {
         "line": {
          "color": "yellow"
         },
         "name": "not_xor_correct",
         "type": "scatter",
         "y": [
          null
         ]
        },
        {
         "line": {
          "color": "magenta"
         },
         "name": "alice_xor_not",
         "type": "scatter",
         "y": [
          null
         ]
        },
        {
         "line": {
          "color": "cyan"
         },
         "name": "alice_xor_correct",
         "type": "scatter",
         "y": [
          null
         ]
        },
        {
         "line": {
          "color": "green"
         },
         "name": "correct",
         "type": "scatter",
         "y": [
          null
         ]
        },
        {
         "line": {
          "color": "black",
          "dash": "dash"
         },
         "name": "attn-dropout",
         "type": "scatter",
         "y": [
          null
         ]
        },
        {
         "line": {
          "color": "black",
          "dash": "longdash"
         },
         "name": "hidden-dropout",
         "type": "scatter",
         "y": [
          null
         ]
        },
        {
         "line": {
          "color": "black",
          "dash": "dot"
         },
         "name": "no-dropout",
         "type": "scatter",
         "y": [
          null
         ]
        },
        {
         "line": {
          "color": "black",
          "dash": "solid"
         },
         "name": "all-dropout",
         "type": "scatter",
         "y": [
          null
         ]
        }
       ],
       "layout": {
        "height": 800,
        "template": {
         "data": {
          "bar": [
           {
            "error_x": {
             "color": "#2a3f5f"
            },
            "error_y": {
             "color": "#2a3f5f"
            },
            "marker": {
             "line": {
              "color": "#E5ECF6",
              "width": 0.5
             },
             "pattern": {
              "fillmode": "overlay",
              "size": 10,
              "solidity": 0.2
             }
            },
            "type": "bar"
           }
          ],
          "barpolar": [
           {
            "marker": {
             "line": {
              "color": "#E5ECF6",
              "width": 0.5
             },
             "pattern": {
              "fillmode": "overlay",
              "size": 10,
              "solidity": 0.2
             }
            },
            "type": "barpolar"
           }
          ],
          "carpet": [
           {
            "aaxis": {
             "endlinecolor": "#2a3f5f",
             "gridcolor": "white",
             "linecolor": "white",
             "minorgridcolor": "white",
             "startlinecolor": "#2a3f5f"
            },
            "baxis": {
             "endlinecolor": "#2a3f5f",
             "gridcolor": "white",
             "linecolor": "white",
             "minorgridcolor": "white",
             "startlinecolor": "#2a3f5f"
            },
            "type": "carpet"
           }
          ],
          "choropleth": [
           {
            "colorbar": {
             "outlinewidth": 0,
             "ticks": ""
            },
            "type": "choropleth"
           }
          ],
          "contour": [
           {
            "colorbar": {
             "outlinewidth": 0,
             "ticks": ""
            },
            "colorscale": [
             [
              0,
              "#0d0887"
             ],
             [
              0.1111111111111111,
              "#46039f"
             ],
             [
              0.2222222222222222,
              "#7201a8"
             ],
             [
              0.3333333333333333,
              "#9c179e"
             ],
             [
              0.4444444444444444,
              "#bd3786"
             ],
             [
              0.5555555555555556,
              "#d8576b"
             ],
             [
              0.6666666666666666,
              "#ed7953"
             ],
             [
              0.7777777777777778,
              "#fb9f3a"
             ],
             [
              0.8888888888888888,
              "#fdca26"
             ],
             [
              1,
              "#f0f921"
             ]
            ],
            "type": "contour"
           }
          ],
          "contourcarpet": [
           {
            "colorbar": {
             "outlinewidth": 0,
             "ticks": ""
            },
            "type": "contourcarpet"
           }
          ],
          "heatmap": [
           {
            "colorbar": {
             "outlinewidth": 0,
             "ticks": ""
            },
            "colorscale": [
             [
              0,
              "#0d0887"
             ],
             [
              0.1111111111111111,
              "#46039f"
             ],
             [
              0.2222222222222222,
              "#7201a8"
             ],
             [
              0.3333333333333333,
              "#9c179e"
             ],
             [
              0.4444444444444444,
              "#bd3786"
             ],
             [
              0.5555555555555556,
              "#d8576b"
             ],
             [
              0.6666666666666666,
              "#ed7953"
             ],
             [
              0.7777777777777778,
              "#fb9f3a"
             ],
             [
              0.8888888888888888,
              "#fdca26"
             ],
             [
              1,
              "#f0f921"
             ]
            ],
            "type": "heatmap"
           }
          ],
          "heatmapgl": [
           {
            "colorbar": {
             "outlinewidth": 0,
             "ticks": ""
            },
            "colorscale": [
             [
              0,
              "#0d0887"
             ],
             [
              0.1111111111111111,
              "#46039f"
             ],
             [
              0.2222222222222222,
              "#7201a8"
             ],
             [
              0.3333333333333333,
              "#9c179e"
             ],
             [
              0.4444444444444444,
              "#bd3786"
             ],
             [
              0.5555555555555556,
              "#d8576b"
             ],
             [
              0.6666666666666666,
              "#ed7953"
             ],
             [
              0.7777777777777778,
              "#fb9f3a"
             ],
             [
              0.8888888888888888,
              "#fdca26"
             ],
             [
              1,
              "#f0f921"
             ]
            ],
            "type": "heatmapgl"
           }
          ],
          "histogram": [
           {
            "marker": {
             "pattern": {
              "fillmode": "overlay",
              "size": 10,
              "solidity": 0.2
             }
            },
            "type": "histogram"
           }
          ],
          "histogram2d": [
           {
            "colorbar": {
             "outlinewidth": 0,
             "ticks": ""
            },
            "colorscale": [
             [
              0,
              "#0d0887"
             ],
             [
              0.1111111111111111,
              "#46039f"
             ],
             [
              0.2222222222222222,
              "#7201a8"
             ],
             [
              0.3333333333333333,
              "#9c179e"
             ],
             [
              0.4444444444444444,
              "#bd3786"
             ],
             [
              0.5555555555555556,
              "#d8576b"
             ],
             [
              0.6666666666666666,
              "#ed7953"
             ],
             [
              0.7777777777777778,
              "#fb9f3a"
             ],
             [
              0.8888888888888888,
              "#fdca26"
             ],
             [
              1,
              "#f0f921"
             ]
            ],
            "type": "histogram2d"
           }
          ],
          "histogram2dcontour": [
           {
            "colorbar": {
             "outlinewidth": 0,
             "ticks": ""
            },
            "colorscale": [
             [
              0,
              "#0d0887"
             ],
             [
              0.1111111111111111,
              "#46039f"
             ],
             [
              0.2222222222222222,
              "#7201a8"
             ],
             [
              0.3333333333333333,
              "#9c179e"
             ],
             [
              0.4444444444444444,
              "#bd3786"
             ],
             [
              0.5555555555555556,
              "#d8576b"
             ],
             [
              0.6666666666666666,
              "#ed7953"
             ],
             [
              0.7777777777777778,
              "#fb9f3a"
             ],
             [
              0.8888888888888888,
              "#fdca26"
             ],
             [
              1,
              "#f0f921"
             ]
            ],
            "type": "histogram2dcontour"
           }
          ],
          "mesh3d": [
           {
            "colorbar": {
             "outlinewidth": 0,
             "ticks": ""
            },
            "type": "mesh3d"
           }
          ],
          "parcoords": [
           {
            "line": {
             "colorbar": {
              "outlinewidth": 0,
              "ticks": ""
             }
            },
            "type": "parcoords"
           }
          ],
          "pie": [
           {
            "automargin": true,
            "type": "pie"
           }
          ],
          "scatter": [
           {
            "fillpattern": {
             "fillmode": "overlay",
             "size": 10,
             "solidity": 0.2
            },
            "type": "scatter"
           }
          ],
          "scatter3d": [
           {
            "line": {
             "colorbar": {
              "outlinewidth": 0,
              "ticks": ""
             }
            },
            "marker": {
             "colorbar": {
              "outlinewidth": 0,
              "ticks": ""
             }
            },
            "type": "scatter3d"
           }
          ],
          "scattercarpet": [
           {
            "marker": {
             "colorbar": {
              "outlinewidth": 0,
              "ticks": ""
             }
            },
            "type": "scattercarpet"
           }
          ],
          "scattergeo": [
           {
            "marker": {
             "colorbar": {
              "outlinewidth": 0,
              "ticks": ""
             }
            },
            "type": "scattergeo"
           }
          ],
          "scattergl": [
           {
            "marker": {
             "colorbar": {
              "outlinewidth": 0,
              "ticks": ""
             }
            },
            "type": "scattergl"
           }
          ],
          "scattermapbox": [
           {
            "marker": {
             "colorbar": {
              "outlinewidth": 0,
              "ticks": ""
             }
            },
            "type": "scattermapbox"
           }
          ],
          "scatterpolar": [
           {
            "marker": {
             "colorbar": {
              "outlinewidth": 0,
              "ticks": ""
             }
            },
            "type": "scatterpolar"
           }
          ],
          "scatterpolargl": [
           {
            "marker": {
             "colorbar": {
              "outlinewidth": 0,
              "ticks": ""
             }
            },
            "type": "scatterpolargl"
           }
          ],
          "scatterternary": [
           {
            "marker": {
             "colorbar": {
              "outlinewidth": 0,
              "ticks": ""
             }
            },
            "type": "scatterternary"
           }
          ],
          "surface": [
           {
            "colorbar": {
             "outlinewidth": 0,
             "ticks": ""
            },
            "colorscale": [
             [
              0,
              "#0d0887"
             ],
             [
              0.1111111111111111,
              "#46039f"
             ],
             [
              0.2222222222222222,
              "#7201a8"
             ],
             [
              0.3333333333333333,
              "#9c179e"
             ],
             [
              0.4444444444444444,
              "#bd3786"
             ],
             [
              0.5555555555555556,
              "#d8576b"
             ],
             [
              0.6666666666666666,
              "#ed7953"
             ],
             [
              0.7777777777777778,
              "#fb9f3a"
             ],
             [
              0.8888888888888888,
              "#fdca26"
             ],
             [
              1,
              "#f0f921"
             ]
            ],
            "type": "surface"
           }
          ],
          "table": [
           {
            "cells": {
             "fill": {
              "color": "#EBF0F8"
             },
             "line": {
              "color": "white"
             }
            },
            "header": {
             "fill": {
              "color": "#C8D4E3"
             },
             "line": {
              "color": "white"
             }
            },
            "type": "table"
           }
          ]
         },
         "layout": {
          "annotationdefaults": {
           "arrowcolor": "#2a3f5f",
           "arrowhead": 0,
           "arrowwidth": 1
          },
          "autotypenumbers": "strict",
          "coloraxis": {
           "colorbar": {
            "outlinewidth": 0,
            "ticks": ""
           }
          },
          "colorscale": {
           "diverging": [
            [
             0,
             "#8e0152"
            ],
            [
             0.1,
             "#c51b7d"
            ],
            [
             0.2,
             "#de77ae"
            ],
            [
             0.3,
             "#f1b6da"
            ],
            [
             0.4,
             "#fde0ef"
            ],
            [
             0.5,
             "#f7f7f7"
            ],
            [
             0.6,
             "#e6f5d0"
            ],
            [
             0.7,
             "#b8e186"
            ],
            [
             0.8,
             "#7fbc41"
            ],
            [
             0.9,
             "#4d9221"
            ],
            [
             1,
             "#276419"
            ]
           ],
           "sequential": [
            [
             0,
             "#0d0887"
            ],
            [
             0.1111111111111111,
             "#46039f"
            ],
            [
             0.2222222222222222,
             "#7201a8"
            ],
            [
             0.3333333333333333,
             "#9c179e"
            ],
            [
             0.4444444444444444,
             "#bd3786"
            ],
            [
             0.5555555555555556,
             "#d8576b"
            ],
            [
             0.6666666666666666,
             "#ed7953"
            ],
            [
             0.7777777777777778,
             "#fb9f3a"
            ],
            [
             0.8888888888888888,
             "#fdca26"
            ],
            [
             1,
             "#f0f921"
            ]
           ],
           "sequentialminus": [
            [
             0,
             "#0d0887"
            ],
            [
             0.1111111111111111,
             "#46039f"
            ],
            [
             0.2222222222222222,
             "#7201a8"
            ],
            [
             0.3333333333333333,
             "#9c179e"
            ],
            [
             0.4444444444444444,
             "#bd3786"
            ],
            [
             0.5555555555555556,
             "#d8576b"
            ],
            [
             0.6666666666666666,
             "#ed7953"
            ],
            [
             0.7777777777777778,
             "#fb9f3a"
            ],
            [
             0.8888888888888888,
             "#fdca26"
            ],
            [
             1,
             "#f0f921"
            ]
           ]
          },
          "colorway": [
           "#636efa",
           "#EF553B",
           "#00cc96",
           "#ab63fa",
           "#FFA15A",
           "#19d3f3",
           "#FF6692",
           "#B6E880",
           "#FF97FF",
           "#FECB52"
          ],
          "font": {
           "color": "#2a3f5f"
          },
          "geo": {
           "bgcolor": "white",
           "lakecolor": "white",
           "landcolor": "#E5ECF6",
           "showlakes": true,
           "showland": true,
           "subunitcolor": "white"
          },
          "hoverlabel": {
           "align": "left"
          },
          "hovermode": "closest",
          "mapbox": {
           "style": "light"
          },
          "paper_bgcolor": "white",
          "plot_bgcolor": "#E5ECF6",
          "polar": {
           "angularaxis": {
            "gridcolor": "white",
            "linecolor": "white",
            "ticks": ""
           },
           "bgcolor": "#E5ECF6",
           "radialaxis": {
            "gridcolor": "white",
            "linecolor": "white",
            "ticks": ""
           }
          },
          "scene": {
           "xaxis": {
            "backgroundcolor": "#E5ECF6",
            "gridcolor": "white",
            "gridwidth": 2,
            "linecolor": "white",
            "showbackground": true,
            "ticks": "",
            "zerolinecolor": "white"
           },
           "yaxis": {
            "backgroundcolor": "#E5ECF6",
            "gridcolor": "white",
            "gridwidth": 2,
            "linecolor": "white",
            "showbackground": true,
            "ticks": "",
            "zerolinecolor": "white"
           },
           "zaxis": {
            "backgroundcolor": "#E5ECF6",
            "gridcolor": "white",
            "gridwidth": 2,
            "linecolor": "white",
            "showbackground": true,
            "ticks": "",
            "zerolinecolor": "white"
           }
          },
          "shapedefaults": {
           "line": {
            "color": "#2a3f5f"
           }
          },
          "ternary": {
           "aaxis": {
            "gridcolor": "white",
            "linecolor": "white",
            "ticks": ""
           },
           "baxis": {
            "gridcolor": "white",
            "linecolor": "white",
            "ticks": ""
           },
           "bgcolor": "#E5ECF6",
           "caxis": {
            "gridcolor": "white",
            "linecolor": "white",
            "ticks": ""
           }
          },
          "title": {
           "x": 0.05
          },
          "xaxis": {
           "automargin": true,
           "gridcolor": "white",
           "linecolor": "white",
           "ticks": "",
           "title": {
            "standoff": 15
           },
           "zerolinecolor": "white",
           "zerolinewidth": 2
          },
          "yaxis": {
           "automargin": true,
           "gridcolor": "white",
           "linecolor": "white",
           "ticks": "",
           "title": {
            "standoff": 15
           },
           "zerolinecolor": "white",
           "zerolinewidth": 2
          }
         }
        },
        "title": {
         "text": "Probe test accuracies. Dataset: things"
        },
        "xaxis": {
         "title": {
          "text": "Layer"
         }
        },
        "yaxis": {
         "title": {
          "text": "Probe accuracy"
         }
        }
       }
      },
      "text/html": [
       "<div>                            <div id=\"cfb9eb09-a25c-4bd0-9e42-b15b4ff8aff6\" class=\"plotly-graph-div\" style=\"height:800px; width:100%;\"></div>            <script type=\"text/javascript\">                require([\"plotly\"], function(Plotly) {                    window.PLOTLYENV=window.PLOTLYENV || {};                                    if (document.getElementById(\"cfb9eb09-a25c-4bd0-9e42-b15b4ff8aff6\")) {                    Plotly.newPlot(                        \"cfb9eb09-a25c-4bd0-9e42-b15b4ff8aff6\",                        [{\"line\":{\"color\":\"blue\",\"dash\":\"dash\"},\"showlegend\":false,\"y\":[0.9385516867041588,0.9936899095773697,0.9917367845773697,1.0,1.0,1.0,1.0,1.0,1.0,1.0,1.0,1.0],\"type\":\"scatter\"},{\"line\":{\"color\":\"red\",\"dash\":\"dash\"},\"showlegend\":false,\"y\":[0.994140625,0.9921875,0.990234375,0.98828125,0.9921875,0.994140625,0.99609375,1.0,1.0,1.0,1.0,1.0],\"type\":\"scatter\"},{\"line\":{\"color\":\"black\",\"dash\":\"dash\"},\"showlegend\":false,\"y\":[0.5256911069154739,0.556490384042263,0.5404146686196327,0.5628004819154739,0.5769230797886848,0.572115384042263,0.570162259042263,0.542818509042263,0.5483774058520794,0.5999098569154739,0.6105769276618958,0.6344651505351067],\"type\":\"scatter\"},{\"line\":{\"color\":\"yellow\",\"dash\":\"dash\"},\"showlegend\":false,\"y\":[0.8674879819154739,0.8966346234083176,0.8907752484083176,0.9029447138309479,0.9064002484083176,0.9044471234083176,0.9048978388309479,0.9035456776618958,0.9122596234083176,0.9015925526618958,0.9054988026618958,0.9122596234083176],\"type\":\"scatter\"},{\"line\":{\"color\":\"magenta\",\"dash\":\"dash\"},\"showlegend\":false,\"y\":[0.5422175526618958,0.5914964005351067,0.611478365957737,0.6071214005351067,0.6236478388309479,0.6236478388309479,0.6338641867041588,0.6168870255351067,0.6705228388309479,0.6909555345773697,0.6802884638309479,0.7195012047886848],\"type\":\"scatter\"},{\"line\":{\"color\":\"cyan\",\"dash\":\"dash\"},\"showlegend\":false,\"y\":[0.5317007228732109,0.5081129819154739,0.5256911069154739,0.48617788404226303,0.4720552936196327,0.4926382228732109,0.49609375,0.4852764457464218,0.4770132228732109,0.4639423117041588,0.4737079367041588,0.4857271686196327],\"type\":\"scatter\"},{\"line\":{\"color\":\"green\",\"dash\":\"dash\"},\"showlegend\":false,\"y\":[0.572415865957737,0.6487379819154739,0.6539964005351067,0.6574519276618958,0.6530949547886848,0.636568509042263,0.6517427936196327,0.695162259042263,0.6897536069154739,0.7103365436196327,0.685396634042263,0.755859375],\"type\":\"scatter\"},{\"line\":{\"color\":\"blue\",\"dash\":\"longdash\"},\"showlegend\":false,\"y\":[0.994140625,1.0,0.99609375,1.0,1.0,1.0,1.0,1.0,1.0,1.0,1.0,1.0],\"type\":\"scatter\"},{\"line\":{\"color\":\"red\",\"dash\":\"longdash\"},\"showlegend\":false,\"y\":[0.986328125,0.994140625,0.99609375,0.990234375,0.994140625,0.998046875,0.99609375,0.994140625,0.99609375,0.99609375,0.998046875,0.998046875],\"type\":\"scatter\"},{\"line\":{\"color\":\"black\",\"dash\":\"longdash\"},\"showlegend\":false,\"y\":[0.5473257228732109,0.5404146686196327,0.6105769276618958,0.6236478388309479,0.613431490957737,0.6051682755351067,0.6086238026618958,0.632962740957737,0.6262019276618958,0.6280048117041588,0.6577524095773697,0.6772836595773697],\"type\":\"scatter\"},{\"line\":{\"color\":\"yellow\",\"dash\":\"longdash\"},\"showlegend\":false,\"y\":[0.8874699547886848,0.9030949547886848,0.9133113026618958,0.9196214005351067,0.9259314984083176,0.9239783734083176,0.9278846234083176,0.9239783734083176,0.9215745255351067,0.9083533734083176,0.8883714005351067,0.8903245255351067],\"type\":\"scatter\"},{\"line\":{\"color\":\"magenta\",\"dash\":\"longdash\"},\"showlegend\":false,\"y\":[0.55859375,0.5943509638309479,0.634915865957737,0.6451322138309479,0.66015625,0.6645132228732109,0.6864483207464218,0.6846454367041588,0.681640625,0.7061298117041588,0.7771935164928436,0.8236177936196327],\"type\":\"scatter\"},{\"line\":{\"color\":\"cyan\",\"dash\":\"longdash\"},\"showlegend\":false,\"y\":[0.5085637047886848,0.5085637047886848,0.5368089005351067,0.5345552936196327,0.5204326957464218,0.5335036069154739,0.5423677936196327,0.5764723569154739,0.5441706776618958,0.51953125,0.552584134042263,0.5513822138309479],\"type\":\"scatter\"},{\"line\":{\"color\":\"green\",\"dash\":\"longdash\"},\"showlegend\":false,\"y\":[0.5612980797886848,0.632962740957737,0.675931490957737,0.6953125,0.6691706776618958,0.6847956776618958,0.6906550526618958,0.6847956776618958,0.7037259638309479,0.6748798117041588,0.736328125,0.7510516867041588],\"type\":\"scatter\"},{\"line\":{\"color\":\"blue\",\"dash\":\"dot\"},\"showlegend\":false,\"y\":[0.9795673117041588,1.0,1.0,1.0,1.0,1.0,1.0,1.0,1.0,1.0,1.0,1.0],\"type\":\"scatter\"},{\"line\":{\"color\":\"red\",\"dash\":\"dot\"},\"showlegend\":false,\"y\":[0.986328125,0.982421875,0.98046875,0.984375,0.98828125,0.98828125,0.990234375,0.9921875,0.9921875,0.998046875,0.99609375,0.998046875],\"type\":\"scatter\"},{\"line\":{\"color\":\"black\",\"dash\":\"dot\"},\"showlegend\":false,\"y\":[0.5715144276618958,0.6135817319154739,0.603365384042263,0.585787259042263,0.5892427936196327,0.5940504819154739,0.5988581776618958,0.5803786069154739,0.5963040888309479,0.5671574547886848,0.632962740957737,0.7055288478732109],\"type\":\"scatter\"},{\"line\":{\"color\":\"yellow\",\"dash\":\"dot\"},\"showlegend\":false,\"y\":[0.8650841414928436,0.8781550526618958,0.8816105797886848,0.8816105797886848,0.8840144276618958,0.9011418297886848,0.9050480797886848,0.9152644276618958,0.9157151505351067,0.9050480797886848,0.9118089005351067,0.9064002484083176],\"type\":\"scatter\"},{\"line\":{\"color\":\"magenta\",\"dash\":\"dot\"},\"showlegend\":false,\"y\":[0.5315504819154739,0.5842848569154739,0.6222956776618958,0.6448317319154739,0.6389723569154739,0.6356670707464218,0.6609074547886848,0.6729266867041588,0.68359375,0.6403245255351067,0.6903545707464218,0.8571214005351067],\"type\":\"scatter\"},{\"line\":{\"color\":\"cyan\",\"dash\":\"dot\"},\"showlegend\":false,\"y\":[0.5249399058520794,0.5226862989366055,0.5306490436196327,0.527193509042263,0.527193509042263,0.5365084186196327,0.5268930308520794,0.53125,0.5438701957464218,0.5151742808520794,0.525240384042263,0.5458233207464218],\"type\":\"scatter\"},{\"line\":{\"color\":\"green\",\"dash\":\"dot\"},\"showlegend\":false,\"y\":[0.5425180345773697,0.6512920707464218,0.6576021686196327,0.6606069728732109,0.6606069728732109,0.6727764457464218,0.6727764457464218,0.6747295707464218,0.6597055345773697,0.6613581776618958,0.6714242845773697,0.7612680345773697],\"type\":\"scatter\"},{\"line\":{\"color\":\"blue\",\"dash\":\"solid\"},\"showlegend\":false,\"y\":[0.984375,1.0,1.0,1.0,1.0,1.0,1.0,1.0,1.0,1.0,1.0,1.0],\"type\":\"scatter\"},{\"line\":{\"color\":\"red\",\"dash\":\"solid\"},\"showlegend\":false,\"y\":[0.9839242845773697,0.9936899095773697,0.99609375,0.998046875,0.998046875,0.998046875,0.998046875,1.0,1.0,1.0,1.0,1.0],\"type\":\"scatter\"},{\"line\":{\"color\":\"black\",\"dash\":\"solid\"},\"showlegend\":false,\"y\":[0.52734375,0.615384615957737,0.6962139457464218,0.7061298117041588,0.7572115436196327,0.7967247664928436,0.8108473569154739,0.8473557755351067,0.8386418297886848,0.8595252484083176,0.8293269276618958,0.8449519276618958],\"type\":\"scatter\"},{\"line\":{\"color\":\"yellow\",\"dash\":\"solid\"},\"showlegend\":false,\"y\":[0.8533653914928436,0.8985877484083176,0.9152644276618958,0.9350961595773697,0.9385516867041588,0.9185697138309479,0.9239783734083176,0.9200721234083176,0.9103064984083176,0.9122596234083176,0.9176682755351067,0.9215745255351067],\"type\":\"scatter\"},{\"line\":{\"color\":\"magenta\",\"dash\":\"solid\"},\"showlegend\":false,\"y\":[0.6227464005351067,0.6500901505351067,0.7406850978732109,0.8314302936196327,0.8990384638309479,0.9643930345773697,0.95703125,0.9765625,0.966796875,0.966796875,0.9609375,0.962890625],\"type\":\"scatter\"},{\"line\":{\"color\":\"cyan\",\"dash\":\"solid\"},\"showlegend\":false,\"y\":[0.5127704367041588,0.5184795707464218,0.525240384042263,0.50390625,0.5262920707464218,0.5668569728732109,0.5591947138309479,0.6301081776618958,0.6286057755351067,0.6164363026618958,0.6062199547886848,0.5823317319154739],\"type\":\"scatter\"},{\"line\":{\"color\":\"green\",\"dash\":\"solid\"},\"showlegend\":false,\"y\":[0.603665865957737,0.669921875,0.8051382228732109,0.8221153914928436,0.8596754819154739,0.8864182755351067,0.8674879819154739,0.8601262047886848,0.8332331776618958,0.8090444728732109,0.7895132228732109,0.796875],\"type\":\"scatter\"},{\"line\":{\"color\":\"blue\"},\"name\":\"alice\",\"y\":[null],\"type\":\"scatter\"},{\"line\":{\"color\":\"red\"},\"name\":\"not\",\"y\":[null],\"type\":\"scatter\"},{\"line\":{\"color\":\"black\"},\"name\":\"alice_xor_not_xor_correct\",\"y\":[null],\"type\":\"scatter\"},{\"line\":{\"color\":\"yellow\"},\"name\":\"not_xor_correct\",\"y\":[null],\"type\":\"scatter\"},{\"line\":{\"color\":\"magenta\"},\"name\":\"alice_xor_not\",\"y\":[null],\"type\":\"scatter\"},{\"line\":{\"color\":\"cyan\"},\"name\":\"alice_xor_correct\",\"y\":[null],\"type\":\"scatter\"},{\"line\":{\"color\":\"green\"},\"name\":\"correct\",\"y\":[null],\"type\":\"scatter\"},{\"line\":{\"color\":\"black\",\"dash\":\"dash\"},\"name\":\"attn-dropout\",\"y\":[null],\"type\":\"scatter\"},{\"line\":{\"color\":\"black\",\"dash\":\"longdash\"},\"name\":\"hidden-dropout\",\"y\":[null],\"type\":\"scatter\"},{\"line\":{\"color\":\"black\",\"dash\":\"dot\"},\"name\":\"no-dropout\",\"y\":[null],\"type\":\"scatter\"},{\"line\":{\"color\":\"black\",\"dash\":\"solid\"},\"name\":\"all-dropout\",\"y\":[null],\"type\":\"scatter\"}],                        {\"height\":800,\"title\":{\"text\":\"Probe test accuracies. Dataset: things\"},\"xaxis\":{\"title\":{\"text\":\"Layer\"}},\"yaxis\":{\"title\":{\"text\":\"Probe accuracy\"}},\"template\":{\"data\":{\"histogram2dcontour\":[{\"type\":\"histogram2dcontour\",\"colorbar\":{\"outlinewidth\":0,\"ticks\":\"\"},\"colorscale\":[[0.0,\"#0d0887\"],[0.1111111111111111,\"#46039f\"],[0.2222222222222222,\"#7201a8\"],[0.3333333333333333,\"#9c179e\"],[0.4444444444444444,\"#bd3786\"],[0.5555555555555556,\"#d8576b\"],[0.6666666666666666,\"#ed7953\"],[0.7777777777777778,\"#fb9f3a\"],[0.8888888888888888,\"#fdca26\"],[1.0,\"#f0f921\"]]}],\"choropleth\":[{\"type\":\"choropleth\",\"colorbar\":{\"outlinewidth\":0,\"ticks\":\"\"}}],\"histogram2d\":[{\"type\":\"histogram2d\",\"colorbar\":{\"outlinewidth\":0,\"ticks\":\"\"},\"colorscale\":[[0.0,\"#0d0887\"],[0.1111111111111111,\"#46039f\"],[0.2222222222222222,\"#7201a8\"],[0.3333333333333333,\"#9c179e\"],[0.4444444444444444,\"#bd3786\"],[0.5555555555555556,\"#d8576b\"],[0.6666666666666666,\"#ed7953\"],[0.7777777777777778,\"#fb9f3a\"],[0.8888888888888888,\"#fdca26\"],[1.0,\"#f0f921\"]]}],\"heatmap\":[{\"type\":\"heatmap\",\"colorbar\":{\"outlinewidth\":0,\"ticks\":\"\"},\"colorscale\":[[0.0,\"#0d0887\"],[0.1111111111111111,\"#46039f\"],[0.2222222222222222,\"#7201a8\"],[0.3333333333333333,\"#9c179e\"],[0.4444444444444444,\"#bd3786\"],[0.5555555555555556,\"#d8576b\"],[0.6666666666666666,\"#ed7953\"],[0.7777777777777778,\"#fb9f3a\"],[0.8888888888888888,\"#fdca26\"],[1.0,\"#f0f921\"]]}],\"heatmapgl\":[{\"type\":\"heatmapgl\",\"colorbar\":{\"outlinewidth\":0,\"ticks\":\"\"},\"colorscale\":[[0.0,\"#0d0887\"],[0.1111111111111111,\"#46039f\"],[0.2222222222222222,\"#7201a8\"],[0.3333333333333333,\"#9c179e\"],[0.4444444444444444,\"#bd3786\"],[0.5555555555555556,\"#d8576b\"],[0.6666666666666666,\"#ed7953\"],[0.7777777777777778,\"#fb9f3a\"],[0.8888888888888888,\"#fdca26\"],[1.0,\"#f0f921\"]]}],\"contourcarpet\":[{\"type\":\"contourcarpet\",\"colorbar\":{\"outlinewidth\":0,\"ticks\":\"\"}}],\"contour\":[{\"type\":\"contour\",\"colorbar\":{\"outlinewidth\":0,\"ticks\":\"\"},\"colorscale\":[[0.0,\"#0d0887\"],[0.1111111111111111,\"#46039f\"],[0.2222222222222222,\"#7201a8\"],[0.3333333333333333,\"#9c179e\"],[0.4444444444444444,\"#bd3786\"],[0.5555555555555556,\"#d8576b\"],[0.6666666666666666,\"#ed7953\"],[0.7777777777777778,\"#fb9f3a\"],[0.8888888888888888,\"#fdca26\"],[1.0,\"#f0f921\"]]}],\"surface\":[{\"type\":\"surface\",\"colorbar\":{\"outlinewidth\":0,\"ticks\":\"\"},\"colorscale\":[[0.0,\"#0d0887\"],[0.1111111111111111,\"#46039f\"],[0.2222222222222222,\"#7201a8\"],[0.3333333333333333,\"#9c179e\"],[0.4444444444444444,\"#bd3786\"],[0.5555555555555556,\"#d8576b\"],[0.6666666666666666,\"#ed7953\"],[0.7777777777777778,\"#fb9f3a\"],[0.8888888888888888,\"#fdca26\"],[1.0,\"#f0f921\"]]}],\"mesh3d\":[{\"type\":\"mesh3d\",\"colorbar\":{\"outlinewidth\":0,\"ticks\":\"\"}}],\"scatter\":[{\"fillpattern\":{\"fillmode\":\"overlay\",\"size\":10,\"solidity\":0.2},\"type\":\"scatter\"}],\"parcoords\":[{\"type\":\"parcoords\",\"line\":{\"colorbar\":{\"outlinewidth\":0,\"ticks\":\"\"}}}],\"scatterpolargl\":[{\"type\":\"scatterpolargl\",\"marker\":{\"colorbar\":{\"outlinewidth\":0,\"ticks\":\"\"}}}],\"bar\":[{\"error_x\":{\"color\":\"#2a3f5f\"},\"error_y\":{\"color\":\"#2a3f5f\"},\"marker\":{\"line\":{\"color\":\"#E5ECF6\",\"width\":0.5},\"pattern\":{\"fillmode\":\"overlay\",\"size\":10,\"solidity\":0.2}},\"type\":\"bar\"}],\"scattergeo\":[{\"type\":\"scattergeo\",\"marker\":{\"colorbar\":{\"outlinewidth\":0,\"ticks\":\"\"}}}],\"scatterpolar\":[{\"type\":\"scatterpolar\",\"marker\":{\"colorbar\":{\"outlinewidth\":0,\"ticks\":\"\"}}}],\"histogram\":[{\"marker\":{\"pattern\":{\"fillmode\":\"overlay\",\"size\":10,\"solidity\":0.2}},\"type\":\"histogram\"}],\"scattergl\":[{\"type\":\"scattergl\",\"marker\":{\"colorbar\":{\"outlinewidth\":0,\"ticks\":\"\"}}}],\"scatter3d\":[{\"type\":\"scatter3d\",\"line\":{\"colorbar\":{\"outlinewidth\":0,\"ticks\":\"\"}},\"marker\":{\"colorbar\":{\"outlinewidth\":0,\"ticks\":\"\"}}}],\"scattermapbox\":[{\"type\":\"scattermapbox\",\"marker\":{\"colorbar\":{\"outlinewidth\":0,\"ticks\":\"\"}}}],\"scatterternary\":[{\"type\":\"scatterternary\",\"marker\":{\"colorbar\":{\"outlinewidth\":0,\"ticks\":\"\"}}}],\"scattercarpet\":[{\"type\":\"scattercarpet\",\"marker\":{\"colorbar\":{\"outlinewidth\":0,\"ticks\":\"\"}}}],\"carpet\":[{\"aaxis\":{\"endlinecolor\":\"#2a3f5f\",\"gridcolor\":\"white\",\"linecolor\":\"white\",\"minorgridcolor\":\"white\",\"startlinecolor\":\"#2a3f5f\"},\"baxis\":{\"endlinecolor\":\"#2a3f5f\",\"gridcolor\":\"white\",\"linecolor\":\"white\",\"minorgridcolor\":\"white\",\"startlinecolor\":\"#2a3f5f\"},\"type\":\"carpet\"}],\"table\":[{\"cells\":{\"fill\":{\"color\":\"#EBF0F8\"},\"line\":{\"color\":\"white\"}},\"header\":{\"fill\":{\"color\":\"#C8D4E3\"},\"line\":{\"color\":\"white\"}},\"type\":\"table\"}],\"barpolar\":[{\"marker\":{\"line\":{\"color\":\"#E5ECF6\",\"width\":0.5},\"pattern\":{\"fillmode\":\"overlay\",\"size\":10,\"solidity\":0.2}},\"type\":\"barpolar\"}],\"pie\":[{\"automargin\":true,\"type\":\"pie\"}]},\"layout\":{\"autotypenumbers\":\"strict\",\"colorway\":[\"#636efa\",\"#EF553B\",\"#00cc96\",\"#ab63fa\",\"#FFA15A\",\"#19d3f3\",\"#FF6692\",\"#B6E880\",\"#FF97FF\",\"#FECB52\"],\"font\":{\"color\":\"#2a3f5f\"},\"hovermode\":\"closest\",\"hoverlabel\":{\"align\":\"left\"},\"paper_bgcolor\":\"white\",\"plot_bgcolor\":\"#E5ECF6\",\"polar\":{\"bgcolor\":\"#E5ECF6\",\"angularaxis\":{\"gridcolor\":\"white\",\"linecolor\":\"white\",\"ticks\":\"\"},\"radialaxis\":{\"gridcolor\":\"white\",\"linecolor\":\"white\",\"ticks\":\"\"}},\"ternary\":{\"bgcolor\":\"#E5ECF6\",\"aaxis\":{\"gridcolor\":\"white\",\"linecolor\":\"white\",\"ticks\":\"\"},\"baxis\":{\"gridcolor\":\"white\",\"linecolor\":\"white\",\"ticks\":\"\"},\"caxis\":{\"gridcolor\":\"white\",\"linecolor\":\"white\",\"ticks\":\"\"}},\"coloraxis\":{\"colorbar\":{\"outlinewidth\":0,\"ticks\":\"\"}},\"colorscale\":{\"sequential\":[[0.0,\"#0d0887\"],[0.1111111111111111,\"#46039f\"],[0.2222222222222222,\"#7201a8\"],[0.3333333333333333,\"#9c179e\"],[0.4444444444444444,\"#bd3786\"],[0.5555555555555556,\"#d8576b\"],[0.6666666666666666,\"#ed7953\"],[0.7777777777777778,\"#fb9f3a\"],[0.8888888888888888,\"#fdca26\"],[1.0,\"#f0f921\"]],\"sequentialminus\":[[0.0,\"#0d0887\"],[0.1111111111111111,\"#46039f\"],[0.2222222222222222,\"#7201a8\"],[0.3333333333333333,\"#9c179e\"],[0.4444444444444444,\"#bd3786\"],[0.5555555555555556,\"#d8576b\"],[0.6666666666666666,\"#ed7953\"],[0.7777777777777778,\"#fb9f3a\"],[0.8888888888888888,\"#fdca26\"],[1.0,\"#f0f921\"]],\"diverging\":[[0,\"#8e0152\"],[0.1,\"#c51b7d\"],[0.2,\"#de77ae\"],[0.3,\"#f1b6da\"],[0.4,\"#fde0ef\"],[0.5,\"#f7f7f7\"],[0.6,\"#e6f5d0\"],[0.7,\"#b8e186\"],[0.8,\"#7fbc41\"],[0.9,\"#4d9221\"],[1,\"#276419\"]]},\"xaxis\":{\"gridcolor\":\"white\",\"linecolor\":\"white\",\"ticks\":\"\",\"title\":{\"standoff\":15},\"zerolinecolor\":\"white\",\"automargin\":true,\"zerolinewidth\":2},\"yaxis\":{\"gridcolor\":\"white\",\"linecolor\":\"white\",\"ticks\":\"\",\"title\":{\"standoff\":15},\"zerolinecolor\":\"white\",\"automargin\":true,\"zerolinewidth\":2},\"scene\":{\"xaxis\":{\"backgroundcolor\":\"#E5ECF6\",\"gridcolor\":\"white\",\"linecolor\":\"white\",\"showbackground\":true,\"ticks\":\"\",\"zerolinecolor\":\"white\",\"gridwidth\":2},\"yaxis\":{\"backgroundcolor\":\"#E5ECF6\",\"gridcolor\":\"white\",\"linecolor\":\"white\",\"showbackground\":true,\"ticks\":\"\",\"zerolinecolor\":\"white\",\"gridwidth\":2},\"zaxis\":{\"backgroundcolor\":\"#E5ECF6\",\"gridcolor\":\"white\",\"linecolor\":\"white\",\"showbackground\":true,\"ticks\":\"\",\"zerolinecolor\":\"white\",\"gridwidth\":2}},\"shapedefaults\":{\"line\":{\"color\":\"#2a3f5f\"}},\"annotationdefaults\":{\"arrowcolor\":\"#2a3f5f\",\"arrowhead\":0,\"arrowwidth\":1},\"geo\":{\"bgcolor\":\"white\",\"landcolor\":\"#E5ECF6\",\"subunitcolor\":\"white\",\"showland\":true,\"showlakes\":true,\"lakecolor\":\"white\"},\"title\":{\"x\":0.05},\"mapbox\":{\"style\":\"light\"}}}},                        {\"responsive\": true}                    ).then(function(){\n",
       "                            \n",
       "var gd = document.getElementById('cfb9eb09-a25c-4bd0-9e42-b15b4ff8aff6');\n",
       "var x = new MutationObserver(function (mutations, observer) {{\n",
       "        var display = window.getComputedStyle(gd).display;\n",
       "        if (!display || display === 'none') {{\n",
       "            console.log([gd, 'removed!']);\n",
       "            Plotly.purge(gd);\n",
       "            observer.disconnect();\n",
       "        }}\n",
       "}});\n",
       "\n",
       "// Listen for the removal of the full notebook cells\n",
       "var notebookContainer = gd.closest('#notebook-container');\n",
       "if (notebookContainer) {{\n",
       "    x.observe(notebookContainer, {childList: true});\n",
       "}}\n",
       "\n",
       "// Listen for the clearing of the current output cell\n",
       "var outputEl = gd.closest('.output');\n",
       "if (outputEl) {{\n",
       "    x.observe(outputEl, {childList: true});\n",
       "}}\n",
       "\n",
       "                        })                };                });            </script>        </div>"
      ]
     },
     "metadata": {},
     "output_type": "display_data"
    },
    {
     "name": "stdout",
     "output_type": "stream",
     "text": [
      "\n",
      "collecting activations\n"
     ]
    },
    {
     "name": "stderr",
     "output_type": "stream",
     "text": [
      "all-dropout: 100%|██████████| 2992/2992 [03:13<00:00, 15.45it/s]\n",
      "attn-dropout: 100%|██████████| 2992/2992 [03:14<00:00, 15.37it/s]\n",
      "hidden-dropout: 100%|██████████| 2992/2992 [03:19<00:00, 14.98it/s]\n",
      "no-dropout: 100%|██████████| 2992/2992 [03:11<00:00, 15.61it/s]\n"
     ]
    },
    {
     "name": "stdout",
     "output_type": "stream",
     "text": [
      "\n",
      "training probes\n"
     ]
    },
    {
     "name": "stderr",
     "output_type": "stream",
     "text": [
      "all-dropout: 100%|██████████| 84/84 [01:02<00:00,  1.35it/s]\n",
      "attn-dropout: 100%|██████████| 84/84 [00:51<00:00,  1.62it/s]\n",
      "hidden-dropout: 100%|██████████| 84/84 [01:00<00:00,  1.39it/s]\n",
      "no-dropout: 100%|██████████| 84/84 [00:51<00:00,  1.64it/s]\n"
     ]
    },
    {
     "name": "stdout",
     "output_type": "stream",
     "text": [
      "\n",
      "testing probes\n"
     ]
    },
    {
     "name": "stderr",
     "output_type": "stream",
     "text": [
      "all-dropout: 100%|██████████| 84/84 [00:04<00:00, 18.02it/s]\n",
      "attn-dropout: 100%|██████████| 84/84 [00:04<00:00, 20.53it/s]\n",
      "hidden-dropout: 100%|██████████| 84/84 [00:02<00:00, 29.98it/s]\n",
      "no-dropout: 100%|██████████| 84/84 [00:02<00:00, 35.21it/s]\n"
     ]
    },
    {
     "data": {
      "application/vnd.plotly.v1+json": {
       "config": {
        "plotlyServerURL": "https://plot.ly"
       },
       "data": [
        {
         "line": {
          "color": "blue",
          "dash": "dash"
         },
         "showlegend": false,
         "type": "scatter",
         "y": [
          0.950679349899292,
          0.992527174949646,
          0.992527174949646,
          1,
          1,
          1,
          1,
          1,
          1,
          1,
          1,
          1
         ]
        },
        {
         "line": {
          "color": "red",
          "dash": "dash"
         },
         "showlegend": false,
         "type": "scatter",
         "y": [
          1,
          1,
          1,
          1,
          1,
          1,
          1,
          1,
          1,
          1,
          1,
          1
         ]
        },
        {
         "line": {
          "color": "black",
          "dash": "dash"
         },
         "showlegend": false,
         "type": "scatter",
         "y": [
          0.510665762424469,
          0.5160326093435288,
          0.5113451093435287,
          0.5311820685863495,
          0.5449048936367035,
          0.5343070685863495,
          0.536209237575531,
          0.512228262424469,
          0.534646737575531,
          0.519361412525177,
          0.533084237575531,
          0.537771737575531
         ]
        },
        {
         "line": {
          "color": "yellow",
          "dash": "dash"
         },
         "showlegend": false,
         "type": "scatter",
         "y": [
          0.4749320685863495,
          0.508084237575531,
          0.508084237575531,
          0.5202445685863495,
          0.5280570685863495,
          0.5405570685863494,
          0.569021737575531,
          0.5945652186870575,
          0.6164402186870575,
          0.6707880437374115,
          0.6124320685863495,
          0.6961277186870575
         ]
        },
        {
         "line": {
          "color": "magenta",
          "dash": "dash"
         },
         "showlegend": false,
         "type": "scatter",
         "y": [
          0.597146737575531,
          0.644021737575531,
          0.628736412525177,
          0.648709237575531,
          0.653396737575531,
          0.658084237575531,
          0.6995923936367034,
          0.7370923936367035,
          0.7495923936367035,
          0.8273777186870575,
          0.8101902186870575,
          0.910054349899292
         ]
        },
        {
         "line": {
          "color": "cyan",
          "dash": "dash"
         },
         "showlegend": false,
         "type": "scatter",
         "y": [
          0.506861412525177,
          0.47384510934352875,
          0.47194293439388274,
          0.477853262424469,
          0.485326087474823,
          0.479076087474823,
          0.499388587474823,
          0.485326087474823,
          0.483763587474823,
          0.484646737575531,
          0.47194293439388274,
          0.4625679343938828
         ]
        },
        {
         "line": {
          "color": "green",
          "dash": "dash"
         },
         "showlegend": false,
         "type": "scatter",
         "y": [
          0.4123641312122345,
          0.39694293439388273,
          0.40475543439388273,
          0.410665762424469,
          0.39884510934352874,
          0.40353260934352875,
          0.3713994562625885,
          0.3592391312122345,
          0.3745244562625885,
          0.3748641312122345,
          0.391915762424469,
          0.4332201093435287
         ]
        },
        {
         "line": {
          "color": "blue",
          "dash": "longdash"
         },
         "showlegend": false,
         "type": "scatter",
         "y": [
          0.992527174949646,
          1,
          1,
          1,
          1,
          1,
          1,
          1,
          1,
          1,
          1,
          1
         ]
        },
        {
         "line": {
          "color": "red",
          "dash": "longdash"
         },
         "showlegend": false,
         "type": "scatter",
         "y": [
          1,
          1,
          1,
          1,
          1,
          1,
          1,
          1,
          1,
          1,
          1,
          1
         ]
        },
        {
         "line": {
          "color": "black",
          "dash": "longdash"
         },
         "showlegend": false,
         "type": "scatter",
         "y": [
          0.519361412525177,
          0.540896737575531,
          0.5336277186870575,
          0.516576087474823,
          0.505978262424469,
          0.510665762424469,
          0.521603262424469,
          0.545584237575531,
          0.5546195685863495,
          0.540013587474823,
          0.559646737575531,
          0.540013587474823
         ]
        },
        {
         "line": {
          "color": "yellow",
          "dash": "longdash"
         },
         "showlegend": false,
         "type": "scatter",
         "y": [
          0.4930027186870575,
          0.500271737575531,
          0.524048912525177,
          0.6139945685863495,
          0.619361412525177,
          0.6218070685863495,
          0.6480298936367035,
          0.6843070685863495,
          0.6886548936367035,
          0.652173912525177,
          0.7061820685863495,
          0.7199048936367035
         ]
        },
        {
         "line": {
          "color": "magenta",
          "dash": "longdash"
         },
         "showlegend": false,
         "type": "scatter",
         "y": [
          0.580978262424469,
          0.623165762424469,
          0.7398777186870575,
          0.7879755437374115,
          0.816983699798584,
          0.888519024848938,
          0.905366849899292,
          0.920991849899292,
          0.9182065248489379,
          0.922894024848938,
          0.947554349899292,
          0.9734375
         ]
        },
        {
         "line": {
          "color": "cyan",
          "dash": "longdash"
         },
         "showlegend": false,
         "type": "scatter",
         "y": [
          0.466236412525177,
          0.482201087474823,
          0.492798912525177,
          0.515353262424469,
          0.515013587474823,
          0.5172554343938828,
          0.5094429343938828,
          0.526834237575531,
          0.503736412525177,
          0.477173912525177,
          0.492459237575531,
          0.481521737575531
         ]
        },
        {
         "line": {
          "color": "green",
          "dash": "longdash"
         },
         "showlegend": false,
         "type": "scatter",
         "y": [
          0.39103260934352874,
          0.3920516312122345,
          0.4120244562625885,
          0.43512228429317473,
          0.4410326093435287,
          0.479076087474823,
          0.517798912525177,
          0.499388587474823,
          0.483763587474823,
          0.430978262424469,
          0.429415762424469,
          0.471603262424469
         ]
        },
        {
         "line": {
          "color": "blue",
          "dash": "dot"
         },
         "showlegend": false,
         "type": "scatter",
         "y": [
          0.978804349899292,
          0.9984375,
          1,
          1,
          1,
          1,
          1,
          1,
          1,
          1,
          1,
          1
         ]
        },
        {
         "line": {
          "color": "red",
          "dash": "dot"
         },
         "showlegend": false,
         "type": "scatter",
         "y": [
          1,
          0.9984375,
          1,
          1,
          1,
          1,
          1,
          1,
          1,
          1,
          1,
          1
         ]
        },
        {
         "line": {
          "color": "black",
          "dash": "dot"
         },
         "showlegend": false,
         "type": "scatter",
         "y": [
          0.5093070685863494,
          0.506521737575531,
          0.507540762424469,
          0.521263587474823,
          0.519701087474823,
          0.511888587474823,
          0.5019701093435287,
          0.510665762424469,
          0.516576087474823,
          0.49816576242446897,
          0.518138587474823,
          0.538111412525177
         ]
        },
        {
         "line": {
          "color": "yellow",
          "dash": "dot"
         },
         "showlegend": false,
         "type": "scatter",
         "y": [
          0.4808423936367035,
          0.5145380437374115,
          0.5301630437374115,
          0.5277173936367034,
          0.5245923936367035,
          0.5398777186870575,
          0.577921199798584,
          0.5876358687877655,
          0.5845108687877655,
          0.6180027186870575,
          0.6258152186870575,
          0.651834237575531
         ]
        },
        {
         "line": {
          "color": "magenta",
          "dash": "dot"
         },
         "showlegend": false,
         "type": "scatter",
         "y": [
          0.576834237575531,
          0.614334237575531,
          0.633423912525177,
          0.6811820685863494,
          0.681521737575531,
          0.6952445685863495,
          0.7180027186870575,
          0.7101902186870575,
          0.6883152186870575,
          0.7464673936367034,
          0.8423233687877655,
          0.960054349899292
         ]
        },
        {
         "line": {
          "color": "cyan",
          "dash": "dot"
         },
         "showlegend": false,
         "type": "scatter",
         "y": [
          0.496263587474823,
          0.496603262424469,
          0.496603262424469,
          0.500951087474823,
          0.501834237575531,
          0.480298912525177,
          0.476290762424469,
          0.495040762424469,
          0.479076087474823,
          0.48322010934352877,
          0.49035326242446897,
          0.496263587474823
         ]
        },
        {
         "line": {
          "color": "green",
          "dash": "dot"
         },
         "showlegend": false,
         "type": "scatter",
         "y": [
          0.41603260934352876,
          0.401290762424469,
          0.41222826242446897,
          0.398165762424469,
          0.38600543439388274,
          0.38009510934352875,
          0.36134510934352876,
          0.35353260934352876,
          0.3679347842931747,
          0.3904891312122345,
          0.3658288046717644,
          0.448709237575531
         ]
        },
        {
         "line": {
          "color": "blue",
          "dash": "solid"
         },
         "showlegend": false,
         "type": "scatter",
         "y": [
          0.975339674949646,
          1,
          1,
          1,
          1,
          1,
          1,
          1,
          1,
          1,
          1,
          1
         ]
        },
        {
         "line": {
          "color": "red",
          "dash": "solid"
         },
         "showlegend": false,
         "type": "scatter",
         "y": [
          0.9984375,
          1,
          1,
          1,
          1,
          1,
          1,
          1,
          1,
          1,
          1,
          1
         ]
        },
        {
         "line": {
          "color": "black",
          "dash": "solid"
         },
         "showlegend": false,
         "type": "scatter",
         "y": [
          0.505978262424469,
          0.495040762424469,
          0.496263587474823,
          0.491236412525177,
          0.522486412525177,
          0.525951087474823,
          0.5469429343938828,
          0.609646737575531,
          0.593138587474823,
          0.588790762424469,
          0.586888587474823,
          0.590013587474823
         ]
        },
        {
         "line": {
          "color": "yellow",
          "dash": "solid"
         },
         "showlegend": false,
         "type": "scatter",
         "y": [
          0.5039402186870575,
          0.5061820685863495,
          0.5574048936367035,
          0.7020380437374115,
          0.7098505437374115,
          0.7195652186870575,
          0.6961277186870575,
          0.7145380437374115,
          0.6843070685863495,
          0.6973505437374115,
          0.7251358687877655,
          0.7188858687877655
         ]
        },
        {
         "line": {
          "color": "magenta",
          "dash": "solid"
         },
         "showlegend": false,
         "type": "scatter",
         "y": [
          0.5906929343938827,
          0.7058423936367035,
          0.7836277186870575,
          0.908491849899292,
          0.992527174949646,
          1,
          0.996875,
          1,
          1,
          1,
          1,
          1
         ]
        },
        {
         "line": {
          "color": "cyan",
          "dash": "solid"
         },
         "showlegend": false,
         "type": "scatter",
         "y": [
          0.480298912525177,
          0.488451087474823,
          0.480978262424469,
          0.480298912525177,
          0.494701087474823,
          0.484103262424469,
          0.48254076242446897,
          0.4773097842931747,
          0.4957201093435287,
          0.504415762424469,
          0.502173912525177,
          0.515013587474823
         ]
        },
        {
         "line": {
          "color": "green",
          "dash": "solid"
         },
         "showlegend": false,
         "type": "scatter",
         "y": [
          0.40441576242446897,
          0.3913722842931747,
          0.3922554343938828,
          0.4097826093435287,
          0.493138587474823,
          0.5843070685863495,
          0.583423912525177,
          0.5514945685863495,
          0.501290762424469,
          0.480638587474823,
          0.515013587474823,
          0.547146737575531
         ]
        },
        {
         "line": {
          "color": "blue"
         },
         "name": "alice",
         "type": "scatter",
         "y": [
          null
         ]
        },
        {
         "line": {
          "color": "red"
         },
         "name": "not",
         "type": "scatter",
         "y": [
          null
         ]
        },
        {
         "line": {
          "color": "black"
         },
         "name": "alice_xor_not_xor_correct",
         "type": "scatter",
         "y": [
          null
         ]
        },
        {
         "line": {
          "color": "yellow"
         },
         "name": "not_xor_correct",
         "type": "scatter",
         "y": [
          null
         ]
        },
        {
         "line": {
          "color": "magenta"
         },
         "name": "alice_xor_not",
         "type": "scatter",
         "y": [
          null
         ]
        },
        {
         "line": {
          "color": "cyan"
         },
         "name": "alice_xor_correct",
         "type": "scatter",
         "y": [
          null
         ]
        },
        {
         "line": {
          "color": "green"
         },
         "name": "correct",
         "type": "scatter",
         "y": [
          null
         ]
        },
        {
         "line": {
          "color": "black",
          "dash": "dash"
         },
         "name": "attn-dropout",
         "type": "scatter",
         "y": [
          null
         ]
        },
        {
         "line": {
          "color": "black",
          "dash": "longdash"
         },
         "name": "hidden-dropout",
         "type": "scatter",
         "y": [
          null
         ]
        },
        {
         "line": {
          "color": "black",
          "dash": "dot"
         },
         "name": "no-dropout",
         "type": "scatter",
         "y": [
          null
         ]
        },
        {
         "line": {
          "color": "black",
          "dash": "solid"
         },
         "name": "all-dropout",
         "type": "scatter",
         "y": [
          null
         ]
        }
       ],
       "layout": {
        "height": 800,
        "template": {
         "data": {
          "bar": [
           {
            "error_x": {
             "color": "#2a3f5f"
            },
            "error_y": {
             "color": "#2a3f5f"
            },
            "marker": {
             "line": {
              "color": "#E5ECF6",
              "width": 0.5
             },
             "pattern": {
              "fillmode": "overlay",
              "size": 10,
              "solidity": 0.2
             }
            },
            "type": "bar"
           }
          ],
          "barpolar": [
           {
            "marker": {
             "line": {
              "color": "#E5ECF6",
              "width": 0.5
             },
             "pattern": {
              "fillmode": "overlay",
              "size": 10,
              "solidity": 0.2
             }
            },
            "type": "barpolar"
           }
          ],
          "carpet": [
           {
            "aaxis": {
             "endlinecolor": "#2a3f5f",
             "gridcolor": "white",
             "linecolor": "white",
             "minorgridcolor": "white",
             "startlinecolor": "#2a3f5f"
            },
            "baxis": {
             "endlinecolor": "#2a3f5f",
             "gridcolor": "white",
             "linecolor": "white",
             "minorgridcolor": "white",
             "startlinecolor": "#2a3f5f"
            },
            "type": "carpet"
           }
          ],
          "choropleth": [
           {
            "colorbar": {
             "outlinewidth": 0,
             "ticks": ""
            },
            "type": "choropleth"
           }
          ],
          "contour": [
           {
            "colorbar": {
             "outlinewidth": 0,
             "ticks": ""
            },
            "colorscale": [
             [
              0,
              "#0d0887"
             ],
             [
              0.1111111111111111,
              "#46039f"
             ],
             [
              0.2222222222222222,
              "#7201a8"
             ],
             [
              0.3333333333333333,
              "#9c179e"
             ],
             [
              0.4444444444444444,
              "#bd3786"
             ],
             [
              0.5555555555555556,
              "#d8576b"
             ],
             [
              0.6666666666666666,
              "#ed7953"
             ],
             [
              0.7777777777777778,
              "#fb9f3a"
             ],
             [
              0.8888888888888888,
              "#fdca26"
             ],
             [
              1,
              "#f0f921"
             ]
            ],
            "type": "contour"
           }
          ],
          "contourcarpet": [
           {
            "colorbar": {
             "outlinewidth": 0,
             "ticks": ""
            },
            "type": "contourcarpet"
           }
          ],
          "heatmap": [
           {
            "colorbar": {
             "outlinewidth": 0,
             "ticks": ""
            },
            "colorscale": [
             [
              0,
              "#0d0887"
             ],
             [
              0.1111111111111111,
              "#46039f"
             ],
             [
              0.2222222222222222,
              "#7201a8"
             ],
             [
              0.3333333333333333,
              "#9c179e"
             ],
             [
              0.4444444444444444,
              "#bd3786"
             ],
             [
              0.5555555555555556,
              "#d8576b"
             ],
             [
              0.6666666666666666,
              "#ed7953"
             ],
             [
              0.7777777777777778,
              "#fb9f3a"
             ],
             [
              0.8888888888888888,
              "#fdca26"
             ],
             [
              1,
              "#f0f921"
             ]
            ],
            "type": "heatmap"
           }
          ],
          "heatmapgl": [
           {
            "colorbar": {
             "outlinewidth": 0,
             "ticks": ""
            },
            "colorscale": [
             [
              0,
              "#0d0887"
             ],
             [
              0.1111111111111111,
              "#46039f"
             ],
             [
              0.2222222222222222,
              "#7201a8"
             ],
             [
              0.3333333333333333,
              "#9c179e"
             ],
             [
              0.4444444444444444,
              "#bd3786"
             ],
             [
              0.5555555555555556,
              "#d8576b"
             ],
             [
              0.6666666666666666,
              "#ed7953"
             ],
             [
              0.7777777777777778,
              "#fb9f3a"
             ],
             [
              0.8888888888888888,
              "#fdca26"
             ],
             [
              1,
              "#f0f921"
             ]
            ],
            "type": "heatmapgl"
           }
          ],
          "histogram": [
           {
            "marker": {
             "pattern": {
              "fillmode": "overlay",
              "size": 10,
              "solidity": 0.2
             }
            },
            "type": "histogram"
           }
          ],
          "histogram2d": [
           {
            "colorbar": {
             "outlinewidth": 0,
             "ticks": ""
            },
            "colorscale": [
             [
              0,
              "#0d0887"
             ],
             [
              0.1111111111111111,
              "#46039f"
             ],
             [
              0.2222222222222222,
              "#7201a8"
             ],
             [
              0.3333333333333333,
              "#9c179e"
             ],
             [
              0.4444444444444444,
              "#bd3786"
             ],
             [
              0.5555555555555556,
              "#d8576b"
             ],
             [
              0.6666666666666666,
              "#ed7953"
             ],
             [
              0.7777777777777778,
              "#fb9f3a"
             ],
             [
              0.8888888888888888,
              "#fdca26"
             ],
             [
              1,
              "#f0f921"
             ]
            ],
            "type": "histogram2d"
           }
          ],
          "histogram2dcontour": [
           {
            "colorbar": {
             "outlinewidth": 0,
             "ticks": ""
            },
            "colorscale": [
             [
              0,
              "#0d0887"
             ],
             [
              0.1111111111111111,
              "#46039f"
             ],
             [
              0.2222222222222222,
              "#7201a8"
             ],
             [
              0.3333333333333333,
              "#9c179e"
             ],
             [
              0.4444444444444444,
              "#bd3786"
             ],
             [
              0.5555555555555556,
              "#d8576b"
             ],
             [
              0.6666666666666666,
              "#ed7953"
             ],
             [
              0.7777777777777778,
              "#fb9f3a"
             ],
             [
              0.8888888888888888,
              "#fdca26"
             ],
             [
              1,
              "#f0f921"
             ]
            ],
            "type": "histogram2dcontour"
           }
          ],
          "mesh3d": [
           {
            "colorbar": {
             "outlinewidth": 0,
             "ticks": ""
            },
            "type": "mesh3d"
           }
          ],
          "parcoords": [
           {
            "line": {
             "colorbar": {
              "outlinewidth": 0,
              "ticks": ""
             }
            },
            "type": "parcoords"
           }
          ],
          "pie": [
           {
            "automargin": true,
            "type": "pie"
           }
          ],
          "scatter": [
           {
            "fillpattern": {
             "fillmode": "overlay",
             "size": 10,
             "solidity": 0.2
            },
            "type": "scatter"
           }
          ],
          "scatter3d": [
           {
            "line": {
             "colorbar": {
              "outlinewidth": 0,
              "ticks": ""
             }
            },
            "marker": {
             "colorbar": {
              "outlinewidth": 0,
              "ticks": ""
             }
            },
            "type": "scatter3d"
           }
          ],
          "scattercarpet": [
           {
            "marker": {
             "colorbar": {
              "outlinewidth": 0,
              "ticks": ""
             }
            },
            "type": "scattercarpet"
           }
          ],
          "scattergeo": [
           {
            "marker": {
             "colorbar": {
              "outlinewidth": 0,
              "ticks": ""
             }
            },
            "type": "scattergeo"
           }
          ],
          "scattergl": [
           {
            "marker": {
             "colorbar": {
              "outlinewidth": 0,
              "ticks": ""
             }
            },
            "type": "scattergl"
           }
          ],
          "scattermapbox": [
           {
            "marker": {
             "colorbar": {
              "outlinewidth": 0,
              "ticks": ""
             }
            },
            "type": "scattermapbox"
           }
          ],
          "scatterpolar": [
           {
            "marker": {
             "colorbar": {
              "outlinewidth": 0,
              "ticks": ""
             }
            },
            "type": "scatterpolar"
           }
          ],
          "scatterpolargl": [
           {
            "marker": {
             "colorbar": {
              "outlinewidth": 0,
              "ticks": ""
             }
            },
            "type": "scatterpolargl"
           }
          ],
          "scatterternary": [
           {
            "marker": {
             "colorbar": {
              "outlinewidth": 0,
              "ticks": ""
             }
            },
            "type": "scatterternary"
           }
          ],
          "surface": [
           {
            "colorbar": {
             "outlinewidth": 0,
             "ticks": ""
            },
            "colorscale": [
             [
              0,
              "#0d0887"
             ],
             [
              0.1111111111111111,
              "#46039f"
             ],
             [
              0.2222222222222222,
              "#7201a8"
             ],
             [
              0.3333333333333333,
              "#9c179e"
             ],
             [
              0.4444444444444444,
              "#bd3786"
             ],
             [
              0.5555555555555556,
              "#d8576b"
             ],
             [
              0.6666666666666666,
              "#ed7953"
             ],
             [
              0.7777777777777778,
              "#fb9f3a"
             ],
             [
              0.8888888888888888,
              "#fdca26"
             ],
             [
              1,
              "#f0f921"
             ]
            ],
            "type": "surface"
           }
          ],
          "table": [
           {
            "cells": {
             "fill": {
              "color": "#EBF0F8"
             },
             "line": {
              "color": "white"
             }
            },
            "header": {
             "fill": {
              "color": "#C8D4E3"
             },
             "line": {
              "color": "white"
             }
            },
            "type": "table"
           }
          ]
         },
         "layout": {
          "annotationdefaults": {
           "arrowcolor": "#2a3f5f",
           "arrowhead": 0,
           "arrowwidth": 1
          },
          "autotypenumbers": "strict",
          "coloraxis": {
           "colorbar": {
            "outlinewidth": 0,
            "ticks": ""
           }
          },
          "colorscale": {
           "diverging": [
            [
             0,
             "#8e0152"
            ],
            [
             0.1,
             "#c51b7d"
            ],
            [
             0.2,
             "#de77ae"
            ],
            [
             0.3,
             "#f1b6da"
            ],
            [
             0.4,
             "#fde0ef"
            ],
            [
             0.5,
             "#f7f7f7"
            ],
            [
             0.6,
             "#e6f5d0"
            ],
            [
             0.7,
             "#b8e186"
            ],
            [
             0.8,
             "#7fbc41"
            ],
            [
             0.9,
             "#4d9221"
            ],
            [
             1,
             "#276419"
            ]
           ],
           "sequential": [
            [
             0,
             "#0d0887"
            ],
            [
             0.1111111111111111,
             "#46039f"
            ],
            [
             0.2222222222222222,
             "#7201a8"
            ],
            [
             0.3333333333333333,
             "#9c179e"
            ],
            [
             0.4444444444444444,
             "#bd3786"
            ],
            [
             0.5555555555555556,
             "#d8576b"
            ],
            [
             0.6666666666666666,
             "#ed7953"
            ],
            [
             0.7777777777777778,
             "#fb9f3a"
            ],
            [
             0.8888888888888888,
             "#fdca26"
            ],
            [
             1,
             "#f0f921"
            ]
           ],
           "sequentialminus": [
            [
             0,
             "#0d0887"
            ],
            [
             0.1111111111111111,
             "#46039f"
            ],
            [
             0.2222222222222222,
             "#7201a8"
            ],
            [
             0.3333333333333333,
             "#9c179e"
            ],
            [
             0.4444444444444444,
             "#bd3786"
            ],
            [
             0.5555555555555556,
             "#d8576b"
            ],
            [
             0.6666666666666666,
             "#ed7953"
            ],
            [
             0.7777777777777778,
             "#fb9f3a"
            ],
            [
             0.8888888888888888,
             "#fdca26"
            ],
            [
             1,
             "#f0f921"
            ]
           ]
          },
          "colorway": [
           "#636efa",
           "#EF553B",
           "#00cc96",
           "#ab63fa",
           "#FFA15A",
           "#19d3f3",
           "#FF6692",
           "#B6E880",
           "#FF97FF",
           "#FECB52"
          ],
          "font": {
           "color": "#2a3f5f"
          },
          "geo": {
           "bgcolor": "white",
           "lakecolor": "white",
           "landcolor": "#E5ECF6",
           "showlakes": true,
           "showland": true,
           "subunitcolor": "white"
          },
          "hoverlabel": {
           "align": "left"
          },
          "hovermode": "closest",
          "mapbox": {
           "style": "light"
          },
          "paper_bgcolor": "white",
          "plot_bgcolor": "#E5ECF6",
          "polar": {
           "angularaxis": {
            "gridcolor": "white",
            "linecolor": "white",
            "ticks": ""
           },
           "bgcolor": "#E5ECF6",
           "radialaxis": {
            "gridcolor": "white",
            "linecolor": "white",
            "ticks": ""
           }
          },
          "scene": {
           "xaxis": {
            "backgroundcolor": "#E5ECF6",
            "gridcolor": "white",
            "gridwidth": 2,
            "linecolor": "white",
            "showbackground": true,
            "ticks": "",
            "zerolinecolor": "white"
           },
           "yaxis": {
            "backgroundcolor": "#E5ECF6",
            "gridcolor": "white",
            "gridwidth": 2,
            "linecolor": "white",
            "showbackground": true,
            "ticks": "",
            "zerolinecolor": "white"
           },
           "zaxis": {
            "backgroundcolor": "#E5ECF6",
            "gridcolor": "white",
            "gridwidth": 2,
            "linecolor": "white",
            "showbackground": true,
            "ticks": "",
            "zerolinecolor": "white"
           }
          },
          "shapedefaults": {
           "line": {
            "color": "#2a3f5f"
           }
          },
          "ternary": {
           "aaxis": {
            "gridcolor": "white",
            "linecolor": "white",
            "ticks": ""
           },
           "baxis": {
            "gridcolor": "white",
            "linecolor": "white",
            "ticks": ""
           },
           "bgcolor": "#E5ECF6",
           "caxis": {
            "gridcolor": "white",
            "linecolor": "white",
            "ticks": ""
           }
          },
          "title": {
           "x": 0.05
          },
          "xaxis": {
           "automargin": true,
           "gridcolor": "white",
           "linecolor": "white",
           "ticks": "",
           "title": {
            "standoff": 15
           },
           "zerolinecolor": "white",
           "zerolinewidth": 2
          },
          "yaxis": {
           "automargin": true,
           "gridcolor": "white",
           "linecolor": "white",
           "ticks": "",
           "title": {
            "standoff": 15
           },
           "zerolinecolor": "white",
           "zerolinewidth": 2
          }
         }
        },
        "title": {
         "text": "Probe test accuracies. Dataset: cities"
        },
        "xaxis": {
         "title": {
          "text": "Layer"
         }
        },
        "yaxis": {
         "title": {
          "text": "Probe accuracy"
         }
        }
       }
      },
      "text/html": [
       "<div>                            <div id=\"09acabd6-0d9c-4be1-a760-3b70802c50b3\" class=\"plotly-graph-div\" style=\"height:800px; width:100%;\"></div>            <script type=\"text/javascript\">                require([\"plotly\"], function(Plotly) {                    window.PLOTLYENV=window.PLOTLYENV || {};                                    if (document.getElementById(\"09acabd6-0d9c-4be1-a760-3b70802c50b3\")) {                    Plotly.newPlot(                        \"09acabd6-0d9c-4be1-a760-3b70802c50b3\",                        [{\"line\":{\"color\":\"blue\",\"dash\":\"dash\"},\"showlegend\":false,\"y\":[0.950679349899292,0.992527174949646,0.992527174949646,1.0,1.0,1.0,1.0,1.0,1.0,1.0,1.0,1.0],\"type\":\"scatter\"},{\"line\":{\"color\":\"red\",\"dash\":\"dash\"},\"showlegend\":false,\"y\":[1.0,1.0,1.0,1.0,1.0,1.0,1.0,1.0,1.0,1.0,1.0,1.0],\"type\":\"scatter\"},{\"line\":{\"color\":\"black\",\"dash\":\"dash\"},\"showlegend\":false,\"y\":[0.510665762424469,0.5160326093435288,0.5113451093435287,0.5311820685863495,0.5449048936367035,0.5343070685863495,0.536209237575531,0.512228262424469,0.534646737575531,0.519361412525177,0.533084237575531,0.537771737575531],\"type\":\"scatter\"},{\"line\":{\"color\":\"yellow\",\"dash\":\"dash\"},\"showlegend\":false,\"y\":[0.4749320685863495,0.508084237575531,0.508084237575531,0.5202445685863495,0.5280570685863495,0.5405570685863494,0.569021737575531,0.5945652186870575,0.6164402186870575,0.6707880437374115,0.6124320685863495,0.6961277186870575],\"type\":\"scatter\"},{\"line\":{\"color\":\"magenta\",\"dash\":\"dash\"},\"showlegend\":false,\"y\":[0.597146737575531,0.644021737575531,0.628736412525177,0.648709237575531,0.653396737575531,0.658084237575531,0.6995923936367034,0.7370923936367035,0.7495923936367035,0.8273777186870575,0.8101902186870575,0.910054349899292],\"type\":\"scatter\"},{\"line\":{\"color\":\"cyan\",\"dash\":\"dash\"},\"showlegend\":false,\"y\":[0.506861412525177,0.47384510934352875,0.47194293439388274,0.477853262424469,0.485326087474823,0.479076087474823,0.499388587474823,0.485326087474823,0.483763587474823,0.484646737575531,0.47194293439388274,0.4625679343938828],\"type\":\"scatter\"},{\"line\":{\"color\":\"green\",\"dash\":\"dash\"},\"showlegend\":false,\"y\":[0.4123641312122345,0.39694293439388273,0.40475543439388273,0.410665762424469,0.39884510934352874,0.40353260934352875,0.3713994562625885,0.3592391312122345,0.3745244562625885,0.3748641312122345,0.391915762424469,0.4332201093435287],\"type\":\"scatter\"},{\"line\":{\"color\":\"blue\",\"dash\":\"longdash\"},\"showlegend\":false,\"y\":[0.992527174949646,1.0,1.0,1.0,1.0,1.0,1.0,1.0,1.0,1.0,1.0,1.0],\"type\":\"scatter\"},{\"line\":{\"color\":\"red\",\"dash\":\"longdash\"},\"showlegend\":false,\"y\":[1.0,1.0,1.0,1.0,1.0,1.0,1.0,1.0,1.0,1.0,1.0,1.0],\"type\":\"scatter\"},{\"line\":{\"color\":\"black\",\"dash\":\"longdash\"},\"showlegend\":false,\"y\":[0.519361412525177,0.540896737575531,0.5336277186870575,0.516576087474823,0.505978262424469,0.510665762424469,0.521603262424469,0.545584237575531,0.5546195685863495,0.540013587474823,0.559646737575531,0.540013587474823],\"type\":\"scatter\"},{\"line\":{\"color\":\"yellow\",\"dash\":\"longdash\"},\"showlegend\":false,\"y\":[0.4930027186870575,0.500271737575531,0.524048912525177,0.6139945685863495,0.619361412525177,0.6218070685863495,0.6480298936367035,0.6843070685863495,0.6886548936367035,0.652173912525177,0.7061820685863495,0.7199048936367035],\"type\":\"scatter\"},{\"line\":{\"color\":\"magenta\",\"dash\":\"longdash\"},\"showlegend\":false,\"y\":[0.580978262424469,0.623165762424469,0.7398777186870575,0.7879755437374115,0.816983699798584,0.888519024848938,0.905366849899292,0.920991849899292,0.9182065248489379,0.922894024848938,0.947554349899292,0.9734375],\"type\":\"scatter\"},{\"line\":{\"color\":\"cyan\",\"dash\":\"longdash\"},\"showlegend\":false,\"y\":[0.466236412525177,0.482201087474823,0.492798912525177,0.515353262424469,0.515013587474823,0.5172554343938828,0.5094429343938828,0.526834237575531,0.503736412525177,0.477173912525177,0.492459237575531,0.481521737575531],\"type\":\"scatter\"},{\"line\":{\"color\":\"green\",\"dash\":\"longdash\"},\"showlegend\":false,\"y\":[0.39103260934352874,0.3920516312122345,0.4120244562625885,0.43512228429317473,0.4410326093435287,0.479076087474823,0.517798912525177,0.499388587474823,0.483763587474823,0.430978262424469,0.429415762424469,0.471603262424469],\"type\":\"scatter\"},{\"line\":{\"color\":\"blue\",\"dash\":\"dot\"},\"showlegend\":false,\"y\":[0.978804349899292,0.9984375,1.0,1.0,1.0,1.0,1.0,1.0,1.0,1.0,1.0,1.0],\"type\":\"scatter\"},{\"line\":{\"color\":\"red\",\"dash\":\"dot\"},\"showlegend\":false,\"y\":[1.0,0.9984375,1.0,1.0,1.0,1.0,1.0,1.0,1.0,1.0,1.0,1.0],\"type\":\"scatter\"},{\"line\":{\"color\":\"black\",\"dash\":\"dot\"},\"showlegend\":false,\"y\":[0.5093070685863494,0.506521737575531,0.507540762424469,0.521263587474823,0.519701087474823,0.511888587474823,0.5019701093435287,0.510665762424469,0.516576087474823,0.49816576242446897,0.518138587474823,0.538111412525177],\"type\":\"scatter\"},{\"line\":{\"color\":\"yellow\",\"dash\":\"dot\"},\"showlegend\":false,\"y\":[0.4808423936367035,0.5145380437374115,0.5301630437374115,0.5277173936367034,0.5245923936367035,0.5398777186870575,0.577921199798584,0.5876358687877655,0.5845108687877655,0.6180027186870575,0.6258152186870575,0.651834237575531],\"type\":\"scatter\"},{\"line\":{\"color\":\"magenta\",\"dash\":\"dot\"},\"showlegend\":false,\"y\":[0.576834237575531,0.614334237575531,0.633423912525177,0.6811820685863494,0.681521737575531,0.6952445685863495,0.7180027186870575,0.7101902186870575,0.6883152186870575,0.7464673936367034,0.8423233687877655,0.960054349899292],\"type\":\"scatter\"},{\"line\":{\"color\":\"cyan\",\"dash\":\"dot\"},\"showlegend\":false,\"y\":[0.496263587474823,0.496603262424469,0.496603262424469,0.500951087474823,0.501834237575531,0.480298912525177,0.476290762424469,0.495040762424469,0.479076087474823,0.48322010934352877,0.49035326242446897,0.496263587474823],\"type\":\"scatter\"},{\"line\":{\"color\":\"green\",\"dash\":\"dot\"},\"showlegend\":false,\"y\":[0.41603260934352876,0.401290762424469,0.41222826242446897,0.398165762424469,0.38600543439388274,0.38009510934352875,0.36134510934352876,0.35353260934352876,0.3679347842931747,0.3904891312122345,0.3658288046717644,0.448709237575531],\"type\":\"scatter\"},{\"line\":{\"color\":\"blue\",\"dash\":\"solid\"},\"showlegend\":false,\"y\":[0.975339674949646,1.0,1.0,1.0,1.0,1.0,1.0,1.0,1.0,1.0,1.0,1.0],\"type\":\"scatter\"},{\"line\":{\"color\":\"red\",\"dash\":\"solid\"},\"showlegend\":false,\"y\":[0.9984375,1.0,1.0,1.0,1.0,1.0,1.0,1.0,1.0,1.0,1.0,1.0],\"type\":\"scatter\"},{\"line\":{\"color\":\"black\",\"dash\":\"solid\"},\"showlegend\":false,\"y\":[0.505978262424469,0.495040762424469,0.496263587474823,0.491236412525177,0.522486412525177,0.525951087474823,0.5469429343938828,0.609646737575531,0.593138587474823,0.588790762424469,0.586888587474823,0.590013587474823],\"type\":\"scatter\"},{\"line\":{\"color\":\"yellow\",\"dash\":\"solid\"},\"showlegend\":false,\"y\":[0.5039402186870575,0.5061820685863495,0.5574048936367035,0.7020380437374115,0.7098505437374115,0.7195652186870575,0.6961277186870575,0.7145380437374115,0.6843070685863495,0.6973505437374115,0.7251358687877655,0.7188858687877655],\"type\":\"scatter\"},{\"line\":{\"color\":\"magenta\",\"dash\":\"solid\"},\"showlegend\":false,\"y\":[0.5906929343938827,0.7058423936367035,0.7836277186870575,0.908491849899292,0.992527174949646,1.0,0.996875,1.0,1.0,1.0,1.0,1.0],\"type\":\"scatter\"},{\"line\":{\"color\":\"cyan\",\"dash\":\"solid\"},\"showlegend\":false,\"y\":[0.480298912525177,0.488451087474823,0.480978262424469,0.480298912525177,0.494701087474823,0.484103262424469,0.48254076242446897,0.4773097842931747,0.4957201093435287,0.504415762424469,0.502173912525177,0.515013587474823],\"type\":\"scatter\"},{\"line\":{\"color\":\"green\",\"dash\":\"solid\"},\"showlegend\":false,\"y\":[0.40441576242446897,0.3913722842931747,0.3922554343938828,0.4097826093435287,0.493138587474823,0.5843070685863495,0.583423912525177,0.5514945685863495,0.501290762424469,0.480638587474823,0.515013587474823,0.547146737575531],\"type\":\"scatter\"},{\"line\":{\"color\":\"blue\"},\"name\":\"alice\",\"y\":[null],\"type\":\"scatter\"},{\"line\":{\"color\":\"red\"},\"name\":\"not\",\"y\":[null],\"type\":\"scatter\"},{\"line\":{\"color\":\"black\"},\"name\":\"alice_xor_not_xor_correct\",\"y\":[null],\"type\":\"scatter\"},{\"line\":{\"color\":\"yellow\"},\"name\":\"not_xor_correct\",\"y\":[null],\"type\":\"scatter\"},{\"line\":{\"color\":\"magenta\"},\"name\":\"alice_xor_not\",\"y\":[null],\"type\":\"scatter\"},{\"line\":{\"color\":\"cyan\"},\"name\":\"alice_xor_correct\",\"y\":[null],\"type\":\"scatter\"},{\"line\":{\"color\":\"green\"},\"name\":\"correct\",\"y\":[null],\"type\":\"scatter\"},{\"line\":{\"color\":\"black\",\"dash\":\"dash\"},\"name\":\"attn-dropout\",\"y\":[null],\"type\":\"scatter\"},{\"line\":{\"color\":\"black\",\"dash\":\"longdash\"},\"name\":\"hidden-dropout\",\"y\":[null],\"type\":\"scatter\"},{\"line\":{\"color\":\"black\",\"dash\":\"dot\"},\"name\":\"no-dropout\",\"y\":[null],\"type\":\"scatter\"},{\"line\":{\"color\":\"black\",\"dash\":\"solid\"},\"name\":\"all-dropout\",\"y\":[null],\"type\":\"scatter\"}],                        {\"height\":800,\"title\":{\"text\":\"Probe test accuracies. Dataset: cities\"},\"xaxis\":{\"title\":{\"text\":\"Layer\"}},\"yaxis\":{\"title\":{\"text\":\"Probe accuracy\"}},\"template\":{\"data\":{\"histogram2dcontour\":[{\"type\":\"histogram2dcontour\",\"colorbar\":{\"outlinewidth\":0,\"ticks\":\"\"},\"colorscale\":[[0.0,\"#0d0887\"],[0.1111111111111111,\"#46039f\"],[0.2222222222222222,\"#7201a8\"],[0.3333333333333333,\"#9c179e\"],[0.4444444444444444,\"#bd3786\"],[0.5555555555555556,\"#d8576b\"],[0.6666666666666666,\"#ed7953\"],[0.7777777777777778,\"#fb9f3a\"],[0.8888888888888888,\"#fdca26\"],[1.0,\"#f0f921\"]]}],\"choropleth\":[{\"type\":\"choropleth\",\"colorbar\":{\"outlinewidth\":0,\"ticks\":\"\"}}],\"histogram2d\":[{\"type\":\"histogram2d\",\"colorbar\":{\"outlinewidth\":0,\"ticks\":\"\"},\"colorscale\":[[0.0,\"#0d0887\"],[0.1111111111111111,\"#46039f\"],[0.2222222222222222,\"#7201a8\"],[0.3333333333333333,\"#9c179e\"],[0.4444444444444444,\"#bd3786\"],[0.5555555555555556,\"#d8576b\"],[0.6666666666666666,\"#ed7953\"],[0.7777777777777778,\"#fb9f3a\"],[0.8888888888888888,\"#fdca26\"],[1.0,\"#f0f921\"]]}],\"heatmap\":[{\"type\":\"heatmap\",\"colorbar\":{\"outlinewidth\":0,\"ticks\":\"\"},\"colorscale\":[[0.0,\"#0d0887\"],[0.1111111111111111,\"#46039f\"],[0.2222222222222222,\"#7201a8\"],[0.3333333333333333,\"#9c179e\"],[0.4444444444444444,\"#bd3786\"],[0.5555555555555556,\"#d8576b\"],[0.6666666666666666,\"#ed7953\"],[0.7777777777777778,\"#fb9f3a\"],[0.8888888888888888,\"#fdca26\"],[1.0,\"#f0f921\"]]}],\"heatmapgl\":[{\"type\":\"heatmapgl\",\"colorbar\":{\"outlinewidth\":0,\"ticks\":\"\"},\"colorscale\":[[0.0,\"#0d0887\"],[0.1111111111111111,\"#46039f\"],[0.2222222222222222,\"#7201a8\"],[0.3333333333333333,\"#9c179e\"],[0.4444444444444444,\"#bd3786\"],[0.5555555555555556,\"#d8576b\"],[0.6666666666666666,\"#ed7953\"],[0.7777777777777778,\"#fb9f3a\"],[0.8888888888888888,\"#fdca26\"],[1.0,\"#f0f921\"]]}],\"contourcarpet\":[{\"type\":\"contourcarpet\",\"colorbar\":{\"outlinewidth\":0,\"ticks\":\"\"}}],\"contour\":[{\"type\":\"contour\",\"colorbar\":{\"outlinewidth\":0,\"ticks\":\"\"},\"colorscale\":[[0.0,\"#0d0887\"],[0.1111111111111111,\"#46039f\"],[0.2222222222222222,\"#7201a8\"],[0.3333333333333333,\"#9c179e\"],[0.4444444444444444,\"#bd3786\"],[0.5555555555555556,\"#d8576b\"],[0.6666666666666666,\"#ed7953\"],[0.7777777777777778,\"#fb9f3a\"],[0.8888888888888888,\"#fdca26\"],[1.0,\"#f0f921\"]]}],\"surface\":[{\"type\":\"surface\",\"colorbar\":{\"outlinewidth\":0,\"ticks\":\"\"},\"colorscale\":[[0.0,\"#0d0887\"],[0.1111111111111111,\"#46039f\"],[0.2222222222222222,\"#7201a8\"],[0.3333333333333333,\"#9c179e\"],[0.4444444444444444,\"#bd3786\"],[0.5555555555555556,\"#d8576b\"],[0.6666666666666666,\"#ed7953\"],[0.7777777777777778,\"#fb9f3a\"],[0.8888888888888888,\"#fdca26\"],[1.0,\"#f0f921\"]]}],\"mesh3d\":[{\"type\":\"mesh3d\",\"colorbar\":{\"outlinewidth\":0,\"ticks\":\"\"}}],\"scatter\":[{\"fillpattern\":{\"fillmode\":\"overlay\",\"size\":10,\"solidity\":0.2},\"type\":\"scatter\"}],\"parcoords\":[{\"type\":\"parcoords\",\"line\":{\"colorbar\":{\"outlinewidth\":0,\"ticks\":\"\"}}}],\"scatterpolargl\":[{\"type\":\"scatterpolargl\",\"marker\":{\"colorbar\":{\"outlinewidth\":0,\"ticks\":\"\"}}}],\"bar\":[{\"error_x\":{\"color\":\"#2a3f5f\"},\"error_y\":{\"color\":\"#2a3f5f\"},\"marker\":{\"line\":{\"color\":\"#E5ECF6\",\"width\":0.5},\"pattern\":{\"fillmode\":\"overlay\",\"size\":10,\"solidity\":0.2}},\"type\":\"bar\"}],\"scattergeo\":[{\"type\":\"scattergeo\",\"marker\":{\"colorbar\":{\"outlinewidth\":0,\"ticks\":\"\"}}}],\"scatterpolar\":[{\"type\":\"scatterpolar\",\"marker\":{\"colorbar\":{\"outlinewidth\":0,\"ticks\":\"\"}}}],\"histogram\":[{\"marker\":{\"pattern\":{\"fillmode\":\"overlay\",\"size\":10,\"solidity\":0.2}},\"type\":\"histogram\"}],\"scattergl\":[{\"type\":\"scattergl\",\"marker\":{\"colorbar\":{\"outlinewidth\":0,\"ticks\":\"\"}}}],\"scatter3d\":[{\"type\":\"scatter3d\",\"line\":{\"colorbar\":{\"outlinewidth\":0,\"ticks\":\"\"}},\"marker\":{\"colorbar\":{\"outlinewidth\":0,\"ticks\":\"\"}}}],\"scattermapbox\":[{\"type\":\"scattermapbox\",\"marker\":{\"colorbar\":{\"outlinewidth\":0,\"ticks\":\"\"}}}],\"scatterternary\":[{\"type\":\"scatterternary\",\"marker\":{\"colorbar\":{\"outlinewidth\":0,\"ticks\":\"\"}}}],\"scattercarpet\":[{\"type\":\"scattercarpet\",\"marker\":{\"colorbar\":{\"outlinewidth\":0,\"ticks\":\"\"}}}],\"carpet\":[{\"aaxis\":{\"endlinecolor\":\"#2a3f5f\",\"gridcolor\":\"white\",\"linecolor\":\"white\",\"minorgridcolor\":\"white\",\"startlinecolor\":\"#2a3f5f\"},\"baxis\":{\"endlinecolor\":\"#2a3f5f\",\"gridcolor\":\"white\",\"linecolor\":\"white\",\"minorgridcolor\":\"white\",\"startlinecolor\":\"#2a3f5f\"},\"type\":\"carpet\"}],\"table\":[{\"cells\":{\"fill\":{\"color\":\"#EBF0F8\"},\"line\":{\"color\":\"white\"}},\"header\":{\"fill\":{\"color\":\"#C8D4E3\"},\"line\":{\"color\":\"white\"}},\"type\":\"table\"}],\"barpolar\":[{\"marker\":{\"line\":{\"color\":\"#E5ECF6\",\"width\":0.5},\"pattern\":{\"fillmode\":\"overlay\",\"size\":10,\"solidity\":0.2}},\"type\":\"barpolar\"}],\"pie\":[{\"automargin\":true,\"type\":\"pie\"}]},\"layout\":{\"autotypenumbers\":\"strict\",\"colorway\":[\"#636efa\",\"#EF553B\",\"#00cc96\",\"#ab63fa\",\"#FFA15A\",\"#19d3f3\",\"#FF6692\",\"#B6E880\",\"#FF97FF\",\"#FECB52\"],\"font\":{\"color\":\"#2a3f5f\"},\"hovermode\":\"closest\",\"hoverlabel\":{\"align\":\"left\"},\"paper_bgcolor\":\"white\",\"plot_bgcolor\":\"#E5ECF6\",\"polar\":{\"bgcolor\":\"#E5ECF6\",\"angularaxis\":{\"gridcolor\":\"white\",\"linecolor\":\"white\",\"ticks\":\"\"},\"radialaxis\":{\"gridcolor\":\"white\",\"linecolor\":\"white\",\"ticks\":\"\"}},\"ternary\":{\"bgcolor\":\"#E5ECF6\",\"aaxis\":{\"gridcolor\":\"white\",\"linecolor\":\"white\",\"ticks\":\"\"},\"baxis\":{\"gridcolor\":\"white\",\"linecolor\":\"white\",\"ticks\":\"\"},\"caxis\":{\"gridcolor\":\"white\",\"linecolor\":\"white\",\"ticks\":\"\"}},\"coloraxis\":{\"colorbar\":{\"outlinewidth\":0,\"ticks\":\"\"}},\"colorscale\":{\"sequential\":[[0.0,\"#0d0887\"],[0.1111111111111111,\"#46039f\"],[0.2222222222222222,\"#7201a8\"],[0.3333333333333333,\"#9c179e\"],[0.4444444444444444,\"#bd3786\"],[0.5555555555555556,\"#d8576b\"],[0.6666666666666666,\"#ed7953\"],[0.7777777777777778,\"#fb9f3a\"],[0.8888888888888888,\"#fdca26\"],[1.0,\"#f0f921\"]],\"sequentialminus\":[[0.0,\"#0d0887\"],[0.1111111111111111,\"#46039f\"],[0.2222222222222222,\"#7201a8\"],[0.3333333333333333,\"#9c179e\"],[0.4444444444444444,\"#bd3786\"],[0.5555555555555556,\"#d8576b\"],[0.6666666666666666,\"#ed7953\"],[0.7777777777777778,\"#fb9f3a\"],[0.8888888888888888,\"#fdca26\"],[1.0,\"#f0f921\"]],\"diverging\":[[0,\"#8e0152\"],[0.1,\"#c51b7d\"],[0.2,\"#de77ae\"],[0.3,\"#f1b6da\"],[0.4,\"#fde0ef\"],[0.5,\"#f7f7f7\"],[0.6,\"#e6f5d0\"],[0.7,\"#b8e186\"],[0.8,\"#7fbc41\"],[0.9,\"#4d9221\"],[1,\"#276419\"]]},\"xaxis\":{\"gridcolor\":\"white\",\"linecolor\":\"white\",\"ticks\":\"\",\"title\":{\"standoff\":15},\"zerolinecolor\":\"white\",\"automargin\":true,\"zerolinewidth\":2},\"yaxis\":{\"gridcolor\":\"white\",\"linecolor\":\"white\",\"ticks\":\"\",\"title\":{\"standoff\":15},\"zerolinecolor\":\"white\",\"automargin\":true,\"zerolinewidth\":2},\"scene\":{\"xaxis\":{\"backgroundcolor\":\"#E5ECF6\",\"gridcolor\":\"white\",\"linecolor\":\"white\",\"showbackground\":true,\"ticks\":\"\",\"zerolinecolor\":\"white\",\"gridwidth\":2},\"yaxis\":{\"backgroundcolor\":\"#E5ECF6\",\"gridcolor\":\"white\",\"linecolor\":\"white\",\"showbackground\":true,\"ticks\":\"\",\"zerolinecolor\":\"white\",\"gridwidth\":2},\"zaxis\":{\"backgroundcolor\":\"#E5ECF6\",\"gridcolor\":\"white\",\"linecolor\":\"white\",\"showbackground\":true,\"ticks\":\"\",\"zerolinecolor\":\"white\",\"gridwidth\":2}},\"shapedefaults\":{\"line\":{\"color\":\"#2a3f5f\"}},\"annotationdefaults\":{\"arrowcolor\":\"#2a3f5f\",\"arrowhead\":0,\"arrowwidth\":1},\"geo\":{\"bgcolor\":\"white\",\"landcolor\":\"#E5ECF6\",\"subunitcolor\":\"white\",\"showland\":true,\"showlakes\":true,\"lakecolor\":\"white\"},\"title\":{\"x\":0.05},\"mapbox\":{\"style\":\"light\"}}}},                        {\"responsive\": true}                    ).then(function(){\n",
       "                            \n",
       "var gd = document.getElementById('09acabd6-0d9c-4be1-a760-3b70802c50b3');\n",
       "var x = new MutationObserver(function (mutations, observer) {{\n",
       "        var display = window.getComputedStyle(gd).display;\n",
       "        if (!display || display === 'none') {{\n",
       "            console.log([gd, 'removed!']);\n",
       "            Plotly.purge(gd);\n",
       "            observer.disconnect();\n",
       "        }}\n",
       "}});\n",
       "\n",
       "// Listen for the removal of the full notebook cells\n",
       "var notebookContainer = gd.closest('#notebook-container');\n",
       "if (notebookContainer) {{\n",
       "    x.observe(notebookContainer, {childList: true});\n",
       "}}\n",
       "\n",
       "// Listen for the clearing of the current output cell\n",
       "var outputEl = gd.closest('.output');\n",
       "if (outputEl) {{\n",
       "    x.observe(outputEl, {childList: true});\n",
       "}}\n",
       "\n",
       "                        })                };                });            </script>        </div>"
      ]
     },
     "metadata": {},
     "output_type": "display_data"
    },
    {
     "name": "stdout",
     "output_type": "stream",
     "text": [
      "\n",
      "collecting activations\n"
     ]
    },
    {
     "name": "stderr",
     "output_type": "stream",
     "text": [
      "all-dropout: 100%|██████████| 3960/3960 [04:19<00:00, 15.27it/s]\n",
      "attn-dropout: 100%|██████████| 3960/3960 [04:17<00:00, 15.38it/s]\n",
      "hidden-dropout: 100%|██████████| 3960/3960 [04:19<00:00, 15.27it/s]\n",
      "no-dropout: 100%|██████████| 3960/3960 [04:20<00:00, 15.22it/s]\n"
     ]
    },
    {
     "name": "stdout",
     "output_type": "stream",
     "text": [
      "\n",
      "training probes\n"
     ]
    },
    {
     "name": "stderr",
     "output_type": "stream",
     "text": [
      "all-dropout: 100%|██████████| 84/84 [01:13<00:00,  1.14it/s]\n",
      "attn-dropout: 100%|██████████| 84/84 [01:08<00:00,  1.23it/s]\n",
      "hidden-dropout: 100%|██████████| 84/84 [01:02<00:00,  1.33it/s]\n",
      "no-dropout: 100%|██████████| 84/84 [00:57<00:00,  1.47it/s]\n"
     ]
    },
    {
     "name": "stdout",
     "output_type": "stream",
     "text": [
      "\n",
      "testing probes\n"
     ]
    },
    {
     "name": "stderr",
     "output_type": "stream",
     "text": [
      "all-dropout: 100%|██████████| 84/84 [00:05<00:00, 15.36it/s]\n",
      "attn-dropout: 100%|██████████| 84/84 [00:05<00:00, 14.36it/s]\n",
      "hidden-dropout: 100%|██████████| 84/84 [00:04<00:00, 18.15it/s]\n",
      "no-dropout: 100%|██████████| 84/84 [00:05<00:00, 15.53it/s]\n"
     ]
    },
    {
     "data": {
      "application/vnd.plotly.v1+json": {
       "config": {
        "plotlyServerURL": "https://plot.ly"
       },
       "data": [
        {
         "line": {
          "color": "blue",
          "dash": "dash"
         },
         "showlegend": false,
         "type": "scatter",
         "y": [
          1,
          1,
          1,
          1,
          1,
          1,
          1,
          1,
          1,
          1,
          1,
          1
         ]
        },
        {
         "line": {
          "color": "red",
          "dash": "dash"
         },
         "showlegend": false,
         "type": "scatter",
         "y": [
          1,
          1,
          1,
          1,
          1,
          1,
          1,
          1,
          1,
          1,
          1,
          1
         ]
        },
        {
         "line": {
          "color": "black",
          "dash": "dash"
         },
         "showlegend": false,
         "type": "scatter",
         "y": [
          0.6903044902361356,
          0.7520032066565293,
          0.7520032066565293,
          0.7520032066565293,
          0.7520032066565293,
          0.7520032066565293,
          0.7532051297334524,
          0.7520032066565293,
          0.7532051297334524,
          0.7788461538461539,
          0.8004807692307693,
          0.8137019230769231
         ]
        },
        {
         "line": {
          "color": "yellow",
          "dash": "dash"
         },
         "showlegend": false,
         "type": "scatter",
         "y": [
          0.886618591271914,
          0.9399038461538461,
          0.9302884615384616,
          0.9387019230769231,
          0.9387019230769231,
          0.9435096153846154,
          0.9483173076923077,
          0.9523237210053664,
          0.9487179517745972,
          0.9547275671592126,
          0.9559294902361356,
          0.9699519230769231
         ]
        },
        {
         "line": {
          "color": "magenta",
          "dash": "dash"
         },
         "showlegend": false,
         "type": "scatter",
         "y": [
          0.5076121802513416,
          0.6282051297334524,
          0.6670673076923077,
          0.6999198748515203,
          0.7319711538461539,
          0.7872596153846154,
          0.8758012835796063,
          0.9046474374257601,
          0.9082532066565293,
          0.9819711538461539,
          0.9871794902361356,
          0.994391028697674
         ]
        },
        {
         "line": {
          "color": "cyan",
          "dash": "dash"
         },
         "showlegend": false,
         "type": "scatter",
         "y": [
          0.5164262835796063,
          0.5032051297334524,
          0.5020032066565293,
          0.5012019230769231,
          0.5004006417898031,
          0.5040064110205724,
          0.5132211538461539,
          0.5368589758872986,
          0.5464743605026832,
          0.6322115384615384,
          0.6674679517745972,
          0.7231570528103755
         ]
        },
        {
         "line": {
          "color": "green",
          "dash": "dash"
         },
         "showlegend": false,
         "type": "scatter",
         "y": [
          0.46554487255903393,
          0.5188301297334524,
          0.5592948725590339,
          0.5665064110205724,
          0.5913461538461539,
          0.5993589758872986,
          0.6298076923076923,
          0.6490384615384616,
          0.6606570528103755,
          0.7363782066565293,
          0.7447916681949909,
          0.8245192307692307
         ]
        },
        {
         "line": {
          "color": "blue",
          "dash": "longdash"
         },
         "showlegend": false,
         "type": "scatter",
         "y": [
          1,
          1,
          1,
          1,
          1,
          1,
          1,
          1,
          1,
          1,
          1,
          1
         ]
        },
        {
         "line": {
          "color": "red",
          "dash": "longdash"
         },
         "showlegend": false,
         "type": "scatter",
         "y": [
          1,
          1,
          1,
          1,
          1,
          1,
          1,
          1,
          1,
          1,
          1,
          1
         ]
        },
        {
         "line": {
          "color": "black",
          "dash": "longdash"
         },
         "showlegend": false,
         "type": "scatter",
         "y": [
          0.7439903846153846,
          0.7495993605026832,
          0.762820514348837,
          0.7592147451180679,
          0.7556089758872986,
          0.7556089758872986,
          0.7604166681949909,
          0.7732371825438279,
          0.7720352594669049,
          0.8080929517745972,
          0.8333333363899817,
          0.8637820528103755
         ]
        },
        {
         "line": {
          "color": "yellow",
          "dash": "longdash"
         },
         "showlegend": false,
         "type": "scatter",
         "y": [
          0.9154647451180679,
          0.9471153846153846,
          0.9399038461538461,
          0.9447115384615384,
          0.9439102594669049,
          0.9471153846153846,
          0.9459134615384616,
          0.9507211538461539,
          0.9543269230769231,
          0.96875,
          0.9795673076923077,
          0.9975961538461539
         ]
        },
        {
         "line": {
          "color": "magenta",
          "dash": "longdash"
         },
         "showlegend": false,
         "type": "scatter",
         "y": [
          0.5200320528103755,
          0.6141826923076923,
          0.7952724374257601,
          0.7435897451180679,
          0.7111378220411447,
          0.7111378220411447,
          0.8377403846153846,
          0.9090544902361356,
          0.9246794902361356,
          0.9915865384615384,
          1,
          1
         ]
        },
        {
         "line": {
          "color": "cyan",
          "dash": "longdash"
         },
         "showlegend": false,
         "type": "scatter",
         "y": [
          0.5212339758872986,
          0.513621795635957,
          0.5,
          0.5152243605026832,
          0.5068108989642217,
          0.5164262835796063,
          0.5104166681949909,
          0.510016028697674,
          0.5136217979284433,
          0.541266028697674,
          0.5901442307692307,
          0.6446314133130587
         ]
        },
        {
         "line": {
          "color": "green",
          "dash": "longdash"
         },
         "showlegend": false,
         "type": "scatter",
         "y": [
          0.4559294879436493,
          0.53125,
          0.5488782066565293,
          0.5681089758872986,
          0.5729166681949909,
          0.5745192307692307,
          0.5889423076923077,
          0.622195514348837,
          0.6270032066565293,
          0.6979166681949909,
          0.761618591271914,
          0.836939105620751
         ]
        },
        {
         "line": {
          "color": "blue",
          "dash": "dot"
         },
         "showlegend": false,
         "type": "scatter",
         "y": [
          1,
          1,
          1,
          1,
          1,
          1,
          1,
          1,
          1,
          1,
          1,
          1
         ]
        },
        {
         "line": {
          "color": "red",
          "dash": "dot"
         },
         "showlegend": false,
         "type": "scatter",
         "y": [
          1,
          1,
          1,
          1,
          1,
          1,
          1,
          1,
          1,
          1,
          1,
          1
         ]
        },
        {
         "line": {
          "color": "black",
          "dash": "dot"
         },
         "showlegend": false,
         "type": "scatter",
         "y": [
          0.6694711538461539,
          0.7696314133130587,
          0.7660256440822895,
          0.7556089758872986,
          0.7556089758872986,
          0.7532051297334524,
          0.7532051297334524,
          0.7544070528103755,
          0.7664262835796063,
          0.7800480769230769,
          0.7908653846153846,
          0.8365384615384616
         ]
        },
        {
         "line": {
          "color": "yellow",
          "dash": "dot"
         },
         "showlegend": false,
         "type": "scatter",
         "y": [
          0.9026442307692307,
          0.9330929517745972,
          0.9222756440822895,
          0.9314903846153846,
          0.9350961538461539,
          0.9435096153846154,
          0.9579326923076923,
          0.9615384615384616,
          0.9679487210053664,
          0.9679487210053664,
          0.9711538461538461,
          0.9807692307692307
         ]
        },
        {
         "line": {
          "color": "magenta",
          "dash": "dot"
         },
         "showlegend": false,
         "type": "scatter",
         "y": [
          0.5108173076923077,
          0.5697115384615384,
          0.5861378220411447,
          0.714743591271914,
          0.75,
          0.7844551297334524,
          0.8613782066565293,
          0.883814105620751,
          0.8758012835796063,
          0.9262820528103755,
          0.9403044902361356,
          0.9939903846153846
         ]
        },
        {
         "line": {
          "color": "cyan",
          "dash": "dot"
         },
         "showlegend": false,
         "type": "scatter",
         "y": [
          0.49559294948211086,
          0.497195514348837,
          0.5056089758872986,
          0.5080128220411447,
          0.5008012835796063,
          0.49278846153846156,
          0.5096153846153846,
          0.5164262835796063,
          0.51482371871288,
          0.5344551297334524,
          0.542868591271914,
          0.6418269230769231
         ]
        },
        {
         "line": {
          "color": "green",
          "dash": "dot"
         },
         "showlegend": false,
         "type": "scatter",
         "y": [
          0.4431089758872986,
          0.46634615384615385,
          0.4855769230769231,
          0.5076121802513416,
          0.5192307692307693,
          0.5412660264051877,
          0.5785256417898031,
          0.6173878220411447,
          0.6414262835796063,
          0.6646634615384616,
          0.6967147451180679,
          0.8076923076923077
         ]
        },
        {
         "line": {
          "color": "blue",
          "dash": "solid"
         },
         "showlegend": false,
         "type": "scatter",
         "y": [
          1,
          1,
          1,
          1,
          1,
          1,
          1,
          1,
          1,
          1,
          1,
          1
         ]
        },
        {
         "line": {
          "color": "red",
          "dash": "solid"
         },
         "showlegend": false,
         "type": "scatter",
         "y": [
          1,
          1,
          1,
          1,
          1,
          1,
          1,
          1,
          1,
          1,
          1,
          1
         ]
        },
        {
         "line": {
          "color": "black",
          "dash": "solid"
         },
         "showlegend": false,
         "type": "scatter",
         "y": [
          0.7331730769230769,
          0.7544070528103755,
          0.7700320528103755,
          0.7996794902361356,
          0.8080929517745972,
          0.8425480769230769,
          0.8653846153846154,
          0.9138621825438279,
          0.9411057692307693,
          0.931891028697674,
          0.9206730769230769,
          0.921875
         ]
        },
        {
         "line": {
          "color": "yellow",
          "dash": "solid"
         },
         "showlegend": false,
         "type": "scatter",
         "y": [
          0.9242788461538461,
          0.9595352594669049,
          0.9603365384615384,
          0.9783653846153846,
          0.9879807692307693,
          0.9891826923076923,
          0.9867788461538461,
          0.9855769230769231,
          0.9855769230769231,
          0.9819711538461539,
          0.9771634615384616,
          0.9819711538461539
         ]
        },
        {
         "line": {
          "color": "magenta",
          "dash": "solid"
         },
         "showlegend": false,
         "type": "scatter",
         "y": [
          0.5256410264051877,
          0.6306089758872986,
          0.9122596153846154,
          0.9975961538461539,
          1,
          1,
          1,
          1,
          1,
          1,
          1,
          1
         ]
        },
        {
         "line": {
          "color": "cyan",
          "dash": "solid"
         },
         "showlegend": false,
         "type": "scatter",
         "y": [
          0.5036057692307693,
          0.4947916681949909,
          0.5064102571744186,
          0.5316506417898031,
          0.5641025671592126,
          0.6057692307692307,
          0.6574519230769231,
          0.7267628220411447,
          0.744391028697674,
          0.7716346153846154,
          0.7864583363899817,
          0.8028846153846154
         ]
        },
        {
         "line": {
          "color": "green",
          "dash": "solid"
         },
         "showlegend": false,
         "type": "scatter",
         "y": [
          0.4675480769230769,
          0.6117788461538461,
          0.6646634615384616,
          0.7479967979284433,
          0.8189102594669049,
          0.8393429517745972,
          0.8826121825438279,
          0.8986378220411447,
          0.8649839758872986,
          0.868189105620751,
          0.8834134615384616,
          0.8705929517745972
         ]
        },
        {
         "line": {
          "color": "blue"
         },
         "name": "alice",
         "type": "scatter",
         "y": [
          null
         ]
        },
        {
         "line": {
          "color": "red"
         },
         "name": "not",
         "type": "scatter",
         "y": [
          null
         ]
        },
        {
         "line": {
          "color": "black"
         },
         "name": "alice_xor_not_xor_correct",
         "type": "scatter",
         "y": [
          null
         ]
        },
        {
         "line": {
          "color": "yellow"
         },
         "name": "not_xor_correct",
         "type": "scatter",
         "y": [
          null
         ]
        },
        {
         "line": {
          "color": "magenta"
         },
         "name": "alice_xor_not",
         "type": "scatter",
         "y": [
          null
         ]
        },
        {
         "line": {
          "color": "cyan"
         },
         "name": "alice_xor_correct",
         "type": "scatter",
         "y": [
          null
         ]
        },
        {
         "line": {
          "color": "green"
         },
         "name": "correct",
         "type": "scatter",
         "y": [
          null
         ]
        },
        {
         "line": {
          "color": "black",
          "dash": "dash"
         },
         "name": "attn-dropout",
         "type": "scatter",
         "y": [
          null
         ]
        },
        {
         "line": {
          "color": "black",
          "dash": "longdash"
         },
         "name": "hidden-dropout",
         "type": "scatter",
         "y": [
          null
         ]
        },
        {
         "line": {
          "color": "black",
          "dash": "dot"
         },
         "name": "no-dropout",
         "type": "scatter",
         "y": [
          null
         ]
        },
        {
         "line": {
          "color": "black",
          "dash": "solid"
         },
         "name": "all-dropout",
         "type": "scatter",
         "y": [
          null
         ]
        }
       ],
       "layout": {
        "height": 800,
        "template": {
         "data": {
          "bar": [
           {
            "error_x": {
             "color": "#2a3f5f"
            },
            "error_y": {
             "color": "#2a3f5f"
            },
            "marker": {
             "line": {
              "color": "#E5ECF6",
              "width": 0.5
             },
             "pattern": {
              "fillmode": "overlay",
              "size": 10,
              "solidity": 0.2
             }
            },
            "type": "bar"
           }
          ],
          "barpolar": [
           {
            "marker": {
             "line": {
              "color": "#E5ECF6",
              "width": 0.5
             },
             "pattern": {
              "fillmode": "overlay",
              "size": 10,
              "solidity": 0.2
             }
            },
            "type": "barpolar"
           }
          ],
          "carpet": [
           {
            "aaxis": {
             "endlinecolor": "#2a3f5f",
             "gridcolor": "white",
             "linecolor": "white",
             "minorgridcolor": "white",
             "startlinecolor": "#2a3f5f"
            },
            "baxis": {
             "endlinecolor": "#2a3f5f",
             "gridcolor": "white",
             "linecolor": "white",
             "minorgridcolor": "white",
             "startlinecolor": "#2a3f5f"
            },
            "type": "carpet"
           }
          ],
          "choropleth": [
           {
            "colorbar": {
             "outlinewidth": 0,
             "ticks": ""
            },
            "type": "choropleth"
           }
          ],
          "contour": [
           {
            "colorbar": {
             "outlinewidth": 0,
             "ticks": ""
            },
            "colorscale": [
             [
              0,
              "#0d0887"
             ],
             [
              0.1111111111111111,
              "#46039f"
             ],
             [
              0.2222222222222222,
              "#7201a8"
             ],
             [
              0.3333333333333333,
              "#9c179e"
             ],
             [
              0.4444444444444444,
              "#bd3786"
             ],
             [
              0.5555555555555556,
              "#d8576b"
             ],
             [
              0.6666666666666666,
              "#ed7953"
             ],
             [
              0.7777777777777778,
              "#fb9f3a"
             ],
             [
              0.8888888888888888,
              "#fdca26"
             ],
             [
              1,
              "#f0f921"
             ]
            ],
            "type": "contour"
           }
          ],
          "contourcarpet": [
           {
            "colorbar": {
             "outlinewidth": 0,
             "ticks": ""
            },
            "type": "contourcarpet"
           }
          ],
          "heatmap": [
           {
            "colorbar": {
             "outlinewidth": 0,
             "ticks": ""
            },
            "colorscale": [
             [
              0,
              "#0d0887"
             ],
             [
              0.1111111111111111,
              "#46039f"
             ],
             [
              0.2222222222222222,
              "#7201a8"
             ],
             [
              0.3333333333333333,
              "#9c179e"
             ],
             [
              0.4444444444444444,
              "#bd3786"
             ],
             [
              0.5555555555555556,
              "#d8576b"
             ],
             [
              0.6666666666666666,
              "#ed7953"
             ],
             [
              0.7777777777777778,
              "#fb9f3a"
             ],
             [
              0.8888888888888888,
              "#fdca26"
             ],
             [
              1,
              "#f0f921"
             ]
            ],
            "type": "heatmap"
           }
          ],
          "heatmapgl": [
           {
            "colorbar": {
             "outlinewidth": 0,
             "ticks": ""
            },
            "colorscale": [
             [
              0,
              "#0d0887"
             ],
             [
              0.1111111111111111,
              "#46039f"
             ],
             [
              0.2222222222222222,
              "#7201a8"
             ],
             [
              0.3333333333333333,
              "#9c179e"
             ],
             [
              0.4444444444444444,
              "#bd3786"
             ],
             [
              0.5555555555555556,
              "#d8576b"
             ],
             [
              0.6666666666666666,
              "#ed7953"
             ],
             [
              0.7777777777777778,
              "#fb9f3a"
             ],
             [
              0.8888888888888888,
              "#fdca26"
             ],
             [
              1,
              "#f0f921"
             ]
            ],
            "type": "heatmapgl"
           }
          ],
          "histogram": [
           {
            "marker": {
             "pattern": {
              "fillmode": "overlay",
              "size": 10,
              "solidity": 0.2
             }
            },
            "type": "histogram"
           }
          ],
          "histogram2d": [
           {
            "colorbar": {
             "outlinewidth": 0,
             "ticks": ""
            },
            "colorscale": [
             [
              0,
              "#0d0887"
             ],
             [
              0.1111111111111111,
              "#46039f"
             ],
             [
              0.2222222222222222,
              "#7201a8"
             ],
             [
              0.3333333333333333,
              "#9c179e"
             ],
             [
              0.4444444444444444,
              "#bd3786"
             ],
             [
              0.5555555555555556,
              "#d8576b"
             ],
             [
              0.6666666666666666,
              "#ed7953"
             ],
             [
              0.7777777777777778,
              "#fb9f3a"
             ],
             [
              0.8888888888888888,
              "#fdca26"
             ],
             [
              1,
              "#f0f921"
             ]
            ],
            "type": "histogram2d"
           }
          ],
          "histogram2dcontour": [
           {
            "colorbar": {
             "outlinewidth": 0,
             "ticks": ""
            },
            "colorscale": [
             [
              0,
              "#0d0887"
             ],
             [
              0.1111111111111111,
              "#46039f"
             ],
             [
              0.2222222222222222,
              "#7201a8"
             ],
             [
              0.3333333333333333,
              "#9c179e"
             ],
             [
              0.4444444444444444,
              "#bd3786"
             ],
             [
              0.5555555555555556,
              "#d8576b"
             ],
             [
              0.6666666666666666,
              "#ed7953"
             ],
             [
              0.7777777777777778,
              "#fb9f3a"
             ],
             [
              0.8888888888888888,
              "#fdca26"
             ],
             [
              1,
              "#f0f921"
             ]
            ],
            "type": "histogram2dcontour"
           }
          ],
          "mesh3d": [
           {
            "colorbar": {
             "outlinewidth": 0,
             "ticks": ""
            },
            "type": "mesh3d"
           }
          ],
          "parcoords": [
           {
            "line": {
             "colorbar": {
              "outlinewidth": 0,
              "ticks": ""
             }
            },
            "type": "parcoords"
           }
          ],
          "pie": [
           {
            "automargin": true,
            "type": "pie"
           }
          ],
          "scatter": [
           {
            "fillpattern": {
             "fillmode": "overlay",
             "size": 10,
             "solidity": 0.2
            },
            "type": "scatter"
           }
          ],
          "scatter3d": [
           {
            "line": {
             "colorbar": {
              "outlinewidth": 0,
              "ticks": ""
             }
            },
            "marker": {
             "colorbar": {
              "outlinewidth": 0,
              "ticks": ""
             }
            },
            "type": "scatter3d"
           }
          ],
          "scattercarpet": [
           {
            "marker": {
             "colorbar": {
              "outlinewidth": 0,
              "ticks": ""
             }
            },
            "type": "scattercarpet"
           }
          ],
          "scattergeo": [
           {
            "marker": {
             "colorbar": {
              "outlinewidth": 0,
              "ticks": ""
             }
            },
            "type": "scattergeo"
           }
          ],
          "scattergl": [
           {
            "marker": {
             "colorbar": {
              "outlinewidth": 0,
              "ticks": ""
             }
            },
            "type": "scattergl"
           }
          ],
          "scattermapbox": [
           {
            "marker": {
             "colorbar": {
              "outlinewidth": 0,
              "ticks": ""
             }
            },
            "type": "scattermapbox"
           }
          ],
          "scatterpolar": [
           {
            "marker": {
             "colorbar": {
              "outlinewidth": 0,
              "ticks": ""
             }
            },
            "type": "scatterpolar"
           }
          ],
          "scatterpolargl": [
           {
            "marker": {
             "colorbar": {
              "outlinewidth": 0,
              "ticks": ""
             }
            },
            "type": "scatterpolargl"
           }
          ],
          "scatterternary": [
           {
            "marker": {
             "colorbar": {
              "outlinewidth": 0,
              "ticks": ""
             }
            },
            "type": "scatterternary"
           }
          ],
          "surface": [
           {
            "colorbar": {
             "outlinewidth": 0,
             "ticks": ""
            },
            "colorscale": [
             [
              0,
              "#0d0887"
             ],
             [
              0.1111111111111111,
              "#46039f"
             ],
             [
              0.2222222222222222,
              "#7201a8"
             ],
             [
              0.3333333333333333,
              "#9c179e"
             ],
             [
              0.4444444444444444,
              "#bd3786"
             ],
             [
              0.5555555555555556,
              "#d8576b"
             ],
             [
              0.6666666666666666,
              "#ed7953"
             ],
             [
              0.7777777777777778,
              "#fb9f3a"
             ],
             [
              0.8888888888888888,
              "#fdca26"
             ],
             [
              1,
              "#f0f921"
             ]
            ],
            "type": "surface"
           }
          ],
          "table": [
           {
            "cells": {
             "fill": {
              "color": "#EBF0F8"
             },
             "line": {
              "color": "white"
             }
            },
            "header": {
             "fill": {
              "color": "#C8D4E3"
             },
             "line": {
              "color": "white"
             }
            },
            "type": "table"
           }
          ]
         },
         "layout": {
          "annotationdefaults": {
           "arrowcolor": "#2a3f5f",
           "arrowhead": 0,
           "arrowwidth": 1
          },
          "autotypenumbers": "strict",
          "coloraxis": {
           "colorbar": {
            "outlinewidth": 0,
            "ticks": ""
           }
          },
          "colorscale": {
           "diverging": [
            [
             0,
             "#8e0152"
            ],
            [
             0.1,
             "#c51b7d"
            ],
            [
             0.2,
             "#de77ae"
            ],
            [
             0.3,
             "#f1b6da"
            ],
            [
             0.4,
             "#fde0ef"
            ],
            [
             0.5,
             "#f7f7f7"
            ],
            [
             0.6,
             "#e6f5d0"
            ],
            [
             0.7,
             "#b8e186"
            ],
            [
             0.8,
             "#7fbc41"
            ],
            [
             0.9,
             "#4d9221"
            ],
            [
             1,
             "#276419"
            ]
           ],
           "sequential": [
            [
             0,
             "#0d0887"
            ],
            [
             0.1111111111111111,
             "#46039f"
            ],
            [
             0.2222222222222222,
             "#7201a8"
            ],
            [
             0.3333333333333333,
             "#9c179e"
            ],
            [
             0.4444444444444444,
             "#bd3786"
            ],
            [
             0.5555555555555556,
             "#d8576b"
            ],
            [
             0.6666666666666666,
             "#ed7953"
            ],
            [
             0.7777777777777778,
             "#fb9f3a"
            ],
            [
             0.8888888888888888,
             "#fdca26"
            ],
            [
             1,
             "#f0f921"
            ]
           ],
           "sequentialminus": [
            [
             0,
             "#0d0887"
            ],
            [
             0.1111111111111111,
             "#46039f"
            ],
            [
             0.2222222222222222,
             "#7201a8"
            ],
            [
             0.3333333333333333,
             "#9c179e"
            ],
            [
             0.4444444444444444,
             "#bd3786"
            ],
            [
             0.5555555555555556,
             "#d8576b"
            ],
            [
             0.6666666666666666,
             "#ed7953"
            ],
            [
             0.7777777777777778,
             "#fb9f3a"
            ],
            [
             0.8888888888888888,
             "#fdca26"
            ],
            [
             1,
             "#f0f921"
            ]
           ]
          },
          "colorway": [
           "#636efa",
           "#EF553B",
           "#00cc96",
           "#ab63fa",
           "#FFA15A",
           "#19d3f3",
           "#FF6692",
           "#B6E880",
           "#FF97FF",
           "#FECB52"
          ],
          "font": {
           "color": "#2a3f5f"
          },
          "geo": {
           "bgcolor": "white",
           "lakecolor": "white",
           "landcolor": "#E5ECF6",
           "showlakes": true,
           "showland": true,
           "subunitcolor": "white"
          },
          "hoverlabel": {
           "align": "left"
          },
          "hovermode": "closest",
          "mapbox": {
           "style": "light"
          },
          "paper_bgcolor": "white",
          "plot_bgcolor": "#E5ECF6",
          "polar": {
           "angularaxis": {
            "gridcolor": "white",
            "linecolor": "white",
            "ticks": ""
           },
           "bgcolor": "#E5ECF6",
           "radialaxis": {
            "gridcolor": "white",
            "linecolor": "white",
            "ticks": ""
           }
          },
          "scene": {
           "xaxis": {
            "backgroundcolor": "#E5ECF6",
            "gridcolor": "white",
            "gridwidth": 2,
            "linecolor": "white",
            "showbackground": true,
            "ticks": "",
            "zerolinecolor": "white"
           },
           "yaxis": {
            "backgroundcolor": "#E5ECF6",
            "gridcolor": "white",
            "gridwidth": 2,
            "linecolor": "white",
            "showbackground": true,
            "ticks": "",
            "zerolinecolor": "white"
           },
           "zaxis": {
            "backgroundcolor": "#E5ECF6",
            "gridcolor": "white",
            "gridwidth": 2,
            "linecolor": "white",
            "showbackground": true,
            "ticks": "",
            "zerolinecolor": "white"
           }
          },
          "shapedefaults": {
           "line": {
            "color": "#2a3f5f"
           }
          },
          "ternary": {
           "aaxis": {
            "gridcolor": "white",
            "linecolor": "white",
            "ticks": ""
           },
           "baxis": {
            "gridcolor": "white",
            "linecolor": "white",
            "ticks": ""
           },
           "bgcolor": "#E5ECF6",
           "caxis": {
            "gridcolor": "white",
            "linecolor": "white",
            "ticks": ""
           }
          },
          "title": {
           "x": 0.05
          },
          "xaxis": {
           "automargin": true,
           "gridcolor": "white",
           "linecolor": "white",
           "ticks": "",
           "title": {
            "standoff": 15
           },
           "zerolinecolor": "white",
           "zerolinewidth": 2
          },
          "yaxis": {
           "automargin": true,
           "gridcolor": "white",
           "linecolor": "white",
           "ticks": "",
           "title": {
            "standoff": 15
           },
           "zerolinecolor": "white",
           "zerolinewidth": 2
          }
         }
        },
        "title": {
         "text": "Probe test accuracies. Dataset: larger_than"
        },
        "xaxis": {
         "title": {
          "text": "Layer"
         }
        },
        "yaxis": {
         "title": {
          "text": "Probe accuracy"
         }
        }
       }
      },
      "text/html": [
       "<div>                            <div id=\"40bf6734-b86c-4df5-8ebc-23c1e614baab\" class=\"plotly-graph-div\" style=\"height:800px; width:100%;\"></div>            <script type=\"text/javascript\">                require([\"plotly\"], function(Plotly) {                    window.PLOTLYENV=window.PLOTLYENV || {};                                    if (document.getElementById(\"40bf6734-b86c-4df5-8ebc-23c1e614baab\")) {                    Plotly.newPlot(                        \"40bf6734-b86c-4df5-8ebc-23c1e614baab\",                        [{\"line\":{\"color\":\"blue\",\"dash\":\"dash\"},\"showlegend\":false,\"y\":[1.0,1.0,1.0,1.0,1.0,1.0,1.0,1.0,1.0,1.0,1.0,1.0],\"type\":\"scatter\"},{\"line\":{\"color\":\"red\",\"dash\":\"dash\"},\"showlegend\":false,\"y\":[1.0,1.0,1.0,1.0,1.0,1.0,1.0,1.0,1.0,1.0,1.0,1.0],\"type\":\"scatter\"},{\"line\":{\"color\":\"black\",\"dash\":\"dash\"},\"showlegend\":false,\"y\":[0.6903044902361356,0.7520032066565293,0.7520032066565293,0.7520032066565293,0.7520032066565293,0.7520032066565293,0.7532051297334524,0.7520032066565293,0.7532051297334524,0.7788461538461539,0.8004807692307693,0.8137019230769231],\"type\":\"scatter\"},{\"line\":{\"color\":\"yellow\",\"dash\":\"dash\"},\"showlegend\":false,\"y\":[0.886618591271914,0.9399038461538461,0.9302884615384616,0.9387019230769231,0.9387019230769231,0.9435096153846154,0.9483173076923077,0.9523237210053664,0.9487179517745972,0.9547275671592126,0.9559294902361356,0.9699519230769231],\"type\":\"scatter\"},{\"line\":{\"color\":\"magenta\",\"dash\":\"dash\"},\"showlegend\":false,\"y\":[0.5076121802513416,0.6282051297334524,0.6670673076923077,0.6999198748515203,0.7319711538461539,0.7872596153846154,0.8758012835796063,0.9046474374257601,0.9082532066565293,0.9819711538461539,0.9871794902361356,0.994391028697674],\"type\":\"scatter\"},{\"line\":{\"color\":\"cyan\",\"dash\":\"dash\"},\"showlegend\":false,\"y\":[0.5164262835796063,0.5032051297334524,0.5020032066565293,0.5012019230769231,0.5004006417898031,0.5040064110205724,0.5132211538461539,0.5368589758872986,0.5464743605026832,0.6322115384615384,0.6674679517745972,0.7231570528103755],\"type\":\"scatter\"},{\"line\":{\"color\":\"green\",\"dash\":\"dash\"},\"showlegend\":false,\"y\":[0.46554487255903393,0.5188301297334524,0.5592948725590339,0.5665064110205724,0.5913461538461539,0.5993589758872986,0.6298076923076923,0.6490384615384616,0.6606570528103755,0.7363782066565293,0.7447916681949909,0.8245192307692307],\"type\":\"scatter\"},{\"line\":{\"color\":\"blue\",\"dash\":\"longdash\"},\"showlegend\":false,\"y\":[1.0,1.0,1.0,1.0,1.0,1.0,1.0,1.0,1.0,1.0,1.0,1.0],\"type\":\"scatter\"},{\"line\":{\"color\":\"red\",\"dash\":\"longdash\"},\"showlegend\":false,\"y\":[1.0,1.0,1.0,1.0,1.0,1.0,1.0,1.0,1.0,1.0,1.0,1.0],\"type\":\"scatter\"},{\"line\":{\"color\":\"black\",\"dash\":\"longdash\"},\"showlegend\":false,\"y\":[0.7439903846153846,0.7495993605026832,0.762820514348837,0.7592147451180679,0.7556089758872986,0.7556089758872986,0.7604166681949909,0.7732371825438279,0.7720352594669049,0.8080929517745972,0.8333333363899817,0.8637820528103755],\"type\":\"scatter\"},{\"line\":{\"color\":\"yellow\",\"dash\":\"longdash\"},\"showlegend\":false,\"y\":[0.9154647451180679,0.9471153846153846,0.9399038461538461,0.9447115384615384,0.9439102594669049,0.9471153846153846,0.9459134615384616,0.9507211538461539,0.9543269230769231,0.96875,0.9795673076923077,0.9975961538461539],\"type\":\"scatter\"},{\"line\":{\"color\":\"magenta\",\"dash\":\"longdash\"},\"showlegend\":false,\"y\":[0.5200320528103755,0.6141826923076923,0.7952724374257601,0.7435897451180679,0.7111378220411447,0.7111378220411447,0.8377403846153846,0.9090544902361356,0.9246794902361356,0.9915865384615384,1.0,1.0],\"type\":\"scatter\"},{\"line\":{\"color\":\"cyan\",\"dash\":\"longdash\"},\"showlegend\":false,\"y\":[0.5212339758872986,0.513621795635957,0.5,0.5152243605026832,0.5068108989642217,0.5164262835796063,0.5104166681949909,0.510016028697674,0.5136217979284433,0.541266028697674,0.5901442307692307,0.6446314133130587],\"type\":\"scatter\"},{\"line\":{\"color\":\"green\",\"dash\":\"longdash\"},\"showlegend\":false,\"y\":[0.4559294879436493,0.53125,0.5488782066565293,0.5681089758872986,0.5729166681949909,0.5745192307692307,0.5889423076923077,0.622195514348837,0.6270032066565293,0.6979166681949909,0.761618591271914,0.836939105620751],\"type\":\"scatter\"},{\"line\":{\"color\":\"blue\",\"dash\":\"dot\"},\"showlegend\":false,\"y\":[1.0,1.0,1.0,1.0,1.0,1.0,1.0,1.0,1.0,1.0,1.0,1.0],\"type\":\"scatter\"},{\"line\":{\"color\":\"red\",\"dash\":\"dot\"},\"showlegend\":false,\"y\":[1.0,1.0,1.0,1.0,1.0,1.0,1.0,1.0,1.0,1.0,1.0,1.0],\"type\":\"scatter\"},{\"line\":{\"color\":\"black\",\"dash\":\"dot\"},\"showlegend\":false,\"y\":[0.6694711538461539,0.7696314133130587,0.7660256440822895,0.7556089758872986,0.7556089758872986,0.7532051297334524,0.7532051297334524,0.7544070528103755,0.7664262835796063,0.7800480769230769,0.7908653846153846,0.8365384615384616],\"type\":\"scatter\"},{\"line\":{\"color\":\"yellow\",\"dash\":\"dot\"},\"showlegend\":false,\"y\":[0.9026442307692307,0.9330929517745972,0.9222756440822895,0.9314903846153846,0.9350961538461539,0.9435096153846154,0.9579326923076923,0.9615384615384616,0.9679487210053664,0.9679487210053664,0.9711538461538461,0.9807692307692307],\"type\":\"scatter\"},{\"line\":{\"color\":\"magenta\",\"dash\":\"dot\"},\"showlegend\":false,\"y\":[0.5108173076923077,0.5697115384615384,0.5861378220411447,0.714743591271914,0.75,0.7844551297334524,0.8613782066565293,0.883814105620751,0.8758012835796063,0.9262820528103755,0.9403044902361356,0.9939903846153846],\"type\":\"scatter\"},{\"line\":{\"color\":\"cyan\",\"dash\":\"dot\"},\"showlegend\":false,\"y\":[0.49559294948211086,0.497195514348837,0.5056089758872986,0.5080128220411447,0.5008012835796063,0.49278846153846156,0.5096153846153846,0.5164262835796063,0.51482371871288,0.5344551297334524,0.542868591271914,0.6418269230769231],\"type\":\"scatter\"},{\"line\":{\"color\":\"green\",\"dash\":\"dot\"},\"showlegend\":false,\"y\":[0.4431089758872986,0.46634615384615385,0.4855769230769231,0.5076121802513416,0.5192307692307693,0.5412660264051877,0.5785256417898031,0.6173878220411447,0.6414262835796063,0.6646634615384616,0.6967147451180679,0.8076923076923077],\"type\":\"scatter\"},{\"line\":{\"color\":\"blue\",\"dash\":\"solid\"},\"showlegend\":false,\"y\":[1.0,1.0,1.0,1.0,1.0,1.0,1.0,1.0,1.0,1.0,1.0,1.0],\"type\":\"scatter\"},{\"line\":{\"color\":\"red\",\"dash\":\"solid\"},\"showlegend\":false,\"y\":[1.0,1.0,1.0,1.0,1.0,1.0,1.0,1.0,1.0,1.0,1.0,1.0],\"type\":\"scatter\"},{\"line\":{\"color\":\"black\",\"dash\":\"solid\"},\"showlegend\":false,\"y\":[0.7331730769230769,0.7544070528103755,0.7700320528103755,0.7996794902361356,0.8080929517745972,0.8425480769230769,0.8653846153846154,0.9138621825438279,0.9411057692307693,0.931891028697674,0.9206730769230769,0.921875],\"type\":\"scatter\"},{\"line\":{\"color\":\"yellow\",\"dash\":\"solid\"},\"showlegend\":false,\"y\":[0.9242788461538461,0.9595352594669049,0.9603365384615384,0.9783653846153846,0.9879807692307693,0.9891826923076923,0.9867788461538461,0.9855769230769231,0.9855769230769231,0.9819711538461539,0.9771634615384616,0.9819711538461539],\"type\":\"scatter\"},{\"line\":{\"color\":\"magenta\",\"dash\":\"solid\"},\"showlegend\":false,\"y\":[0.5256410264051877,0.6306089758872986,0.9122596153846154,0.9975961538461539,1.0,1.0,1.0,1.0,1.0,1.0,1.0,1.0],\"type\":\"scatter\"},{\"line\":{\"color\":\"cyan\",\"dash\":\"solid\"},\"showlegend\":false,\"y\":[0.5036057692307693,0.4947916681949909,0.5064102571744186,0.5316506417898031,0.5641025671592126,0.6057692307692307,0.6574519230769231,0.7267628220411447,0.744391028697674,0.7716346153846154,0.7864583363899817,0.8028846153846154],\"type\":\"scatter\"},{\"line\":{\"color\":\"green\",\"dash\":\"solid\"},\"showlegend\":false,\"y\":[0.4675480769230769,0.6117788461538461,0.6646634615384616,0.7479967979284433,0.8189102594669049,0.8393429517745972,0.8826121825438279,0.8986378220411447,0.8649839758872986,0.868189105620751,0.8834134615384616,0.8705929517745972],\"type\":\"scatter\"},{\"line\":{\"color\":\"blue\"},\"name\":\"alice\",\"y\":[null],\"type\":\"scatter\"},{\"line\":{\"color\":\"red\"},\"name\":\"not\",\"y\":[null],\"type\":\"scatter\"},{\"line\":{\"color\":\"black\"},\"name\":\"alice_xor_not_xor_correct\",\"y\":[null],\"type\":\"scatter\"},{\"line\":{\"color\":\"yellow\"},\"name\":\"not_xor_correct\",\"y\":[null],\"type\":\"scatter\"},{\"line\":{\"color\":\"magenta\"},\"name\":\"alice_xor_not\",\"y\":[null],\"type\":\"scatter\"},{\"line\":{\"color\":\"cyan\"},\"name\":\"alice_xor_correct\",\"y\":[null],\"type\":\"scatter\"},{\"line\":{\"color\":\"green\"},\"name\":\"correct\",\"y\":[null],\"type\":\"scatter\"},{\"line\":{\"color\":\"black\",\"dash\":\"dash\"},\"name\":\"attn-dropout\",\"y\":[null],\"type\":\"scatter\"},{\"line\":{\"color\":\"black\",\"dash\":\"longdash\"},\"name\":\"hidden-dropout\",\"y\":[null],\"type\":\"scatter\"},{\"line\":{\"color\":\"black\",\"dash\":\"dot\"},\"name\":\"no-dropout\",\"y\":[null],\"type\":\"scatter\"},{\"line\":{\"color\":\"black\",\"dash\":\"solid\"},\"name\":\"all-dropout\",\"y\":[null],\"type\":\"scatter\"}],                        {\"height\":800,\"title\":{\"text\":\"Probe test accuracies. Dataset: larger_than\"},\"xaxis\":{\"title\":{\"text\":\"Layer\"}},\"yaxis\":{\"title\":{\"text\":\"Probe accuracy\"}},\"template\":{\"data\":{\"histogram2dcontour\":[{\"type\":\"histogram2dcontour\",\"colorbar\":{\"outlinewidth\":0,\"ticks\":\"\"},\"colorscale\":[[0.0,\"#0d0887\"],[0.1111111111111111,\"#46039f\"],[0.2222222222222222,\"#7201a8\"],[0.3333333333333333,\"#9c179e\"],[0.4444444444444444,\"#bd3786\"],[0.5555555555555556,\"#d8576b\"],[0.6666666666666666,\"#ed7953\"],[0.7777777777777778,\"#fb9f3a\"],[0.8888888888888888,\"#fdca26\"],[1.0,\"#f0f921\"]]}],\"choropleth\":[{\"type\":\"choropleth\",\"colorbar\":{\"outlinewidth\":0,\"ticks\":\"\"}}],\"histogram2d\":[{\"type\":\"histogram2d\",\"colorbar\":{\"outlinewidth\":0,\"ticks\":\"\"},\"colorscale\":[[0.0,\"#0d0887\"],[0.1111111111111111,\"#46039f\"],[0.2222222222222222,\"#7201a8\"],[0.3333333333333333,\"#9c179e\"],[0.4444444444444444,\"#bd3786\"],[0.5555555555555556,\"#d8576b\"],[0.6666666666666666,\"#ed7953\"],[0.7777777777777778,\"#fb9f3a\"],[0.8888888888888888,\"#fdca26\"],[1.0,\"#f0f921\"]]}],\"heatmap\":[{\"type\":\"heatmap\",\"colorbar\":{\"outlinewidth\":0,\"ticks\":\"\"},\"colorscale\":[[0.0,\"#0d0887\"],[0.1111111111111111,\"#46039f\"],[0.2222222222222222,\"#7201a8\"],[0.3333333333333333,\"#9c179e\"],[0.4444444444444444,\"#bd3786\"],[0.5555555555555556,\"#d8576b\"],[0.6666666666666666,\"#ed7953\"],[0.7777777777777778,\"#fb9f3a\"],[0.8888888888888888,\"#fdca26\"],[1.0,\"#f0f921\"]]}],\"heatmapgl\":[{\"type\":\"heatmapgl\",\"colorbar\":{\"outlinewidth\":0,\"ticks\":\"\"},\"colorscale\":[[0.0,\"#0d0887\"],[0.1111111111111111,\"#46039f\"],[0.2222222222222222,\"#7201a8\"],[0.3333333333333333,\"#9c179e\"],[0.4444444444444444,\"#bd3786\"],[0.5555555555555556,\"#d8576b\"],[0.6666666666666666,\"#ed7953\"],[0.7777777777777778,\"#fb9f3a\"],[0.8888888888888888,\"#fdca26\"],[1.0,\"#f0f921\"]]}],\"contourcarpet\":[{\"type\":\"contourcarpet\",\"colorbar\":{\"outlinewidth\":0,\"ticks\":\"\"}}],\"contour\":[{\"type\":\"contour\",\"colorbar\":{\"outlinewidth\":0,\"ticks\":\"\"},\"colorscale\":[[0.0,\"#0d0887\"],[0.1111111111111111,\"#46039f\"],[0.2222222222222222,\"#7201a8\"],[0.3333333333333333,\"#9c179e\"],[0.4444444444444444,\"#bd3786\"],[0.5555555555555556,\"#d8576b\"],[0.6666666666666666,\"#ed7953\"],[0.7777777777777778,\"#fb9f3a\"],[0.8888888888888888,\"#fdca26\"],[1.0,\"#f0f921\"]]}],\"surface\":[{\"type\":\"surface\",\"colorbar\":{\"outlinewidth\":0,\"ticks\":\"\"},\"colorscale\":[[0.0,\"#0d0887\"],[0.1111111111111111,\"#46039f\"],[0.2222222222222222,\"#7201a8\"],[0.3333333333333333,\"#9c179e\"],[0.4444444444444444,\"#bd3786\"],[0.5555555555555556,\"#d8576b\"],[0.6666666666666666,\"#ed7953\"],[0.7777777777777778,\"#fb9f3a\"],[0.8888888888888888,\"#fdca26\"],[1.0,\"#f0f921\"]]}],\"mesh3d\":[{\"type\":\"mesh3d\",\"colorbar\":{\"outlinewidth\":0,\"ticks\":\"\"}}],\"scatter\":[{\"fillpattern\":{\"fillmode\":\"overlay\",\"size\":10,\"solidity\":0.2},\"type\":\"scatter\"}],\"parcoords\":[{\"type\":\"parcoords\",\"line\":{\"colorbar\":{\"outlinewidth\":0,\"ticks\":\"\"}}}],\"scatterpolargl\":[{\"type\":\"scatterpolargl\",\"marker\":{\"colorbar\":{\"outlinewidth\":0,\"ticks\":\"\"}}}],\"bar\":[{\"error_x\":{\"color\":\"#2a3f5f\"},\"error_y\":{\"color\":\"#2a3f5f\"},\"marker\":{\"line\":{\"color\":\"#E5ECF6\",\"width\":0.5},\"pattern\":{\"fillmode\":\"overlay\",\"size\":10,\"solidity\":0.2}},\"type\":\"bar\"}],\"scattergeo\":[{\"type\":\"scattergeo\",\"marker\":{\"colorbar\":{\"outlinewidth\":0,\"ticks\":\"\"}}}],\"scatterpolar\":[{\"type\":\"scatterpolar\",\"marker\":{\"colorbar\":{\"outlinewidth\":0,\"ticks\":\"\"}}}],\"histogram\":[{\"marker\":{\"pattern\":{\"fillmode\":\"overlay\",\"size\":10,\"solidity\":0.2}},\"type\":\"histogram\"}],\"scattergl\":[{\"type\":\"scattergl\",\"marker\":{\"colorbar\":{\"outlinewidth\":0,\"ticks\":\"\"}}}],\"scatter3d\":[{\"type\":\"scatter3d\",\"line\":{\"colorbar\":{\"outlinewidth\":0,\"ticks\":\"\"}},\"marker\":{\"colorbar\":{\"outlinewidth\":0,\"ticks\":\"\"}}}],\"scattermapbox\":[{\"type\":\"scattermapbox\",\"marker\":{\"colorbar\":{\"outlinewidth\":0,\"ticks\":\"\"}}}],\"scatterternary\":[{\"type\":\"scatterternary\",\"marker\":{\"colorbar\":{\"outlinewidth\":0,\"ticks\":\"\"}}}],\"scattercarpet\":[{\"type\":\"scattercarpet\",\"marker\":{\"colorbar\":{\"outlinewidth\":0,\"ticks\":\"\"}}}],\"carpet\":[{\"aaxis\":{\"endlinecolor\":\"#2a3f5f\",\"gridcolor\":\"white\",\"linecolor\":\"white\",\"minorgridcolor\":\"white\",\"startlinecolor\":\"#2a3f5f\"},\"baxis\":{\"endlinecolor\":\"#2a3f5f\",\"gridcolor\":\"white\",\"linecolor\":\"white\",\"minorgridcolor\":\"white\",\"startlinecolor\":\"#2a3f5f\"},\"type\":\"carpet\"}],\"table\":[{\"cells\":{\"fill\":{\"color\":\"#EBF0F8\"},\"line\":{\"color\":\"white\"}},\"header\":{\"fill\":{\"color\":\"#C8D4E3\"},\"line\":{\"color\":\"white\"}},\"type\":\"table\"}],\"barpolar\":[{\"marker\":{\"line\":{\"color\":\"#E5ECF6\",\"width\":0.5},\"pattern\":{\"fillmode\":\"overlay\",\"size\":10,\"solidity\":0.2}},\"type\":\"barpolar\"}],\"pie\":[{\"automargin\":true,\"type\":\"pie\"}]},\"layout\":{\"autotypenumbers\":\"strict\",\"colorway\":[\"#636efa\",\"#EF553B\",\"#00cc96\",\"#ab63fa\",\"#FFA15A\",\"#19d3f3\",\"#FF6692\",\"#B6E880\",\"#FF97FF\",\"#FECB52\"],\"font\":{\"color\":\"#2a3f5f\"},\"hovermode\":\"closest\",\"hoverlabel\":{\"align\":\"left\"},\"paper_bgcolor\":\"white\",\"plot_bgcolor\":\"#E5ECF6\",\"polar\":{\"bgcolor\":\"#E5ECF6\",\"angularaxis\":{\"gridcolor\":\"white\",\"linecolor\":\"white\",\"ticks\":\"\"},\"radialaxis\":{\"gridcolor\":\"white\",\"linecolor\":\"white\",\"ticks\":\"\"}},\"ternary\":{\"bgcolor\":\"#E5ECF6\",\"aaxis\":{\"gridcolor\":\"white\",\"linecolor\":\"white\",\"ticks\":\"\"},\"baxis\":{\"gridcolor\":\"white\",\"linecolor\":\"white\",\"ticks\":\"\"},\"caxis\":{\"gridcolor\":\"white\",\"linecolor\":\"white\",\"ticks\":\"\"}},\"coloraxis\":{\"colorbar\":{\"outlinewidth\":0,\"ticks\":\"\"}},\"colorscale\":{\"sequential\":[[0.0,\"#0d0887\"],[0.1111111111111111,\"#46039f\"],[0.2222222222222222,\"#7201a8\"],[0.3333333333333333,\"#9c179e\"],[0.4444444444444444,\"#bd3786\"],[0.5555555555555556,\"#d8576b\"],[0.6666666666666666,\"#ed7953\"],[0.7777777777777778,\"#fb9f3a\"],[0.8888888888888888,\"#fdca26\"],[1.0,\"#f0f921\"]],\"sequentialminus\":[[0.0,\"#0d0887\"],[0.1111111111111111,\"#46039f\"],[0.2222222222222222,\"#7201a8\"],[0.3333333333333333,\"#9c179e\"],[0.4444444444444444,\"#bd3786\"],[0.5555555555555556,\"#d8576b\"],[0.6666666666666666,\"#ed7953\"],[0.7777777777777778,\"#fb9f3a\"],[0.8888888888888888,\"#fdca26\"],[1.0,\"#f0f921\"]],\"diverging\":[[0,\"#8e0152\"],[0.1,\"#c51b7d\"],[0.2,\"#de77ae\"],[0.3,\"#f1b6da\"],[0.4,\"#fde0ef\"],[0.5,\"#f7f7f7\"],[0.6,\"#e6f5d0\"],[0.7,\"#b8e186\"],[0.8,\"#7fbc41\"],[0.9,\"#4d9221\"],[1,\"#276419\"]]},\"xaxis\":{\"gridcolor\":\"white\",\"linecolor\":\"white\",\"ticks\":\"\",\"title\":{\"standoff\":15},\"zerolinecolor\":\"white\",\"automargin\":true,\"zerolinewidth\":2},\"yaxis\":{\"gridcolor\":\"white\",\"linecolor\":\"white\",\"ticks\":\"\",\"title\":{\"standoff\":15},\"zerolinecolor\":\"white\",\"automargin\":true,\"zerolinewidth\":2},\"scene\":{\"xaxis\":{\"backgroundcolor\":\"#E5ECF6\",\"gridcolor\":\"white\",\"linecolor\":\"white\",\"showbackground\":true,\"ticks\":\"\",\"zerolinecolor\":\"white\",\"gridwidth\":2},\"yaxis\":{\"backgroundcolor\":\"#E5ECF6\",\"gridcolor\":\"white\",\"linecolor\":\"white\",\"showbackground\":true,\"ticks\":\"\",\"zerolinecolor\":\"white\",\"gridwidth\":2},\"zaxis\":{\"backgroundcolor\":\"#E5ECF6\",\"gridcolor\":\"white\",\"linecolor\":\"white\",\"showbackground\":true,\"ticks\":\"\",\"zerolinecolor\":\"white\",\"gridwidth\":2}},\"shapedefaults\":{\"line\":{\"color\":\"#2a3f5f\"}},\"annotationdefaults\":{\"arrowcolor\":\"#2a3f5f\",\"arrowhead\":0,\"arrowwidth\":1},\"geo\":{\"bgcolor\":\"white\",\"landcolor\":\"#E5ECF6\",\"subunitcolor\":\"white\",\"showland\":true,\"showlakes\":true,\"lakecolor\":\"white\"},\"title\":{\"x\":0.05},\"mapbox\":{\"style\":\"light\"}}}},                        {\"responsive\": true}                    ).then(function(){\n",
       "                            \n",
       "var gd = document.getElementById('40bf6734-b86c-4df5-8ebc-23c1e614baab');\n",
       "var x = new MutationObserver(function (mutations, observer) {{\n",
       "        var display = window.getComputedStyle(gd).display;\n",
       "        if (!display || display === 'none') {{\n",
       "            console.log([gd, 'removed!']);\n",
       "            Plotly.purge(gd);\n",
       "            observer.disconnect();\n",
       "        }}\n",
       "}});\n",
       "\n",
       "// Listen for the removal of the full notebook cells\n",
       "var notebookContainer = gd.closest('#notebook-container');\n",
       "if (notebookContainer) {{\n",
       "    x.observe(notebookContainer, {childList: true});\n",
       "}}\n",
       "\n",
       "// Listen for the clearing of the current output cell\n",
       "var outputEl = gd.closest('.output');\n",
       "if (outputEl) {{\n",
       "    x.observe(outputEl, {childList: true});\n",
       "}}\n",
       "\n",
       "                        })                };                });            </script>        </div>"
      ]
     },
     "metadata": {},
     "output_type": "display_data"
    }
   ],
   "source": [
    "sentence_datasets = { dataset_name: load_sentence_dataset(dataset_name)\n",
    "                      for dataset_name in [\"things\", \"cities\", \"larger_than\"] }\n",
    "\n",
    "for sentence_dataset_name, sentence_dataset in sentence_datasets.items():\n",
    "    train_split_size = int(0.8 * len(sentence_dataset))\n",
    "    test_split_size = len(sentence_dataset) - train_split_size\n",
    "    train_test_split_sizes = [train_split_size, test_split_size]\n",
    "\n",
    "    print()\n",
    "    print(\"collecting activations\")\n",
    "    train_activations_datasets = dict()\n",
    "    test_activations_datasets = dict()\n",
    "    for model_type in models.keys():\n",
    "        train_activations_datasets[model_type], test_activations_datasets[model_type] = \\\n",
    "            make_activations_dataset(models[model_type], sentence_dataset, split=train_test_split_sizes, tqdm_desc=model_type)\n",
    "\n",
    "    print()\n",
    "    print(\"training probes\")\n",
    "    probes = { model_type: train_probes(train_activations_datasets[model_type], tqdm_desc=model_type)\n",
    "               for model_type in models.keys() }\n",
    "\n",
    "    print()\n",
    "    print(\"testing probes\")\n",
    "    probe_test_accuracies = { model_type: test_probes( probes[model_type],\n",
    "                                                       test_activations_datasets[model_type],\n",
    "                                                       tqdm_desc=model_type )[\"accuracies\"]\n",
    "                              for model_type in models.keys() }\n",
    "\n",
    "    plot_probes_accuracies(probe_test_accuracies, title=f\"Probe test accuracies. Dataset: {sentence_dataset_name}\")"
   ]
  }
 ],
 "metadata": {
  "kernelspec": {
   "display_name": "Python 3 (ipykernel)",
   "language": "python",
   "name": "python3"
  },
  "language_info": {
   "codemirror_mode": {
    "name": "ipython",
    "version": 3
   },
   "file_extension": ".py",
   "mimetype": "text/x-python",
   "name": "python",
   "nbconvert_exporter": "python",
   "pygments_lexer": "ipython3",
   "version": "3.9.16"
  }
 },
 "nbformat": 4,
 "nbformat_minor": 2
}
